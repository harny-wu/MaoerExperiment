{
 "cells": [
  {
   "cell_type": "code",
   "outputs": [],
   "source": [],
   "metadata": {
    "collapsed": false
   },
   "id": "27ec84e8b1219b20"
  },
  {
   "cell_type": "code",
   "outputs": [],
   "source": [
    "import pandas as pd"
   ],
   "metadata": {
    "collapsed": false,
    "ExecuteTime": {
     "end_time": "2024-08-13T05:00:06.816334Z",
     "start_time": "2024-08-13T05:00:05.704696Z"
    }
   },
   "id": "1af699c7fed6b3ae",
   "execution_count": 2
  },
  {
   "cell_type": "code",
   "outputs": [],
   "source": [
    "user_sound_feature_0101 = pd.read_csv(\"../../../data/0101_0131_user_sound_feature.csv\")\n",
    "user_sound_feature_0208 = pd.read_csv(\"../../../data/0201_0208_user_sound_feature.csv\")\n"
   ],
   "metadata": {
    "collapsed": false,
    "ExecuteTime": {
     "end_time": "2024-08-13T05:00:07.661139Z",
     "start_time": "2024-08-13T05:00:06.781228Z"
    }
   },
   "id": "f491567e1f9ec793",
   "execution_count": 3
  },
  {
   "cell_type": "code",
   "outputs": [
    {
     "data": {
      "text/plain": "   user_id  sound_id  drama_id  user_in_sound_is_submit_review  \\\n0     5677   6905568     59572                               0   \n1     5677   6922618       519                               1   \n2     5677   6957027     59833                               1   \n3     5677   6994076     60039                               0   \n4     8739   2599441     29156                               0   \n\n   user_in_sound_submit_review_num  \\\n0                                0   \n1                                1   \n2                                1   \n3                                0   \n4                                0   \n\n   user_in_sound_first_review_with_sound_publish_time_diff_days  \\\n0                                                NaN              \n1                                                0.0              \n2                                                1.0              \n3                                                NaN              \n4                                                NaN              \n\n   user_in_sound_latest_review_with_sound_publish_time_diff_days  \\\n0                                                NaN               \n1                                                0.0               \n2                                                1.0               \n3                                                NaN               \n4                                                NaN               \n\n   user_in_sound_review_total_len  user_in_sound_review_len_max  \\\n0                             NaN                           NaN   \n1                            34.0                          34.0   \n2                            22.0                          22.0   \n3                             NaN                           NaN   \n4                             NaN                           NaN   \n\n   user_in_sound_review_len_min  ...  user_in_drama_is_in_drama_fans_reward  \\\n0                           NaN  ...                                    NaN   \n1                          34.0  ...                                    NaN   \n2                          22.0  ...                                    NaN   \n3                           NaN  ...                                    NaN   \n4                           NaN  ...                                    NaN   \n\n   user_in_drama_fans_reward_total_coin  user_in_drama_is_follower_upuser  \\\n0                                   NaN                               NaN   \n1                                   NaN                               NaN   \n2                                   NaN                               NaN   \n3                                   NaN                               NaN   \n4                                   NaN                               NaN   \n\n   user_in_drama_sound_pay_type  \\\n0                           0.0   \n1                           0.0   \n2                           0.0   \n3                           0.0   \n4                           2.0   \n\n   user_in_drama_is_pay_for_drama_until_timewindows  drama_info_pay_type  \\\n0                                               0.0                  0.0   \n1                                               0.0                  0.0   \n2                                               0.0                  0.0   \n3                                               0.0                  0.0   \n4                                               1.0                  2.0   \n\n   sound_info_pay_type  user_in_drama_is_pay_for_drama_in_next_time  pay_FS  \\\n0                  0.0                                            0       0   \n1                  0.0                                            0       0   \n2                  0.0                                            0       0   \n3                  0.0                                            0       0   \n4                  2.0                                            1       1   \n\n   pay_DL  \n0       0  \n1       0  \n2       0  \n3       0  \n4       1  \n\n[5 rows x 41 columns]",
      "text/html": "<div>\n<style scoped>\n    .dataframe tbody tr th:only-of-type {\n        vertical-align: middle;\n    }\n\n    .dataframe tbody tr th {\n        vertical-align: top;\n    }\n\n    .dataframe thead th {\n        text-align: right;\n    }\n</style>\n<table border=\"1\" class=\"dataframe\">\n  <thead>\n    <tr style=\"text-align: right;\">\n      <th></th>\n      <th>user_id</th>\n      <th>sound_id</th>\n      <th>drama_id</th>\n      <th>user_in_sound_is_submit_review</th>\n      <th>user_in_sound_submit_review_num</th>\n      <th>user_in_sound_first_review_with_sound_publish_time_diff_days</th>\n      <th>user_in_sound_latest_review_with_sound_publish_time_diff_days</th>\n      <th>user_in_sound_review_total_len</th>\n      <th>user_in_sound_review_len_max</th>\n      <th>user_in_sound_review_len_min</th>\n      <th>...</th>\n      <th>user_in_drama_is_in_drama_fans_reward</th>\n      <th>user_in_drama_fans_reward_total_coin</th>\n      <th>user_in_drama_is_follower_upuser</th>\n      <th>user_in_drama_sound_pay_type</th>\n      <th>user_in_drama_is_pay_for_drama_until_timewindows</th>\n      <th>drama_info_pay_type</th>\n      <th>sound_info_pay_type</th>\n      <th>user_in_drama_is_pay_for_drama_in_next_time</th>\n      <th>pay_FS</th>\n      <th>pay_DL</th>\n    </tr>\n  </thead>\n  <tbody>\n    <tr>\n      <th>0</th>\n      <td>5677</td>\n      <td>6905568</td>\n      <td>59572</td>\n      <td>0</td>\n      <td>0</td>\n      <td>NaN</td>\n      <td>NaN</td>\n      <td>NaN</td>\n      <td>NaN</td>\n      <td>NaN</td>\n      <td>...</td>\n      <td>NaN</td>\n      <td>NaN</td>\n      <td>NaN</td>\n      <td>0.0</td>\n      <td>0.0</td>\n      <td>0.0</td>\n      <td>0.0</td>\n      <td>0</td>\n      <td>0</td>\n      <td>0</td>\n    </tr>\n    <tr>\n      <th>1</th>\n      <td>5677</td>\n      <td>6922618</td>\n      <td>519</td>\n      <td>1</td>\n      <td>1</td>\n      <td>0.0</td>\n      <td>0.0</td>\n      <td>34.0</td>\n      <td>34.0</td>\n      <td>34.0</td>\n      <td>...</td>\n      <td>NaN</td>\n      <td>NaN</td>\n      <td>NaN</td>\n      <td>0.0</td>\n      <td>0.0</td>\n      <td>0.0</td>\n      <td>0.0</td>\n      <td>0</td>\n      <td>0</td>\n      <td>0</td>\n    </tr>\n    <tr>\n      <th>2</th>\n      <td>5677</td>\n      <td>6957027</td>\n      <td>59833</td>\n      <td>1</td>\n      <td>1</td>\n      <td>1.0</td>\n      <td>1.0</td>\n      <td>22.0</td>\n      <td>22.0</td>\n      <td>22.0</td>\n      <td>...</td>\n      <td>NaN</td>\n      <td>NaN</td>\n      <td>NaN</td>\n      <td>0.0</td>\n      <td>0.0</td>\n      <td>0.0</td>\n      <td>0.0</td>\n      <td>0</td>\n      <td>0</td>\n      <td>0</td>\n    </tr>\n    <tr>\n      <th>3</th>\n      <td>5677</td>\n      <td>6994076</td>\n      <td>60039</td>\n      <td>0</td>\n      <td>0</td>\n      <td>NaN</td>\n      <td>NaN</td>\n      <td>NaN</td>\n      <td>NaN</td>\n      <td>NaN</td>\n      <td>...</td>\n      <td>NaN</td>\n      <td>NaN</td>\n      <td>NaN</td>\n      <td>0.0</td>\n      <td>0.0</td>\n      <td>0.0</td>\n      <td>0.0</td>\n      <td>0</td>\n      <td>0</td>\n      <td>0</td>\n    </tr>\n    <tr>\n      <th>4</th>\n      <td>8739</td>\n      <td>2599441</td>\n      <td>29156</td>\n      <td>0</td>\n      <td>0</td>\n      <td>NaN</td>\n      <td>NaN</td>\n      <td>NaN</td>\n      <td>NaN</td>\n      <td>NaN</td>\n      <td>...</td>\n      <td>NaN</td>\n      <td>NaN</td>\n      <td>NaN</td>\n      <td>2.0</td>\n      <td>1.0</td>\n      <td>2.0</td>\n      <td>2.0</td>\n      <td>1</td>\n      <td>1</td>\n      <td>1</td>\n    </tr>\n  </tbody>\n</table>\n<p>5 rows × 41 columns</p>\n</div>"
     },
     "execution_count": 4,
     "metadata": {},
     "output_type": "execute_result"
    }
   ],
   "source": [
    "user_sound_feature_0101.head()"
   ],
   "metadata": {
    "collapsed": false,
    "ExecuteTime": {
     "end_time": "2024-08-13T05:00:07.704562Z",
     "start_time": "2024-08-13T05:00:07.665012Z"
    }
   },
   "id": "d9890851312f7df6",
   "execution_count": 4
  },
  {
   "cell_type": "code",
   "outputs": [
    {
     "data": {
      "text/plain": "   user_id  sound_id  drama_id  user_in_sound_is_submit_review  \\\n0    24488   7097873     52398                             NaN   \n1    24488   7098368     60133                             NaN   \n2    24488   7098738     60282                             NaN   \n3    24488   7103367     59325                             NaN   \n4    24488   7110119     58128                             NaN   \n\n   user_in_sound_submit_review_num  \\\n0                              NaN   \n1                              NaN   \n2                              NaN   \n3                              NaN   \n4                              NaN   \n\n   user_in_sound_first_review_with_sound_publish_time_diff_days  \\\n0                                                NaN              \n1                                                NaN              \n2                                                NaN              \n3                                                NaN              \n4                                                NaN              \n\n   user_in_sound_latest_review_with_sound_publish_time_diff_days  \\\n0                                                NaN               \n1                                                NaN               \n2                                                NaN               \n3                                                NaN               \n4                                                NaN               \n\n   user_in_sound_review_total_len  user_in_sound_review_len_max  \\\n0                             NaN                           NaN   \n1                             NaN                           NaN   \n2                             NaN                           NaN   \n3                             NaN                           NaN   \n4                             NaN                           NaN   \n\n   user_in_sound_review_len_min  ...  user_in_drama_total_review_num  \\\n0                           NaN  ...                             NaN   \n1                           NaN  ...                             NaN   \n2                           NaN  ...                             NaN   \n3                           NaN  ...                             NaN   \n4                           NaN  ...                             NaN   \n\n   user_in_drama_total_danmu_num  user_in_drama_is_pay_for_drama  \\\n0                            NaN                             NaN   \n1                            NaN                             NaN   \n2                            NaN                             NaN   \n3                            NaN                             NaN   \n4                            NaN                             NaN   \n\n   user_in_drama_is_in_drama_fans_reward  \\\n0                                    NaN   \n1                                    NaN   \n2                                    NaN   \n3                                    NaN   \n4                                    NaN   \n\n   user_in_drama_fans_reward_total_coin  user_in_drama_is_follower_upuser  \\\n0                                   NaN                               NaN   \n1                                   NaN                               NaN   \n2                                   NaN                               NaN   \n3                                   NaN                               NaN   \n4                                   NaN                               NaN   \n\n   user_in_drama_sound_pay_type  drama_info_pay_type  sound_info_pay_type  \\\n0                           2.0                  2.0                  2.0   \n1                           2.0                  2.0                  2.0   \n2                           1.0                  2.0                  0.0   \n3                           2.0                  2.0                  2.0   \n4                           2.0                  2.0                  2.0   \n\n   user_in_drama_is_pay_for_drama_in_next_time  \n0                                          NaN  \n1                                          NaN  \n2                                          NaN  \n3                                          NaN  \n4                                          NaN  \n\n[5 rows x 38 columns]",
      "text/html": "<div>\n<style scoped>\n    .dataframe tbody tr th:only-of-type {\n        vertical-align: middle;\n    }\n\n    .dataframe tbody tr th {\n        vertical-align: top;\n    }\n\n    .dataframe thead th {\n        text-align: right;\n    }\n</style>\n<table border=\"1\" class=\"dataframe\">\n  <thead>\n    <tr style=\"text-align: right;\">\n      <th></th>\n      <th>user_id</th>\n      <th>sound_id</th>\n      <th>drama_id</th>\n      <th>user_in_sound_is_submit_review</th>\n      <th>user_in_sound_submit_review_num</th>\n      <th>user_in_sound_first_review_with_sound_publish_time_diff_days</th>\n      <th>user_in_sound_latest_review_with_sound_publish_time_diff_days</th>\n      <th>user_in_sound_review_total_len</th>\n      <th>user_in_sound_review_len_max</th>\n      <th>user_in_sound_review_len_min</th>\n      <th>...</th>\n      <th>user_in_drama_total_review_num</th>\n      <th>user_in_drama_total_danmu_num</th>\n      <th>user_in_drama_is_pay_for_drama</th>\n      <th>user_in_drama_is_in_drama_fans_reward</th>\n      <th>user_in_drama_fans_reward_total_coin</th>\n      <th>user_in_drama_is_follower_upuser</th>\n      <th>user_in_drama_sound_pay_type</th>\n      <th>drama_info_pay_type</th>\n      <th>sound_info_pay_type</th>\n      <th>user_in_drama_is_pay_for_drama_in_next_time</th>\n    </tr>\n  </thead>\n  <tbody>\n    <tr>\n      <th>0</th>\n      <td>24488</td>\n      <td>7097873</td>\n      <td>52398</td>\n      <td>NaN</td>\n      <td>NaN</td>\n      <td>NaN</td>\n      <td>NaN</td>\n      <td>NaN</td>\n      <td>NaN</td>\n      <td>NaN</td>\n      <td>...</td>\n      <td>NaN</td>\n      <td>NaN</td>\n      <td>NaN</td>\n      <td>NaN</td>\n      <td>NaN</td>\n      <td>NaN</td>\n      <td>2.0</td>\n      <td>2.0</td>\n      <td>2.0</td>\n      <td>NaN</td>\n    </tr>\n    <tr>\n      <th>1</th>\n      <td>24488</td>\n      <td>7098368</td>\n      <td>60133</td>\n      <td>NaN</td>\n      <td>NaN</td>\n      <td>NaN</td>\n      <td>NaN</td>\n      <td>NaN</td>\n      <td>NaN</td>\n      <td>NaN</td>\n      <td>...</td>\n      <td>NaN</td>\n      <td>NaN</td>\n      <td>NaN</td>\n      <td>NaN</td>\n      <td>NaN</td>\n      <td>NaN</td>\n      <td>2.0</td>\n      <td>2.0</td>\n      <td>2.0</td>\n      <td>NaN</td>\n    </tr>\n    <tr>\n      <th>2</th>\n      <td>24488</td>\n      <td>7098738</td>\n      <td>60282</td>\n      <td>NaN</td>\n      <td>NaN</td>\n      <td>NaN</td>\n      <td>NaN</td>\n      <td>NaN</td>\n      <td>NaN</td>\n      <td>NaN</td>\n      <td>...</td>\n      <td>NaN</td>\n      <td>NaN</td>\n      <td>NaN</td>\n      <td>NaN</td>\n      <td>NaN</td>\n      <td>NaN</td>\n      <td>1.0</td>\n      <td>2.0</td>\n      <td>0.0</td>\n      <td>NaN</td>\n    </tr>\n    <tr>\n      <th>3</th>\n      <td>24488</td>\n      <td>7103367</td>\n      <td>59325</td>\n      <td>NaN</td>\n      <td>NaN</td>\n      <td>NaN</td>\n      <td>NaN</td>\n      <td>NaN</td>\n      <td>NaN</td>\n      <td>NaN</td>\n      <td>...</td>\n      <td>NaN</td>\n      <td>NaN</td>\n      <td>NaN</td>\n      <td>NaN</td>\n      <td>NaN</td>\n      <td>NaN</td>\n      <td>2.0</td>\n      <td>2.0</td>\n      <td>2.0</td>\n      <td>NaN</td>\n    </tr>\n    <tr>\n      <th>4</th>\n      <td>24488</td>\n      <td>7110119</td>\n      <td>58128</td>\n      <td>NaN</td>\n      <td>NaN</td>\n      <td>NaN</td>\n      <td>NaN</td>\n      <td>NaN</td>\n      <td>NaN</td>\n      <td>NaN</td>\n      <td>...</td>\n      <td>NaN</td>\n      <td>NaN</td>\n      <td>NaN</td>\n      <td>NaN</td>\n      <td>NaN</td>\n      <td>NaN</td>\n      <td>2.0</td>\n      <td>2.0</td>\n      <td>2.0</td>\n      <td>NaN</td>\n    </tr>\n  </tbody>\n</table>\n<p>5 rows × 38 columns</p>\n</div>"
     },
     "execution_count": 5,
     "metadata": {},
     "output_type": "execute_result"
    }
   ],
   "source": [
    "user_sound_feature_0208.head()"
   ],
   "metadata": {
    "collapsed": false,
    "ExecuteTime": {
     "end_time": "2024-08-13T05:00:07.739894Z",
     "start_time": "2024-08-13T05:00:07.718547Z"
    }
   },
   "id": "fe4bb654159c5208",
   "execution_count": 5
  },
  {
   "cell_type": "code",
   "outputs": [
    {
     "data": {
      "text/plain": "1107"
     },
     "execution_count": 6,
     "metadata": {},
     "output_type": "execute_result"
    }
   ],
   "source": [
    "user_sound_feature_0208[\"drama_id\"].nunique()"
   ],
   "metadata": {
    "collapsed": false,
    "ExecuteTime": {
     "end_time": "2024-08-13T05:00:07.742206Z",
     "start_time": "2024-08-13T05:00:07.725641Z"
    }
   },
   "id": "786c167b077bac0a",
   "execution_count": 6
  },
  {
   "cell_type": "code",
   "outputs": [
    {
     "data": {
      "text/plain": "2174"
     },
     "execution_count": 7,
     "metadata": {},
     "output_type": "execute_result"
    }
   ],
   "source": [
    "user_sound_feature_0101[\"drama_id\"].nunique()\n"
   ],
   "metadata": {
    "collapsed": false,
    "ExecuteTime": {
     "end_time": "2024-08-13T05:00:07.811501Z",
     "start_time": "2024-08-13T05:00:07.735814Z"
    }
   },
   "id": "ec039f1b7c901f01",
   "execution_count": 7
  },
  {
   "cell_type": "code",
   "outputs": [],
   "source": [
    "user_sound_feature = pd.concat([user_sound_feature_0101, user_sound_feature_0208],axis=0,ignore_index=False)"
   ],
   "metadata": {
    "collapsed": false,
    "ExecuteTime": {
     "end_time": "2024-08-13T05:02:20.848923Z",
     "start_time": "2024-08-13T05:02:20.742185Z"
    }
   },
   "id": "f6b6fedb18024bdd",
   "execution_count": 10
  },
  {
   "cell_type": "code",
   "outputs": [
    {
     "data": {
      "text/plain": "(195246, 41)"
     },
     "execution_count": 11,
     "metadata": {},
     "output_type": "execute_result"
    }
   ],
   "source": [
    "user_sound_feature.shape"
   ],
   "metadata": {
    "collapsed": false,
    "ExecuteTime": {
     "end_time": "2024-08-13T05:02:24.968209Z",
     "start_time": "2024-08-13T05:02:24.962254Z"
    }
   },
   "id": "bce18efd07222a6e",
   "execution_count": 11
  },
  {
   "cell_type": "code",
   "outputs": [],
   "source": [],
   "metadata": {
    "collapsed": false
   },
   "id": "d1c2275d19ffe6ad"
  }
 ],
 "metadata": {
  "kernelspec": {
   "display_name": "Python 3",
   "language": "python",
   "name": "python3"
  },
  "language_info": {
   "codemirror_mode": {
    "name": "ipython",
    "version": 2
   },
   "file_extension": ".py",
   "mimetype": "text/x-python",
   "name": "python",
   "nbconvert_exporter": "python",
   "pygments_lexer": "ipython2",
   "version": "2.7.6"
  }
 },
 "nbformat": 4,
 "nbformat_minor": 5
}
