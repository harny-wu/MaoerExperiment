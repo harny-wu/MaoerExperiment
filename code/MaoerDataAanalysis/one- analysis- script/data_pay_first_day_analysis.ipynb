{
 "cells": [
  {
   "cell_type": "code",
   "execution_count": 1,
   "id": "initial_id",
   "metadata": {
    "collapsed": true,
    "ExecuteTime": {
     "end_time": "2024-08-29T12:11:29.099534Z",
     "start_time": "2024-08-29T12:11:27.219921Z"
    }
   },
   "outputs": [],
   "source": [
    "import pandas as pd\n",
    "import matplotlib.pyplot as plt\n"
   ]
  },
  {
   "cell_type": "code",
   "outputs": [],
   "source": [
    "data_folder = \"../../../data/\""
   ],
   "metadata": {
    "collapsed": false,
    "ExecuteTime": {
     "end_time": "2024-08-14T11:13:53.110466Z",
     "start_time": "2024-08-14T11:13:52.958259Z"
    }
   },
   "id": "4cb5075b39c20cfa",
   "execution_count": 2
  },
  {
   "cell_type": "code",
   "outputs": [],
   "source": [
    "danmu_data = pd.read_csv(\"../../../data/activeuser_submit_danmu_sound_with_drama_202211_202303.csv\")"
   ],
   "metadata": {
    "collapsed": false,
    "ExecuteTime": {
     "end_time": "2024-08-14T11:14:00.322097Z",
     "start_time": "2024-08-14T11:13:52.966084Z"
    }
   },
   "id": "554d7652b0eb0cd7",
   "execution_count": 3
  },
  {
   "cell_type": "markdown",
   "source": [],
   "metadata": {
    "collapsed": false
   },
   "id": "4872cf6c7ac1a348"
  },
  {
   "cell_type": "code",
   "outputs": [],
   "source": [
    "danmu_data['date'] = pd.to_datetime(danmu_data['danmu_info_date']).dt.date"
   ],
   "metadata": {
    "collapsed": false,
    "ExecuteTime": {
     "end_time": "2024-08-14T11:17:12.497998Z",
     "start_time": "2024-08-14T11:14:00.365668Z"
    }
   },
   "id": "f9c9e4ed803a0467",
   "execution_count": 4
  },
  {
   "cell_type": "code",
   "outputs": [],
   "source": [
    "danmu_data = danmu_data[danmu_data[\"user_in_drama_sound_pay_type\"] == 2]"
   ],
   "metadata": {
    "collapsed": false,
    "ExecuteTime": {
     "end_time": "2024-08-14T11:17:13.689411Z",
     "start_time": "2024-08-14T11:17:12.500758Z"
    }
   },
   "id": "f861bce1b8ad394d",
   "execution_count": 5
  },
  {
   "cell_type": "code",
   "outputs": [
    {
     "name": "stdout",
     "output_type": "stream",
     "text": [
      "{(1247307, 11)} {499}\n"
     ]
    }
   ],
   "source": [
    "print({danmu_data.shape}, {danmu_data[\"drama_id\"].nunique()})"
   ],
   "metadata": {
    "collapsed": false,
    "ExecuteTime": {
     "end_time": "2024-08-14T11:17:13.724806Z",
     "start_time": "2024-08-14T11:17:13.694433Z"
    }
   },
   "id": "9ffc84fead310f76",
   "execution_count": 6
  },
  {
   "cell_type": "code",
   "outputs": [],
   "source": [],
   "metadata": {
    "collapsed": false
   },
   "id": "102c77ae2b659c27"
  },
  {
   "cell_type": "code",
   "outputs": [],
   "source": [
    "DL_dataset = pd.read_csv(\"../../../data/0101_0131_all_feature.csv\")"
   ],
   "metadata": {
    "collapsed": false,
    "ExecuteTime": {
     "end_time": "2024-08-14T11:17:16.465026Z",
     "start_time": "2024-08-14T11:17:13.717468Z"
    }
   },
   "id": "e1df2cfd21e386d6",
   "execution_count": 7
  },
  {
   "cell_type": "code",
   "outputs": [
    {
     "data": {
      "text/plain": "   user_id  sound_id_id  drama_id  user_name_len  user_name_has_chinese  \\\n0    12304      7017722     52265             18                      0   \n1    24488      6976696     59699             25                      0   \n2    24488      6991707     59328             25                      0   \n3    24488      7018734     59699             25                      0   \n4    24488      7059430     60282             25                      0   \n\n   user_name_has_english  user_intro_len  user_intro_has_chinese  \\\n0                      0             NaN                       0   \n1                      0            60.0                       1   \n2                      0            60.0                       1   \n3                      0            60.0                       1   \n4                      0            60.0                       1   \n\n   user_intro_has_english  user_icon_is_default  ...  k_3_15s_sim  \\\n0                       0                     0  ...     0.913019   \n1                       0                     0  ...     0.835461   \n2                       0                     0  ...     0.826704   \n3                       0                     0  ...     0.743361   \n4                       0                     0  ...     0.878291   \n\n   k_2_8s_sim_q_1_num  k_2_8s_sim_q_2_num  k_2_8s_sim_q_3_num  \\\n0            0.283098            0.468008            0.652918   \n1            0.252245            0.417907            0.583569   \n2            0.248742            0.412480            0.576218   \n3            0.171188            0.284708            0.398228   \n4            0.258000            0.429238            0.600477   \n\n   k_2_15s_sim_q_1_num  k_2_15s_sim_q_2_num  k_2_15s_sim_q_3_num  \\\n0             0.279280             0.461234             0.461234   \n1             0.254123             0.420560             0.420560   \n2             0.252045             0.416657             0.416657   \n3             0.208059             0.345994             0.345994   \n4             0.261848             0.435509             0.435509   \n\n   user_in_drama_is_pay_for_drama_in_next_time  pay_FS  pay_DL  \n0                                            2       2       2  \n1                                            2       2       2  \n2                                            2       2       2  \n3                                            2       2       2  \n4                                            2       2       2  \n\n[5 rows x 666 columns]",
      "text/html": "<div>\n<style scoped>\n    .dataframe tbody tr th:only-of-type {\n        vertical-align: middle;\n    }\n\n    .dataframe tbody tr th {\n        vertical-align: top;\n    }\n\n    .dataframe thead th {\n        text-align: right;\n    }\n</style>\n<table border=\"1\" class=\"dataframe\">\n  <thead>\n    <tr style=\"text-align: right;\">\n      <th></th>\n      <th>user_id</th>\n      <th>sound_id_id</th>\n      <th>drama_id</th>\n      <th>user_name_len</th>\n      <th>user_name_has_chinese</th>\n      <th>user_name_has_english</th>\n      <th>user_intro_len</th>\n      <th>user_intro_has_chinese</th>\n      <th>user_intro_has_english</th>\n      <th>user_icon_is_default</th>\n      <th>...</th>\n      <th>k_3_15s_sim</th>\n      <th>k_2_8s_sim_q_1_num</th>\n      <th>k_2_8s_sim_q_2_num</th>\n      <th>k_2_8s_sim_q_3_num</th>\n      <th>k_2_15s_sim_q_1_num</th>\n      <th>k_2_15s_sim_q_2_num</th>\n      <th>k_2_15s_sim_q_3_num</th>\n      <th>user_in_drama_is_pay_for_drama_in_next_time</th>\n      <th>pay_FS</th>\n      <th>pay_DL</th>\n    </tr>\n  </thead>\n  <tbody>\n    <tr>\n      <th>0</th>\n      <td>12304</td>\n      <td>7017722</td>\n      <td>52265</td>\n      <td>18</td>\n      <td>0</td>\n      <td>0</td>\n      <td>NaN</td>\n      <td>0</td>\n      <td>0</td>\n      <td>0</td>\n      <td>...</td>\n      <td>0.913019</td>\n      <td>0.283098</td>\n      <td>0.468008</td>\n      <td>0.652918</td>\n      <td>0.279280</td>\n      <td>0.461234</td>\n      <td>0.461234</td>\n      <td>2</td>\n      <td>2</td>\n      <td>2</td>\n    </tr>\n    <tr>\n      <th>1</th>\n      <td>24488</td>\n      <td>6976696</td>\n      <td>59699</td>\n      <td>25</td>\n      <td>0</td>\n      <td>0</td>\n      <td>60.0</td>\n      <td>1</td>\n      <td>0</td>\n      <td>0</td>\n      <td>...</td>\n      <td>0.835461</td>\n      <td>0.252245</td>\n      <td>0.417907</td>\n      <td>0.583569</td>\n      <td>0.254123</td>\n      <td>0.420560</td>\n      <td>0.420560</td>\n      <td>2</td>\n      <td>2</td>\n      <td>2</td>\n    </tr>\n    <tr>\n      <th>2</th>\n      <td>24488</td>\n      <td>6991707</td>\n      <td>59328</td>\n      <td>25</td>\n      <td>0</td>\n      <td>0</td>\n      <td>60.0</td>\n      <td>1</td>\n      <td>0</td>\n      <td>0</td>\n      <td>...</td>\n      <td>0.826704</td>\n      <td>0.248742</td>\n      <td>0.412480</td>\n      <td>0.576218</td>\n      <td>0.252045</td>\n      <td>0.416657</td>\n      <td>0.416657</td>\n      <td>2</td>\n      <td>2</td>\n      <td>2</td>\n    </tr>\n    <tr>\n      <th>3</th>\n      <td>24488</td>\n      <td>7018734</td>\n      <td>59699</td>\n      <td>25</td>\n      <td>0</td>\n      <td>0</td>\n      <td>60.0</td>\n      <td>1</td>\n      <td>0</td>\n      <td>0</td>\n      <td>...</td>\n      <td>0.743361</td>\n      <td>0.171188</td>\n      <td>0.284708</td>\n      <td>0.398228</td>\n      <td>0.208059</td>\n      <td>0.345994</td>\n      <td>0.345994</td>\n      <td>2</td>\n      <td>2</td>\n      <td>2</td>\n    </tr>\n    <tr>\n      <th>4</th>\n      <td>24488</td>\n      <td>7059430</td>\n      <td>60282</td>\n      <td>25</td>\n      <td>0</td>\n      <td>0</td>\n      <td>60.0</td>\n      <td>1</td>\n      <td>0</td>\n      <td>0</td>\n      <td>...</td>\n      <td>0.878291</td>\n      <td>0.258000</td>\n      <td>0.429238</td>\n      <td>0.600477</td>\n      <td>0.261848</td>\n      <td>0.435509</td>\n      <td>0.435509</td>\n      <td>2</td>\n      <td>2</td>\n      <td>2</td>\n    </tr>\n  </tbody>\n</table>\n<p>5 rows × 666 columns</p>\n</div>"
     },
     "execution_count": 8,
     "metadata": {},
     "output_type": "execute_result"
    }
   ],
   "source": [
    "DL_dataset.head()"
   ],
   "metadata": {
    "collapsed": false,
    "ExecuteTime": {
     "end_time": "2024-08-14T11:17:16.538627Z",
     "start_time": "2024-08-14T11:17:16.460157Z"
    }
   },
   "id": "e6d706e62620dab7",
   "execution_count": 8
  },
  {
   "cell_type": "code",
   "outputs": [],
   "source": [
    "drama_uniq = DL_dataset[\"drama_id\"].nunique()\n",
    "user_uniq = DL_dataset[\"user_id\"].nunique()\n",
    "sound_uniq = DL_dataset[\"sound_id_id\"].nunique()\n"
   ],
   "metadata": {
    "collapsed": false,
    "ExecuteTime": {
     "end_time": "2024-08-14T11:17:16.547218Z",
     "start_time": "2024-08-14T11:17:16.501016Z"
    }
   },
   "id": "893c457936bfd48b",
   "execution_count": 9
  },
  {
   "cell_type": "code",
   "outputs": [
    {
     "name": "stdout",
     "output_type": "stream",
     "text": [
      "drama_uniq: 345, user_uniq: 8736, sound_uniq :1925\n"
     ]
    }
   ],
   "source": [
    "print(f\"drama_uniq: {drama_uniq}, user_uniq: {user_uniq}, sound_uniq :{sound_uniq}\")"
   ],
   "metadata": {
    "collapsed": false,
    "ExecuteTime": {
     "end_time": "2024-08-14T11:17:16.596725Z",
     "start_time": "2024-08-14T11:17:16.516418Z"
    }
   },
   "id": "40f5b83fcf50ffc0",
   "execution_count": 10
  },
  {
   "cell_type": "code",
   "outputs": [
    {
     "data": {
      "text/plain": "2    12622\n1     9290\nName: pay_FS, dtype: int64"
     },
     "execution_count": 11,
     "metadata": {},
     "output_type": "execute_result"
    }
   ],
   "source": [
    "DL_dataset[\"pay_FS\"].value_counts()"
   ],
   "metadata": {
    "collapsed": false,
    "ExecuteTime": {
     "end_time": "2024-08-14T11:17:16.678204Z",
     "start_time": "2024-08-14T11:17:16.526448Z"
    }
   },
   "id": "2b1d963f9beb54f2",
   "execution_count": 11
  },
  {
   "cell_type": "code",
   "outputs": [],
   "source": [
    "drama_list  = DL_dataset[\"drama_id\"].unique().tolist()"
   ],
   "metadata": {
    "collapsed": false,
    "ExecuteTime": {
     "end_time": "2024-08-14T11:17:16.680943Z",
     "start_time": "2024-08-14T11:17:16.535020Z"
    }
   },
   "id": "e116ddfc686f7fb6",
   "execution_count": 12
  },
  {
   "cell_type": "code",
   "outputs": [
    {
     "data": {
      "text/plain": "345"
     },
     "execution_count": 13,
     "metadata": {},
     "output_type": "execute_result"
    }
   ],
   "source": [
    "len(drama_list)"
   ],
   "metadata": {
    "collapsed": false,
    "ExecuteTime": {
     "end_time": "2024-08-14T11:17:16.718150Z",
     "start_time": "2024-08-14T11:17:16.541771Z"
    }
   },
   "id": "aef910663ac3e558",
   "execution_count": 13
  },
  {
   "cell_type": "code",
   "outputs": [],
   "source": [
    "danmu_data_0101_drama_id =danmu_data[danmu_data ['drama_id'].isin(drama_list)]\n",
    "danmu_data_0101_drama_id_in_2023 = danmu_data_0101_drama_id[pd.to_datetime(danmu_data_0101_drama_id['date']) >= '2023-01-01']\n"
   ],
   "metadata": {
    "collapsed": false,
    "ExecuteTime": {
     "end_time": "2024-08-14T11:17:17.080794Z",
     "start_time": "2024-08-14T11:17:16.552250Z"
    }
   },
   "id": "817e96d6fb40172d",
   "execution_count": 14
  },
  {
   "cell_type": "code",
   "outputs": [
    {
     "data": {
      "text/plain": "(626548, 11)"
     },
     "execution_count": 15,
     "metadata": {},
     "output_type": "execute_result"
    }
   ],
   "source": [
    "danmu_data_0101_drama_id_in_2023.shape"
   ],
   "metadata": {
    "collapsed": false,
    "ExecuteTime": {
     "end_time": "2024-08-14T11:17:17.129086Z",
     "start_time": "2024-08-14T11:17:16.993570Z"
    }
   },
   "id": "4cd8509584f6453f",
   "execution_count": 15
  },
  {
   "cell_type": "code",
   "outputs": [
    {
     "data": {
      "text/plain": "          user_id  sound_id  drama_id   danmu_id    danmu_info_date  \\\n1128495   3302421   1248850     21380  212394565  1/1/2023 00:00:23   \n1128496  11516421   6906178     52351  212394568  1/1/2023 00:00:27   \n1128497  24283466   3810503     37773  212394577  1/1/2023 00:00:35   \n1128499   7232864   4404115     41776  212394586  1/1/2023 00:00:41   \n1128500   7232864   4404115     41776  212394600  1/1/2023 00:00:53   \n\n         danmu_info_stime_notransform danmu_info_text  \\\n1128495                        954.00        超级会顺毛的佳佳   \n1128496                       2326.42      噗哈哈哈哈哈哈哈哈哈   \n1128497                        264.57     哈哈哈哈哈哈哈哈哈哈哈   \n1128499                        351.00        哈哈哈哈哈哈哈哈   \n1128500                        363.00             好黏糊   \n\n         user_in_drama_sound_pay_type  drama_info_pay_type  \\\n1128495                           2.0                  2.0   \n1128496                           2.0                  2.0   \n1128497                           2.0                  2.0   \n1128499                           2.0                  2.0   \n1128500                           2.0                  2.0   \n\n         sound_info_pay_type        date  \n1128495                  2.0  2023-01-01  \n1128496                  2.0  2023-01-01  \n1128497                  2.0  2023-01-01  \n1128499                  2.0  2023-01-01  \n1128500                  2.0  2023-01-01  ",
      "text/html": "<div>\n<style scoped>\n    .dataframe tbody tr th:only-of-type {\n        vertical-align: middle;\n    }\n\n    .dataframe tbody tr th {\n        vertical-align: top;\n    }\n\n    .dataframe thead th {\n        text-align: right;\n    }\n</style>\n<table border=\"1\" class=\"dataframe\">\n  <thead>\n    <tr style=\"text-align: right;\">\n      <th></th>\n      <th>user_id</th>\n      <th>sound_id</th>\n      <th>drama_id</th>\n      <th>danmu_id</th>\n      <th>danmu_info_date</th>\n      <th>danmu_info_stime_notransform</th>\n      <th>danmu_info_text</th>\n      <th>user_in_drama_sound_pay_type</th>\n      <th>drama_info_pay_type</th>\n      <th>sound_info_pay_type</th>\n      <th>date</th>\n    </tr>\n  </thead>\n  <tbody>\n    <tr>\n      <th>1128495</th>\n      <td>3302421</td>\n      <td>1248850</td>\n      <td>21380</td>\n      <td>212394565</td>\n      <td>1/1/2023 00:00:23</td>\n      <td>954.00</td>\n      <td>超级会顺毛的佳佳</td>\n      <td>2.0</td>\n      <td>2.0</td>\n      <td>2.0</td>\n      <td>2023-01-01</td>\n    </tr>\n    <tr>\n      <th>1128496</th>\n      <td>11516421</td>\n      <td>6906178</td>\n      <td>52351</td>\n      <td>212394568</td>\n      <td>1/1/2023 00:00:27</td>\n      <td>2326.42</td>\n      <td>噗哈哈哈哈哈哈哈哈哈</td>\n      <td>2.0</td>\n      <td>2.0</td>\n      <td>2.0</td>\n      <td>2023-01-01</td>\n    </tr>\n    <tr>\n      <th>1128497</th>\n      <td>24283466</td>\n      <td>3810503</td>\n      <td>37773</td>\n      <td>212394577</td>\n      <td>1/1/2023 00:00:35</td>\n      <td>264.57</td>\n      <td>哈哈哈哈哈哈哈哈哈哈哈</td>\n      <td>2.0</td>\n      <td>2.0</td>\n      <td>2.0</td>\n      <td>2023-01-01</td>\n    </tr>\n    <tr>\n      <th>1128499</th>\n      <td>7232864</td>\n      <td>4404115</td>\n      <td>41776</td>\n      <td>212394586</td>\n      <td>1/1/2023 00:00:41</td>\n      <td>351.00</td>\n      <td>哈哈哈哈哈哈哈哈</td>\n      <td>2.0</td>\n      <td>2.0</td>\n      <td>2.0</td>\n      <td>2023-01-01</td>\n    </tr>\n    <tr>\n      <th>1128500</th>\n      <td>7232864</td>\n      <td>4404115</td>\n      <td>41776</td>\n      <td>212394600</td>\n      <td>1/1/2023 00:00:53</td>\n      <td>363.00</td>\n      <td>好黏糊</td>\n      <td>2.0</td>\n      <td>2.0</td>\n      <td>2.0</td>\n      <td>2023-01-01</td>\n    </tr>\n  </tbody>\n</table>\n</div>"
     },
     "execution_count": 16,
     "metadata": {},
     "output_type": "execute_result"
    }
   ],
   "source": [
    "\n",
    "danmu_data_0101_drama_id_in_2023.head()"
   ],
   "metadata": {
    "collapsed": false,
    "ExecuteTime": {
     "end_time": "2024-08-14T11:17:17.174870Z",
     "start_time": "2024-08-14T11:17:17.014946Z"
    }
   },
   "id": "ca476c9a75f472ea",
   "execution_count": 16
  },
  {
   "cell_type": "code",
   "outputs": [
    {
     "data": {
      "text/plain": "count    626548.0\nmean          2.0\nstd           0.0\nmin           2.0\n25%           2.0\n50%           2.0\n75%           2.0\nmax           2.0\nName: user_in_drama_sound_pay_type, dtype: float64"
     },
     "execution_count": 17,
     "metadata": {},
     "output_type": "execute_result"
    }
   ],
   "source": [
    "danmu_data_0101_drama_id_in_2023[\"user_in_drama_sound_pay_type\"].describe()"
   ],
   "metadata": {
    "collapsed": false,
    "ExecuteTime": {
     "end_time": "2024-08-14T11:17:17.198758Z",
     "start_time": "2024-08-14T11:17:17.023744Z"
    }
   },
   "id": "2f78eafabea9b45",
   "execution_count": 17
  },
  {
   "cell_type": "code",
   "outputs": [],
   "source": [
    "grouped_df = danmu_data_0101_drama_id_in_2023.groupby(['drama_id','user_id'])['date'].agg(['max', 'min'])\n"
   ],
   "metadata": {
    "collapsed": false,
    "ExecuteTime": {
     "end_time": "2024-08-14T11:17:27.938377Z",
     "start_time": "2024-08-14T11:17:17.059328Z"
    }
   },
   "id": "4e9a0d3401f2c763",
   "execution_count": 18
  },
  {
   "cell_type": "code",
   "outputs": [],
   "source": [
    "grouped_df.to_csv(\"pay_first_day_data.csv\")"
   ],
   "metadata": {
    "collapsed": false,
    "ExecuteTime": {
     "end_time": "2024-08-14T11:17:28.168668Z",
     "start_time": "2024-08-14T11:17:27.940369Z"
    }
   },
   "id": "153b328290b4feac",
   "execution_count": 19
  },
  {
   "cell_type": "code",
   "outputs": [
    {
     "data": {
      "text/plain": "                          max         min\ndrama_id user_id                         \n9059     292616    2023-01-18  2023-01-17\n         443054    2023-01-20  2023-01-20\n         2883235   2023-02-24  2023-02-24\n         3605365   2023-05-03  2023-02-03\n         3939253   2023-01-30  2023-01-30\n...                       ...         ...\n60366    23102659  2023-02-21  2023-02-21\n         23523561  2023-05-03  2023-02-19\n         23914281  2023-11-03  2023-10-03\n         23980609  2023-05-03  2023-02-26\n         24064810  2023-03-03  2023-02-26\n\n[57142 rows x 2 columns]",
      "text/html": "<div>\n<style scoped>\n    .dataframe tbody tr th:only-of-type {\n        vertical-align: middle;\n    }\n\n    .dataframe tbody tr th {\n        vertical-align: top;\n    }\n\n    .dataframe thead th {\n        text-align: right;\n    }\n</style>\n<table border=\"1\" class=\"dataframe\">\n  <thead>\n    <tr style=\"text-align: right;\">\n      <th></th>\n      <th></th>\n      <th>max</th>\n      <th>min</th>\n    </tr>\n    <tr>\n      <th>drama_id</th>\n      <th>user_id</th>\n      <th></th>\n      <th></th>\n    </tr>\n  </thead>\n  <tbody>\n    <tr>\n      <th rowspan=\"5\" valign=\"top\">9059</th>\n      <th>292616</th>\n      <td>2023-01-18</td>\n      <td>2023-01-17</td>\n    </tr>\n    <tr>\n      <th>443054</th>\n      <td>2023-01-20</td>\n      <td>2023-01-20</td>\n    </tr>\n    <tr>\n      <th>2883235</th>\n      <td>2023-02-24</td>\n      <td>2023-02-24</td>\n    </tr>\n    <tr>\n      <th>3605365</th>\n      <td>2023-05-03</td>\n      <td>2023-02-03</td>\n    </tr>\n    <tr>\n      <th>3939253</th>\n      <td>2023-01-30</td>\n      <td>2023-01-30</td>\n    </tr>\n    <tr>\n      <th>...</th>\n      <th>...</th>\n      <td>...</td>\n      <td>...</td>\n    </tr>\n    <tr>\n      <th rowspan=\"5\" valign=\"top\">60366</th>\n      <th>23102659</th>\n      <td>2023-02-21</td>\n      <td>2023-02-21</td>\n    </tr>\n    <tr>\n      <th>23523561</th>\n      <td>2023-05-03</td>\n      <td>2023-02-19</td>\n    </tr>\n    <tr>\n      <th>23914281</th>\n      <td>2023-11-03</td>\n      <td>2023-10-03</td>\n    </tr>\n    <tr>\n      <th>23980609</th>\n      <td>2023-05-03</td>\n      <td>2023-02-26</td>\n    </tr>\n    <tr>\n      <th>24064810</th>\n      <td>2023-03-03</td>\n      <td>2023-02-26</td>\n    </tr>\n  </tbody>\n</table>\n<p>57142 rows × 2 columns</p>\n</div>"
     },
     "execution_count": 20,
     "metadata": {},
     "output_type": "execute_result"
    }
   ],
   "source": [
    "grouped_df"
   ],
   "metadata": {
    "collapsed": false,
    "ExecuteTime": {
     "end_time": "2024-08-14T11:17:28.186227Z",
     "start_time": "2024-08-14T11:17:28.168901Z"
    }
   },
   "id": "de614872439f93ce",
   "execution_count": 20
  },
  {
   "cell_type": "code",
   "outputs": [
    {
     "data": {
      "text/plain": "count          57142\nunique            74\ntop       2023-01-13\nfreq            2389\nName: min, dtype: object"
     },
     "execution_count": 21,
     "metadata": {},
     "output_type": "execute_result"
    }
   ],
   "source": [
    "grouped_df[\"min\"].describe()"
   ],
   "metadata": {
    "collapsed": false,
    "ExecuteTime": {
     "end_time": "2024-08-14T11:17:28.256268Z",
     "start_time": "2024-08-14T11:17:28.205876Z"
    }
   },
   "id": "7c71adcc0d19eb3c",
   "execution_count": 21
  },
  {
   "cell_type": "code",
   "outputs": [],
   "source": [],
   "metadata": {
    "collapsed": false,
    "ExecuteTime": {
     "end_time": "2024-08-14T11:17:28.258370Z",
     "start_time": "2024-08-14T11:17:28.214795Z"
    }
   },
   "id": "3296c01914f9bea8",
   "execution_count": 21
  },
  {
   "cell_type": "code",
   "outputs": [],
   "source": [
    "min_pay = grouped_df[\"min\"].value_counts().sort_index()"
   ],
   "metadata": {
    "collapsed": false,
    "ExecuteTime": {
     "end_time": "2024-08-14T11:17:28.334491Z",
     "start_time": "2024-08-14T11:17:28.230393Z"
    }
   },
   "id": "a1ae5d8bcdddb442",
   "execution_count": 22
  },
  {
   "cell_type": "code",
   "outputs": [
    {
     "data": {
      "text/plain": "2023-01-01    1804\n2023-01-02    1516\n2023-01-03    1186\n2023-01-13    2389\n2023-01-14    1723\n              ... \n2023-11-02     463\n2023-11-03     397\n2023-12-01     442\n2023-12-02     390\n2023-12-03     371\nName: min, Length: 74, dtype: int64"
     },
     "execution_count": 23,
     "metadata": {},
     "output_type": "execute_result"
    }
   ],
   "source": [
    "min_pay"
   ],
   "metadata": {
    "collapsed": false,
    "ExecuteTime": {
     "end_time": "2024-08-14T11:17:28.337080Z",
     "start_time": "2024-08-14T11:17:28.238697Z"
    }
   },
   "id": "8b045ba413c4ae29",
   "execution_count": 23
  },
  {
   "cell_type": "code",
   "outputs": [
    {
     "data": {
      "text/plain": "Text(0.5, 1.0, 'Value Counts')"
     },
     "execution_count": 24,
     "metadata": {},
     "output_type": "execute_result"
    },
    {
     "data": {
      "text/plain": "<Figure size 1200x600 with 1 Axes>",
      "image/png": "[encoded data removed]"
     },
     "metadata": {},
     "output_type": "display_data"
    }
   ],
   "source": [
    "# 使用plot()方法绘制条形图，并设置图片大小\n",
    "min_pay.plot(kind='bar', figsize=(12, 6))\n",
    "\n",
    "# 调整横坐标长度\n",
    "plt.xticks(rotation=45)\n",
    "\n",
    "# 添加图表标题和轴标签\n",
    "plt.title('Value Counts')"
   ],
   "metadata": {
    "collapsed": false,
    "ExecuteTime": {
     "end_time": "2024-08-14T11:17:29.663109Z",
     "start_time": "2024-08-14T11:17:28.247481Z"
    }
   },
   "id": "79ef19876007e1a2",
   "execution_count": 24
  },
  {
   "cell_type": "code",
   "outputs": [],
   "source": [
    "first_pay = pd.read_csv(\"pay_first_day_data.csv\")"
   ],
   "metadata": {
    "collapsed": false,
    "ExecuteTime": {
     "end_time": "2024-08-14T11:17:29.843679Z",
     "start_time": "2024-08-14T11:17:29.663690Z"
    }
   },
   "id": "d4841a6d15c7b6cf",
   "execution_count": 25
  },
  {
   "cell_type": "code",
   "outputs": [
    {
     "data": {
      "text/plain": "       drama_id   user_id         max         min\n0          9059    292616  2023-01-18  2023-01-17\n1          9059    443054  2023-01-20  2023-01-20\n2          9059   2883235  2023-02-24  2023-02-24\n3          9059   3605365  2023-05-03  2023-02-03\n4          9059   3939253  2023-01-30  2023-01-30\n...         ...       ...         ...         ...\n57137     60366  23102659  2023-02-21  2023-02-21\n57138     60366  23523561  2023-05-03  2023-02-19\n57139     60366  23914281  2023-11-03  2023-10-03\n57140     60366  23980609  2023-05-03  2023-02-26\n57141     60366  24064810  2023-03-03  2023-02-26\n\n[57142 rows x 4 columns]",
      "text/html": "<div>\n<style scoped>\n    .dataframe tbody tr th:only-of-type {\n        vertical-align: middle;\n    }\n\n    .dataframe tbody tr th {\n        vertical-align: top;\n    }\n\n    .dataframe thead th {\n        text-align: right;\n    }\n</style>\n<table border=\"1\" class=\"dataframe\">\n  <thead>\n    <tr style=\"text-align: right;\">\n      <th></th>\n      <th>drama_id</th>\n      <th>user_id</th>\n      <th>max</th>\n      <th>min</th>\n    </tr>\n  </thead>\n  <tbody>\n    <tr>\n      <th>0</th>\n      <td>9059</td>\n      <td>292616</td>\n      <td>2023-01-18</td>\n      <td>2023-01-17</td>\n    </tr>\n    <tr>\n      <th>1</th>\n      <td>9059</td>\n      <td>443054</td>\n      <td>2023-01-20</td>\n      <td>2023-01-20</td>\n    </tr>\n    <tr>\n      <th>2</th>\n      <td>9059</td>\n      <td>2883235</td>\n      <td>2023-02-24</td>\n      <td>2023-02-24</td>\n    </tr>\n    <tr>\n      <th>3</th>\n      <td>9059</td>\n      <td>3605365</td>\n      <td>2023-05-03</td>\n      <td>2023-02-03</td>\n    </tr>\n    <tr>\n      <th>4</th>\n      <td>9059</td>\n      <td>3939253</td>\n      <td>2023-01-30</td>\n      <td>2023-01-30</td>\n    </tr>\n    <tr>\n      <th>...</th>\n      <td>...</td>\n      <td>...</td>\n      <td>...</td>\n      <td>...</td>\n    </tr>\n    <tr>\n      <th>57137</th>\n      <td>60366</td>\n      <td>23102659</td>\n      <td>2023-02-21</td>\n      <td>2023-02-21</td>\n    </tr>\n    <tr>\n      <th>57138</th>\n      <td>60366</td>\n      <td>23523561</td>\n      <td>2023-05-03</td>\n      <td>2023-02-19</td>\n    </tr>\n    <tr>\n      <th>57139</th>\n      <td>60366</td>\n      <td>23914281</td>\n      <td>2023-11-03</td>\n      <td>2023-10-03</td>\n    </tr>\n    <tr>\n      <th>57140</th>\n      <td>60366</td>\n      <td>23980609</td>\n      <td>2023-05-03</td>\n      <td>2023-02-26</td>\n    </tr>\n    <tr>\n      <th>57141</th>\n      <td>60366</td>\n      <td>24064810</td>\n      <td>2023-03-03</td>\n      <td>2023-02-26</td>\n    </tr>\n  </tbody>\n</table>\n<p>57142 rows × 4 columns</p>\n</div>"
     },
     "execution_count": 26,
     "metadata": {},
     "output_type": "execute_result"
    }
   ],
   "source": [
    "first_pay"
   ],
   "metadata": {
    "collapsed": false,
    "ExecuteTime": {
     "end_time": "2024-08-14T11:17:29.846966Z",
     "start_time": "2024-08-14T11:17:29.710122Z"
    }
   },
   "id": "445fc39d217ce36b",
   "execution_count": 26
  },
  {
   "cell_type": "code",
   "outputs": [],
   "source": [
    "drama_min_pay_map = {}\n",
    "for idx ,row in first_pay.iterrows():\n",
    "    drama_min_pay_map[str(row[\"drama_id\"]) + \"-\" + str(row[\"user_id\"])] = row['min']"
   ],
   "metadata": {
    "collapsed": false,
    "ExecuteTime": {
     "end_time": "2024-08-14T11:17:33.517553Z",
     "start_time": "2024-08-14T11:17:29.732576Z"
    }
   },
   "id": "cd74079519c83b0",
   "execution_count": 27
  },
  {
   "cell_type": "code",
   "outputs": [
    {
     "data": {
      "text/plain": "{'9059-292616': '2023-01-17',\n '9059-443054': '2023-01-20',\n '9059-2883235': '2023-02-24',\n '9059-3605365': '2023-02-03',\n '9059-3939253': '2023-01-30',\n '9059-4266052': '2023-03-03',\n '9059-4519570': '2023-06-01',\n '9059-5206166': '2023-02-21',\n '9059-6958474': '2023-01-16',\n '9059-11434302': '2023-02-15',\n '9059-14441280': '2023-01-30',\n '9059-15229918': '2023-02-25',\n '9059-16237180': '2023-04-01',\n '9059-16778491': '2023-02-15',\n '9059-16926982': '2023-10-01',\n '9059-19572981': '2023-09-01',\n '9059-22438091': '2023-09-02',\n '9059-22442213': '2023-09-02',\n '9059-23914281': '2023-01-14',\n '9888-2930748': '2023-09-01',\n '9888-3008150': '2023-01-13',\n '9888-3069735': '2023-08-02',\n '9888-3202126': '2023-02-28',\n '9888-3273896': '2023-10-03',\n '9888-3325018': '2023-01-16',\n '9888-3583683': '2023-02-03',\n '9888-3687199': '2023-02-13',\n '9888-3749634': '2023-06-03',\n '9888-3769588': '2023-02-21',\n '9888-4035042': '2023-02-03',\n '9888-4075375': '2023-01-23',\n '9888-4126022': '2023-02-01',\n '9888-4134643': '2023-02-24',\n '9888-4147605': '2023-08-03',\n '9888-4212167': '2023-01-02',\n '9888-4235417': '2023-10-01',\n '9888-4247430': '2023-02-27',\n '9888-4343538': '2023-01-28',\n '9888-4355911': '2023-02-01',\n '9888-4395324': '2023-05-03',\n '9888-4443013': '2023-01-21',\n '9888-4526989': '2023-09-01',\n '9888-4573880': '2023-02-22',\n '9888-5002431': '2023-10-01',\n '9888-5086379': '2023-09-03',\n '9888-5298127': '2023-08-03',\n '9888-5350105': '2023-01-18',\n '9888-5527531': '2023-04-03',\n '9888-5553420': '2023-01-14',\n '9888-5736812': '2023-01-24',\n '9888-5794055': '2023-01-30',\n '9888-5870642': '2023-01-28',\n '9888-5970479': '2023-09-02',\n '9888-6133525': '2023-02-21',\n '9888-6209599': '2023-02-01',\n '9888-6210492': '2023-11-02',\n '9888-6287964': '2023-01-19',\n '9888-6670681': '2023-09-02',\n '9888-6840718': '2023-06-03',\n '9888-6849376': '2023-01-28',\n '9888-6861760': '2023-05-03',\n '9888-6958474': '2023-10-01',\n '9888-6965322': '2023-01-27',\n '9888-7148766': '2023-02-27',\n '9888-7253710': '2023-06-02',\n '9888-7275487': '2023-03-03',\n '9888-7396096': '2023-07-02',\n '9888-7438700': '2023-01-13',\n '9888-7615961': '2023-01-01',\n '9888-7749662': '2023-03-01',\n '9888-7814703': '2023-04-02',\n '9888-7872600': '2023-01-03',\n '9888-8107913': '2023-01-02',\n '9888-8120288': '2023-02-14',\n '9888-8228878': '2023-07-02',\n '9888-8251096': '2023-02-17',\n '9888-8288498': '2023-01-28',\n '9888-8290147': '2023-06-01',\n '9888-8437646': '2023-01-25',\n '9888-8466049': '2023-01-21',\n '9888-8719326': '2023-02-27',\n '9888-8801929': '2023-06-03',\n '9888-8829609': '2023-06-01',\n '9888-8830413': '2023-01-29',\n '9888-8886398': '2023-05-01',\n '9888-8915438': '2023-01-01',\n '9888-8943435': '2023-01-25',\n '9888-9255831': '2023-02-23',\n '9888-9305961': '2023-02-22',\n '9888-9358554': '2023-02-19',\n '9888-9376766': '2023-01-31',\n '9888-9383221': '2023-07-03',\n '9888-9580020': '2023-02-14',\n '9888-9750664': '2023-02-20',\n '9888-9783149': '2023-04-01',\n '9888-9831506': '2023-12-02',\n '9888-9975164': '2023-03-02',\n '9888-10127924': '2023-05-03',\n '9888-10188699': '2023-06-02',\n '9888-10207650': '2023-05-03',\n '9888-10372731': '2023-01-14',\n '9888-10473364': '2023-02-16',\n '9888-10542320': '2023-01-30',\n '9888-10767777': '2023-04-02',\n '9888-10816012': '2023-02-28',\n '9888-11281080': '2023-01-28',\n '9888-11494691': '2023-01-14',\n '9888-11517753': '2023-04-02',\n '9888-11581321': '2023-04-01',\n '9888-11588343': '2023-01-13',\n '9888-11724770': '2023-02-13',\n '9888-11785963': '2023-08-02',\n '9888-12018587': '2023-02-21',\n '9888-12083721': '2023-06-01',\n '9888-12131773': '2023-06-02',\n '9888-12162203': '2023-01-30',\n '9888-12222397': '2023-02-01',\n '9888-12383643': '2023-01-19',\n '9888-12384512': '2023-04-03',\n '9888-12417215': '2023-06-03',\n '9888-12804016': '2023-01-30',\n '9888-13010884': '2023-05-02',\n '9888-13084656': '2023-01-23',\n '9888-13332786': '2023-01-16',\n '9888-13686434': '2023-02-20',\n '9888-13760772': '2023-12-01',\n '9888-13812920': '2023-04-01',\n '9888-14051441': '2023-02-20',\n '9888-14057726': '2023-06-02',\n '9888-14230833': '2023-07-03',\n '9888-14663182': '2023-10-02',\n '9888-14669363': '2023-03-01',\n '9888-14827155': '2023-04-02',\n '9888-14898992': '2023-02-20',\n '9888-15278041': '2023-05-03',\n '9888-15695350': '2023-02-28',\n '9888-15805360': '2023-12-01',\n '9888-16215765': '2023-01-30',\n '9888-16217527': '2023-04-03',\n '9888-16654779': '2023-07-01',\n '9888-16930511': '2023-10-02',\n '9888-17254970': '2023-01-19',\n '9888-17269623': '2023-02-28',\n '9888-17380183': '2023-12-02',\n '9888-17732460': '2023-05-02',\n '9888-18356702': '2023-02-01',\n '9888-18536127': '2023-01-16',\n '9888-18550338': '2023-05-01',\n '9888-18684249': '2023-09-02',\n '9888-18710164': '2023-08-02',\n '9888-19005112': '2023-01-26',\n '9888-19128771': '2023-01-22',\n '9888-19187239': '2023-01-13',\n '9888-19329001': '2023-02-23',\n '9888-19348544': '2023-01-24',\n '9888-19779172': '2023-02-15',\n '9888-20569769': '2023-08-03',\n '9888-20753444': '2023-01-31',\n '9888-20873450': '2023-05-03',\n '9888-21188289': '2023-01-22',\n '9888-21568896': '2023-02-20',\n '9888-21929656': '2023-02-01',\n '9888-22104241': '2023-03-01',\n '9888-22220333': '2023-10-01',\n '9888-23843267': '2023-05-02',\n '9888-24027976': '2023-02-20',\n '9888-24057357': '2023-02-24',\n '13774-4118700': '2023-10-01',\n '13774-4438241': '2023-02-26',\n '13774-4443013': '2023-03-02',\n '13774-4705217': '2023-05-01',\n '13774-4720824': '2023-10-01',\n '13774-4891738': '2023-01-13',\n '13774-7182431': '2023-01-01',\n '13774-9700391': '2023-07-01',\n '13774-9765471': '2023-07-03',\n '13774-11444548': '2023-04-02',\n '13774-12629417': '2023-01-03',\n '13774-14187820': '2023-01-27',\n '13774-19622366': '2023-02-25',\n '13774-20494112': '2023-05-01',\n '13774-20814881': '2023-02-25',\n '14103-4819018': '2023-03-02',\n '15273-4053060': '2023-05-03',\n '15273-5201865': '2023-08-01',\n '15273-7050298': '2023-08-01',\n '15861-253699': '2023-01-21',\n '15861-401403': '2023-11-01',\n '15861-459478': '2023-01-29',\n '15861-2993912': '2023-08-03',\n '15861-3078355': '2023-02-14',\n '15861-3141563': '2023-07-01',\n '15861-3161924': '2023-01-27',\n '15861-3417510': '2023-01-18',\n '15861-3420123': '2023-10-02',\n '15861-3421694': '2023-01-02',\n '15861-3437005': '2023-02-17',\n '15861-3540178': '2023-02-24',\n '15861-3570264': '2023-10-01',\n '15861-3570915': '2023-01-25',\n '15861-3587931': '2023-02-15',\n '15861-3597696': '2023-01-14',\n '15861-3605365': '2023-06-02',\n '15861-3621515': '2023-10-01',\n '15861-3633481': '2023-01-22',\n '15861-3637941': '2023-01-17',\n '15861-3638734': '2023-05-03',\n '15861-3644482': '2023-02-17',\n '15861-3707946': '2023-05-01',\n '15861-3720055': '2023-09-03',\n '15861-3720674': '2023-06-02',\n '15861-3723545': '2023-02-22',\n '15861-3755301': '2023-03-02',\n '15861-3806568': '2023-12-02',\n '15861-3899718': '2023-02-17',\n '15861-3911658': '2023-02-28',\n '15861-3912400': '2023-01-26',\n '15861-3917394': '2023-01-31',\n '15861-3938123': '2023-07-03',\n '15861-3971124': '2023-01-18',\n '15861-4038530': '2023-02-02',\n '15861-4054385': '2023-02-24',\n '15861-4094883': '2023-02-16',\n '15861-4132467': '2023-02-18',\n '15861-4180289': '2023-01-18',\n '15861-4263172': '2023-01-14',\n '15861-4306920': '2023-01-23',\n '15861-4377107': '2023-05-01',\n '15861-4380117': '2023-02-24',\n '15861-4388610': '2023-12-02',\n '15861-4405613': '2023-01-13',\n '15861-4443013': '2023-02-20',\n '15861-4519495': '2023-02-23',\n '15861-4525312': '2023-11-01',\n '15861-4563330': '2023-01-03',\n '15861-4566351': '2023-09-01',\n '15861-4574523': '2023-10-01',\n '15861-4616437': '2023-01-19',\n '15861-4636835': '2023-07-02',\n '15861-4644821': '2023-01-20',\n '15861-4669632': '2023-02-25',\n '15861-4674433': '2023-01-18',\n '15861-4723910': '2023-03-01',\n '15861-4816566': '2023-02-16',\n '15861-4940666': '2023-11-03',\n '15861-5044678': '2023-01-25',\n '15861-5067616': '2023-03-01',\n '15861-5101653': '2023-05-03',\n '15861-5171000': '2023-01-01',\n '15861-5182666': '2023-02-01',\n '15861-5270440': '2023-01-29',\n '15861-5362707': '2023-02-13',\n '15861-5543041': '2023-01-16',\n '15861-5861813': '2023-01-03',\n '15861-5893928': '2023-02-01',\n '15861-5898192': '2023-01-15',\n '15861-5923641': '2023-04-01',\n '15861-5928575': '2023-01-30',\n '15861-5942799': '2023-07-01',\n '15861-5985890': '2023-01-14',\n '15861-5997993': '2023-01-31',\n '15861-6025920': '2023-02-22',\n '15861-6031163': '2023-11-01',\n '15861-6097047': '2023-01-29',\n '15861-6310846': '2023-02-24',\n '15861-6322819': '2023-02-16',\n '15861-6341457': '2023-04-02',\n '15861-6401301': '2023-11-03',\n '15861-6639361': '2023-09-02',\n '15861-6678985': '2023-09-01',\n '15861-6702007': '2023-11-03',\n '15861-6708338': '2023-03-02',\n '15861-6780260': '2023-02-18',\n '15861-6796078': '2023-02-15',\n '15861-6812334': '2023-02-16',\n '15861-6837388': '2023-09-03',\n '15861-6840805': '2023-02-27',\n '15861-6875186': '2023-01-18',\n '15861-6884400': '2023-01-03',\n '15861-6901000': '2023-01-22',\n '15861-6943722': '2023-01-25',\n '15861-6969873': '2023-07-01',\n '15861-6980496': '2023-04-02',\n '15861-7048873': '2023-02-25',\n '15861-7130077': '2023-02-15',\n '15861-7153202': '2023-05-02',\n '15861-7168717': '2023-01-30',\n '15861-7182431': '2023-04-01',\n '15861-7338693': '2023-05-02',\n '15861-7344329': '2023-01-17',\n '15861-7390196': '2023-02-16',\n '15861-7408377': '2023-01-01',\n '15861-7459637': '2023-02-28',\n '15861-7493942': '2023-02-01',\n '15861-7509364': '2023-02-26',\n '15861-7526087': '2023-01-27',\n '15861-7552450': '2023-07-01',\n '15861-7615961': '2023-11-01',\n '15861-7621628': '2023-01-28',\n '15861-7758782': '2023-09-01',\n '15861-7813855': '2023-02-22',\n '15861-7861885': '2023-01-15',\n '15861-7879802': '2023-02-13',\n '15861-7901763': '2023-02-22',\n '15861-7945193': '2023-01-19',\n '15861-7982403': '2023-01-15',\n '15861-8001596': '2023-01-18',\n '15861-8099075': '2023-01-01',\n '15861-8123265': '2023-03-03',\n '15861-8221582': '2023-01-20',\n '15861-8238740': '2023-02-01',\n '15861-8239271': '2023-09-01',\n '15861-8275088': '2023-06-02',\n '15861-8290147': '2023-01-15',\n '15861-8310174': '2023-01-24',\n '15861-8358058': '2023-01-18',\n '15861-8369712': '2023-01-13',\n '15861-8384154': '2023-03-02',\n '15861-8542407': '2023-01-30',\n '15861-8564743': '2023-02-28',\n '15861-8596879': '2023-01-01',\n '15861-8630453': '2023-05-02',\n '15861-8657467': '2023-01-31',\n '15861-8782930': '2023-02-01',\n '15861-8831423': '2023-01-18',\n '15861-8840203': '2023-08-02',\n '15861-8968404': '2023-06-03',\n '15861-8976912': '2023-01-26',\n '15861-8992662': '2023-10-01',\n '15861-9028958': '2023-10-02',\n '15861-9051630': '2023-01-21',\n '15861-9151393': '2023-02-01',\n '15861-9300034': '2023-03-02',\n '15861-9359954': '2023-04-02',\n '15861-9490783': '2023-09-01',\n '15861-9692345': '2023-07-01',\n '15861-9695379': '2023-01-26',\n '15861-9697268': '2023-07-01',\n '15861-9856264': '2023-01-29',\n '15861-10001861': '2023-01-02',\n '15861-10020675': '2023-04-01',\n '15861-10025396': '2023-09-01',\n '15861-10031692': '2023-01-13',\n '15861-10109279': '2023-03-02',\n '15861-10332846': '2023-02-17',\n '15861-10428737': '2023-05-01',\n '15861-10460407': '2023-10-01',\n '15861-10542320': '2023-02-23',\n '15861-10612192': '2023-01-25',\n '15861-10883345': '2023-02-24',\n '15861-11009084': '2023-01-13',\n '15861-11040910': '2023-02-27',\n '15861-11064656': '2023-02-26',\n '15861-11089479': '2023-01-31',\n '15861-11090064': '2023-01-14',\n '15861-11179611': '2023-01-19',\n '15861-11282071': '2023-01-14',\n '15861-11375829': '2023-02-01',\n '15861-11609799': '2023-11-01',\n '15861-11626989': '2023-01-15',\n '15861-11687392': '2023-01-22',\n '15861-11695394': '2023-01-17',\n '15861-11752018': '2023-09-03',\n '15861-11753119': '2023-01-02',\n '15861-11855026': '2023-02-22',\n '15861-11859173': '2023-07-03',\n '15861-11979937': '2023-11-01',\n '15861-12179685': '2023-01-25',\n '15861-12221575': '2023-01-14',\n '15861-12379274': '2023-02-19',\n '15861-13267230': '2023-02-16',\n '15861-13407027': '2023-02-22',\n '15861-13461797': '2023-01-03',\n '15861-13472388': '2023-11-02',\n '15861-13540176': '2023-01-13',\n '15861-13584802': '2023-01-23',\n '15861-13715074': '2023-01-17',\n '15861-13732763': '2023-02-23',\n '15861-13831982': '2023-12-02',\n '15861-13881013': '2023-01-22',\n '15861-13984741': '2023-01-16',\n '15861-14063556': '2023-01-14',\n '15861-14245287': '2023-02-14',\n '15861-14287286': '2023-02-23',\n '15861-14340036': '2023-02-18',\n '15861-14426405': '2023-08-03',\n '15861-14441280': '2023-08-01',\n '15861-14501183': '2023-02-03',\n '15861-14533121': '2023-02-02',\n '15861-15337502': '2023-02-02',\n '15861-15464038': '2023-01-15',\n '15861-15760425': '2023-12-02',\n '15861-15782420': '2023-02-13',\n '15861-15820609': '2023-03-02',\n '15861-15905512': '2023-01-16',\n '15861-15991317': '2023-01-20',\n '15861-16103798': '2023-05-01',\n '15861-16297703': '2023-01-03',\n '15861-16419241': '2023-01-21',\n '15861-16516200': '2023-01-03',\n '15861-16859766': '2023-10-01',\n '15861-16964575': '2023-02-22',\n '15861-17046197': '2023-03-02',\n '15861-17168209': '2023-01-28',\n '15861-17418868': '2023-01-16',\n '15861-17586721': '2023-02-26',\n '15861-17824192': '2023-01-28',\n '15861-17880509': '2023-02-26',\n '15861-18038081': '2023-06-01',\n '15861-18153946': '2023-09-03',\n '15861-18494225': '2023-01-02',\n '15861-18717175': '2023-02-21',\n '15861-19187239': '2023-01-30',\n '15861-19216439': '2023-01-28',\n '15861-19252851': '2023-01-14',\n '15861-19294543': '2023-12-02',\n '15861-19961362': '2023-11-01',\n '15861-20004495': '2023-04-02',\n '15861-20125292': '2023-02-13',\n '15861-20696654': '2023-02-16',\n '15861-20997457': '2023-01-14',\n '15861-21184471': '2023-02-01',\n '15861-21377476': '2023-01-18',\n '15861-21810553': '2023-01-01',\n '15861-22115429': '2023-01-18',\n '15861-22425130': '2023-08-03',\n '15861-22442213': '2023-09-03',\n '15861-22758905': '2023-01-01',\n '15861-22818554': '2023-03-02',\n '15861-22941364': '2023-11-03',\n '15861-23006343': '2023-09-02',\n '15861-23318824': '2023-02-18',\n '15861-23418860': '2023-02-02',\n '15861-23736066': '2023-10-03',\n '15861-24013479': '2023-02-24',\n '15861-24505582': '2023-04-01',\n '16437-8743752': '2023-02-18',\n '16437-23126853': '2023-07-01',\n '16730-3006566': '2023-02-23',\n '16730-3047041': '2023-04-02',\n '16730-3265703': '2023-01-26',\n '16730-3350572': '2023-01-20',\n '16730-3571385': '2023-06-02',\n '16730-3741181': '2023-07-03',\n '16730-4895279': '2023-04-02',\n '16730-5707392': '2023-01-02',\n '16730-7623028': '2023-11-03',\n '16730-7640308': '2023-02-14',\n '16730-7690988': '2023-01-20',\n '16730-7877790': '2023-02-27',\n '16730-8227724': '2023-02-15',\n '16730-8797983': '2023-02-25',\n '16730-8858684': '2023-01-29',\n '16730-8860105': '2023-08-02',\n '16730-9656150': '2023-02-15',\n '16730-10542320': '2023-02-15',\n '16730-10900809': '2023-01-29',\n '16730-10945506': '2023-02-22',\n '16730-11948330': '2023-01-30',\n '16730-12783940': '2023-03-03',\n '16730-14441280': '2023-08-01',\n '16730-14913201': '2023-02-22',\n '16730-14918831': '2023-01-01',\n '16730-17762681': '2023-02-01',\n '16730-18581102': '2023-02-01',\n '16730-19077181': '2023-02-27',\n '16730-19363097': '2023-07-01',\n '16730-20929246': '2023-02-28',\n '17132-502584': '2023-09-03',\n '17132-2826503': '2023-01-01',\n '17132-2837460': '2023-04-01',\n '17132-3005337': '2023-02-23',\n '17132-3005760': '2023-11-02',\n '17132-3037827': '2023-10-01',\n '17132-3069735': '2023-02-13',\n '17132-3202126': '2023-01-03',\n '17132-3262632': '2023-04-02',\n '17132-3263219': '2023-02-01',\n '17132-3273896': '2023-09-03',\n '17132-3288774': '2023-02-02',\n '17132-3323340': '2023-02-25',\n '17132-3325018': '2023-01-23',\n '17132-3489815': '2023-02-27',\n '17132-3538739': '2023-04-02',\n '17132-3539876': '2023-01-03',\n '17132-3584881': '2023-11-01',\n '17132-3616946': '2023-09-02',\n '17132-3641392': '2023-01-13',\n '17132-3656204': '2023-01-03',\n '17132-3664305': '2023-02-18',\n '17132-3681362': '2023-08-03',\n '17132-3807578': '2023-02-26',\n '17132-3833509': '2023-01-29',\n '17132-3903913': '2023-01-01',\n '17132-3913239': '2023-05-01',\n '17132-4019583': '2023-02-24',\n '17132-4041682': '2023-03-01',\n '17132-4124371': '2023-03-02',\n '17132-4134643': '2023-02-26',\n '17132-4171939': '2023-02-17',\n '17132-4212167': '2023-03-02',\n '17132-4220753': '2023-01-26',\n '17132-4233368': '2023-02-28',\n '17132-4270707': '2023-08-01',\n '17132-4311920': '2023-10-01',\n '17132-4343538': '2023-06-02',\n '17132-4415404': '2023-08-03',\n '17132-4456064': '2023-02-16',\n '17132-4466096': '2023-06-01',\n '17132-4526989': '2023-01-16',\n '17132-4536605': '2023-10-01',\n '17132-4537614': '2023-08-01',\n '17132-4574523': '2023-02-18',\n '17132-4578601': '2023-03-01',\n '17132-4590329': '2023-01-01',\n '17132-4638652': '2023-02-27',\n '17132-4698475': '2023-02-02',\n '17132-4700468': '2023-07-02',\n '17132-4728769': '2023-10-02',\n '17132-4750944': '2023-02-20',\n '17132-4757988': '2023-11-03',\n '17132-4787220': '2023-02-14',\n '17132-4811547': '2023-07-01',\n '17132-4902487': '2023-06-01',\n '17132-5168674': '2023-04-02',\n '17132-5197129': '2023-08-02',\n '17132-5202508': '2023-01-17',\n '17132-5307561': '2023-02-15',\n '17132-5498281': '2023-02-28',\n '17132-5589666': '2023-10-01',\n '17132-5663151': '2023-01-17',\n '17132-5726320': '2023-01-01',\n '17132-5809811': '2023-01-26',\n '17132-5831746': '2023-05-02',\n '17132-5855544': '2023-09-02',\n '17132-5870642': '2023-01-02',\n '17132-5970479': '2023-10-03',\n '17132-5985890': '2023-02-19',\n '17132-6044954': '2023-04-01',\n '17132-6054754': '2023-02-23',\n '17132-6101993': '2023-08-03',\n '17132-6132325': '2023-01-01',\n '17132-6209599': '2023-03-01',\n '17132-6210122': '2023-03-03',\n '17132-6238420': '2023-02-03',\n '17132-6248978': '2023-01-28',\n '17132-6284348': '2023-04-03',\n '17132-6292374': '2023-01-01',\n '17132-6322629': '2023-04-01',\n '17132-6399715': '2023-02-02',\n '17132-6571291': '2023-02-01',\n '17132-6657051': '2023-10-01',\n '17132-6670681': '2023-02-16',\n '17132-6683692': '2023-02-20',\n '17132-6760242': '2023-02-17',\n '17132-6767531': '2023-02-15',\n '17132-6819293': '2023-03-03',\n '17132-6840718': '2023-07-03',\n '17132-6861760': '2023-09-03',\n '17132-6958474': '2023-01-14',\n '17132-6965322': '2023-01-27',\n '17132-7024892': '2023-06-01',\n '17132-7156530': '2023-03-02',\n '17132-7188828': '2023-01-01',\n '17132-7362889': '2023-08-02',\n '17132-7396096': '2023-10-02',\n '17132-7433666': '2023-02-13',\n '17132-7438700': '2023-01-18',\n '17132-7532640': '2023-02-21',\n '17132-7535206': '2023-01-03',\n '17132-7607328': '2023-01-01',\n '17132-7615961': '2023-02-01',\n '17132-7645099': '2023-02-21',\n '17132-7749662': '2023-06-01',\n '17132-7814703': '2023-02-02',\n '17132-7872600': '2023-01-31',\n '17132-8107913': '2023-02-13',\n '17132-8178211': '2023-10-03',\n '17132-8273772': '2023-05-03',\n '17132-8283204': '2023-04-01',\n '17132-8290147': '2023-02-01',\n '17132-8359989': '2023-12-02',\n '17132-8391269': '2023-01-31',\n '17132-8649890': '2023-01-16',\n '17132-8829609': '2023-01-13',\n '17132-8859782': '2023-07-02',\n '17132-8867195': '2023-07-01',\n '17132-8902894': '2023-03-01',\n '17132-8914793': '2023-01-28',\n '17132-8943435': '2023-04-02',\n '17132-9053801': '2023-07-01',\n '17132-9120937': '2023-03-01',\n '17132-9131553': '2023-05-02',\n '17132-9388699': '2023-05-01',\n '17132-9573164': '2023-12-01',\n '17132-9750664': '2023-01-16',\n '17132-9873446': '2023-06-01',\n '17132-9975164': '2023-05-02',\n '17132-10194397': '2023-02-22',\n '17132-10216877': '2023-01-29',\n '17132-10345746': '2023-09-02',\n '17132-10458593': '2023-01-28',\n '17132-10473364': '2023-10-02',\n '17132-10542320': '2023-01-02',\n '17132-10700521': '2023-06-03',\n '17132-10816012': '2023-08-02',\n '17132-11299939': '2023-09-02',\n '17132-11351614': '2023-07-02',\n '17132-11378593': '2023-02-13',\n '17132-11593892': '2023-11-01',\n '17132-11918654': '2023-07-02',\n '17132-11977157': '2023-05-03',\n '17132-12105143': '2023-01-02',\n '17132-12162203': '2023-01-15',\n '17132-12222397': '2023-01-13',\n '17132-12311800': '2023-05-02',\n '17132-12701655': '2023-02-15',\n '17132-12783940': '2023-01-26',\n '17132-13529950': '2023-04-03',\n '17132-13628106': '2023-02-26',\n '17132-13686434': '2023-01-03',\n '17132-13747467': '2023-01-13',\n '17132-13760772': '2023-02-20',\n '17132-13812920': '2023-09-01',\n '17132-13930220': '2023-09-03',\n '17132-14051441': '2023-02-22',\n '17132-14057726': '2023-02-27',\n '17132-14058778': '2023-10-02',\n '17132-14135193': '2023-01-29',\n '17132-14156078': '2023-02-21',\n '17132-14221214': '2023-11-01',\n '17132-14231990': '2023-01-28',\n '17132-14304927': '2023-11-03',\n '17132-14441280': '2023-04-01',\n '17132-14475781': '2023-02-01',\n '17132-14489741': '2023-01-28',\n '17132-14590099': '2023-07-02',\n '17132-14663182': '2023-12-02',\n '17132-14669363': '2023-01-13',\n '17132-14908002': '2023-04-01',\n '17132-15153875': '2023-03-03',\n '17132-15278041': '2023-01-18',\n '17132-15458624': '2023-05-01',\n '17132-16268244': '2023-01-21',\n '17132-16654779': '2023-01-28',\n '17132-16674386': '2023-01-14',\n '17132-16920336': '2023-11-01',\n '17132-16930511': '2023-02-26',\n '17132-17191776': '2023-01-30',\n '17132-17204059': '2023-02-01',\n '17132-17254970': '2023-01-28',\n '17132-17269623': '2023-05-03',\n '17132-17342132': '2023-03-03',\n '17132-17626017': '2023-01-25',\n '17132-17720242': '2023-02-23',\n '17132-17831010': '2023-02-16',\n '17132-18315691': '2023-01-02',\n '17132-18710164': '2023-02-03',\n '17132-19005112': '2023-02-25',\n '17132-19143680': '2023-01-16',\n '17132-19157345': '2023-01-20',\n '17132-19326026': '2023-01-26',\n '17132-19329001': '2023-02-24',\n '17132-19526462': '2023-11-01',\n '17132-20930300': '2023-03-01',\n '17132-21188289': '2023-01-26',\n '17132-21568896': '2023-02-23',\n '17132-21656922': '2023-01-15',\n '17132-22000165': '2023-01-23',\n '17132-22104241': '2023-04-01',\n '17132-22128961': '2023-01-21',\n '17132-22292382': '2023-02-26',\n '17132-23375297': '2023-11-03',\n '17132-24027976': '2023-02-20',\n '17132-24028146': '2023-01-15',\n '17132-24057357': '2023-02-21',\n '17350-292616': '2023-01-27',\n '17350-297801': '2023-02-01',\n '17350-2826503': '2023-09-02',\n '17350-3279680': '2023-01-31',\n '17350-3782355': '2023-07-01',\n '17350-3892311': '2023-02-01',\n '17350-4282202': '2023-09-01',\n '17350-4420093': '2023-02-28',\n '17350-4662928': '2023-02-19',\n '17350-4740053': '2023-04-03',\n '17350-5657232': '2023-04-03',\n '17350-5725568': '2023-01-29',\n '17350-6414778': '2023-10-03',\n '17350-6571291': '2023-01-16',\n '17350-6718071': '2023-01-14',\n '17350-6965322': '2023-01-01',\n '17350-7175798': '2023-01-18',\n '17350-7695767': '2023-01-31',\n '17350-8182729': '2023-02-24',\n '17350-8712945': '2023-08-03',\n '17350-8796863': '2023-04-02',\n '17350-9701494': '2023-02-02',\n '17350-10770171': '2023-01-31',\n '17350-11009084': '2023-01-14',\n '17350-11193213': '2023-07-01',\n '17350-11361749': '2023-01-19',\n '17350-11674666': '2023-02-02',\n '17350-11832139': '2023-01-13',\n '17350-12032575': '2023-01-14',\n '17350-12157838': '2023-07-03',\n '17350-12405990': '2023-07-01',\n '17350-14291062': '2023-02-19',\n '17350-14898992': '2023-01-26',\n '17350-16778491': '2023-06-03',\n '17350-16960968': '2023-03-03',\n '17350-17732460': '2023-10-02',\n '17350-20310969': '2023-08-01',\n '17350-20766496': '2023-02-13',\n '17350-20814881': '2023-02-13',\n '17350-22460701': '2023-12-02',\n '17350-23670328': '2023-01-01',\n '17350-23931307': '2023-01-23',\n '17633-12533426': '2023-09-01',\n '17678-3592590': '2023-05-01',\n '17678-3679600': '2023-05-03',\n '17678-3756228': '2023-02-14',\n '17678-3898510': '2023-01-24',\n '17678-4389028': '2023-11-03',\n '17678-4951635': '2023-06-02',\n '17678-4982610': '2023-02-14',\n '17678-5031246': '2023-01-18',\n '17678-5261163': '2023-08-02',\n '17678-5754235': '2023-01-29',\n '17678-6354705': '2023-02-18',\n '17678-6775886': '2023-01-15',\n '17678-7130941': '2023-04-02',\n '17678-7132415': '2023-01-16',\n '17678-7186891': '2023-01-01',\n '17678-7245882': '2023-01-15',\n '17678-7674448': '2023-01-14',\n '17678-7714113': '2023-01-01',\n '17678-8352482': '2023-04-02',\n '17678-8632691': '2023-06-02',\n '17678-8933945': '2023-01-14',\n '17678-10141070': '2023-01-28',\n '17678-10463097': '2023-01-14',\n '17678-10728442': '2023-01-29',\n '17678-12017413': '2023-10-03',\n '17678-12379274': '2023-02-27',\n '17678-12393711': '2023-02-13',\n '17678-12778516': '2023-01-13',\n '17678-12957556': '2023-02-14',\n '17678-13061250': '2023-02-01',\n '17678-13930784': '2023-01-23',\n '17678-14408499': '2023-01-01',\n '17678-14442529': '2023-08-03',\n '17678-17046197': '2023-01-16',\n '17678-18045547': '2023-07-01',\n '17678-18387760': '2023-02-17',\n '17678-19318738': '2023-04-02',\n '17678-19826665': '2023-07-02',\n '17678-21580324': '2023-12-02',\n '17678-21649275': '2023-08-02',\n '17678-21984780': '2023-01-23',\n '17678-22083572': '2023-05-01',\n '17678-22236466': '2023-04-02',\n '17678-24209956': '2023-01-19',\n '17678-24228646': '2023-01-27',\n '18147-3584104': '2023-01-17',\n '18147-3675616': '2023-02-15',\n '18147-4470018': '2023-01-28',\n '18147-4605312': '2023-08-02',\n '18147-5420238': '2023-01-25',\n '18147-8674026': '2023-06-02',\n '18147-9448398': '2023-04-02',\n '18147-11114900': '2023-05-02',\n '18147-11156099': '2023-02-21',\n '18147-11784756': '2023-12-02',\n '18147-13513352': '2023-01-16',\n '18147-21264042': '2023-03-02',\n '18147-24389769': '2023-08-03',\n '19057-3194722': '2023-05-02',\n '19057-3225221': '2023-04-01',\n '19057-3277443': '2023-02-20',\n '19057-3350572': '2023-01-25',\n '19057-3505986': '2023-02-21',\n '19057-3511300': '2023-02-21',\n '19057-3641392': '2023-01-30',\n '19057-3876305': '2023-02-20',\n '19057-4408626': '2023-08-01',\n '19057-4468714': '2023-01-26',\n '19057-4491620': '2023-01-23',\n '19057-5654587': '2023-10-03',\n '19057-5707392': '2023-02-02',\n '19057-6008629': '2023-12-01',\n '19057-6197201': '2023-02-13',\n '19057-6683692': '2023-02-26',\n '19057-6985700': '2023-02-21',\n '19057-7640308': '2023-02-14',\n '19057-7877790': '2023-02-03',\n '19057-8860105': '2023-10-02',\n '19057-9656150': '2023-02-16',\n '19057-10542320': '2023-02-16',\n '19057-11856762': '2023-01-02',\n '19057-12843160': '2023-06-02',\n '19057-14913201': '2023-02-23',\n '19057-17762681': '2023-02-01',\n '19057-18581102': '2023-04-01',\n '19057-20777952': '2023-02-01',\n '19057-21138545': '2023-04-02',\n '19059-41527': '2023-03-03',\n '19059-280337': '2023-01-25',\n '19059-401403': '2023-12-01',\n '19059-459478': '2023-01-02',\n '19059-2850874': '2023-01-18',\n '19059-2938019': '2023-12-02',\n '19059-3077522': '2023-01-28',\n '19059-3078355': '2023-01-16',\n '19059-3149649': '2023-01-01',\n '19059-3161924': '2023-01-02',\n '19059-3234754': '2023-04-01',\n '19059-3417510': '2023-01-19',\n '19059-3421694': '2023-02-02',\n '19059-3437005': '2023-02-17',\n '19059-3540178': '2023-02-26',\n '19059-3567708': '2023-01-17',\n '19059-3587931': '2023-02-17',\n '19059-3605365': '2023-07-02',\n '19059-3621515': '2023-11-01',\n '19059-3631752': '2023-06-03',\n '19059-3635099': '2023-01-27',\n '19059-3638734': '2023-02-22',\n '19059-3647999': '2023-02-24',\n '19059-3720674': '2023-08-02',\n '19059-3730999': '2023-06-01',\n '19059-3739935': '2023-10-01',\n '19059-3767976': '2023-11-02',\n '19059-3799490': '2023-02-19',\n '19059-3858836': '2023-01-20',\n '19059-3899718': '2023-02-18',\n '19059-3933035': '2023-02-25',\n '19059-4005910': '2023-06-01',\n '19059-4043188': '2023-02-13',\n '19059-4094883': '2023-02-16',\n '19059-4104017': '2023-01-14',\n '19059-4169478': '2023-07-01',\n '19059-4207820': '2023-10-01',\n '19059-4210895': '2023-01-19',\n '19059-4277899': '2023-01-01',\n '19059-4289335': '2023-08-02',\n '19059-4306920': '2023-01-24',\n '19059-4323586': '2023-04-01',\n '19059-4377107': '2023-01-13',\n '19059-4430905': '2023-06-02',\n '19059-4438963': '2023-08-01',\n '19059-4443013': '2023-06-01',\n '19059-4465707': '2023-01-22',\n '19059-4525312': '2023-01-15',\n '19059-4563330': '2023-01-03',\n '19059-4574523': '2023-11-01',\n '19059-4610182': '2023-06-01',\n '19059-4616437': '2023-11-03',\n '19059-4622718': '2023-04-01',\n '19059-4628597': '2023-01-28',\n '19059-4644821': '2023-01-21',\n '19059-4713926': '2023-02-14',\n '19059-4721898': '2023-09-03',\n '19059-4723910': '2023-06-01',\n '19059-4728523': '2023-05-03',\n '19059-4780285': '2023-08-02',\n '19059-4787232': '2023-01-01',\n '19059-4892209': '2023-01-30',\n '19059-5009276': '2023-01-21',\n '19059-5099304': '2023-02-15',\n '19059-5351409': '2023-01-01',\n '19059-5355994': '2023-02-13',\n '19059-5469224': '2023-01-25',\n '19059-5534996': '2023-01-13',\n '19059-5543041': '2023-02-13',\n '19059-5586934': '2023-01-29',\n '19059-5647127': '2023-01-20',\n '19059-5728004': '2023-05-03',\n '19059-5831746': '2023-05-01',\n '19059-5892213': '2023-04-02',\n '19059-5893928': '2023-02-01',\n '19059-5898192': '2023-01-20',\n '19059-5903799': '2023-01-25',\n '19059-5923641': '2023-04-01',\n '19059-5942799': '2023-01-23',\n '19059-5985890': '2023-04-01',\n '19059-6025920': '2023-02-23',\n '19059-6031163': '2023-01-16',\n '19059-6067961': '2023-02-25',\n '19059-6086376': '2023-01-30',\n '19059-6097047': '2023-10-02',\n '19059-6112401': '2023-05-01',\n '19059-6178353': '2023-02-02',\n '19059-6291629': '2023-02-17',\n '19059-6292374': '2023-11-01',\n '19059-6335326': '2023-02-03',\n '19059-6596169': '2023-02-15',\n '19059-6608175': '2023-09-02',\n '19059-6647214': '2023-02-20',\n '19059-6662922': '2023-09-01',\n '19059-6702007': '2023-11-03',\n '19059-6708338': '2023-03-03',\n '19059-6780260': '2023-02-03',\n '19059-6859379': '2023-09-03',\n '19059-6884400': '2023-08-03',\n '19059-6901000': '2023-01-23',\n '19059-6926368': '2023-09-03',\n '19059-6967222': '2023-05-01',\n '19059-6980496': '2023-05-02',\n '19059-7034197': '2023-01-15',\n '19059-7035779': '2023-01-24',\n '19059-7048873': '2023-06-01',\n '19059-7134572': '2023-02-24',\n '19059-7135423': '2023-10-03',\n '19059-7344329': '2023-01-20',\n '19059-7357833': '2023-07-02',\n '19059-7390196': '2023-02-16',\n '19059-7509364': '2023-02-03',\n '19059-7621628': '2023-01-02',\n '19059-7677308': '2023-02-16',\n '19059-7758782': '2023-01-16',\n '19059-7813855': '2023-02-26',\n '19059-7861885': '2023-01-16',\n '19059-7888853': '2023-01-01',\n '19059-7901763': '2023-02-25',\n '19059-7945193': '2023-01-25',\n '19059-7982403': '2023-01-16',\n '19059-8001596': '2023-01-19',\n '19059-8017640': '2023-06-02',\n '19059-8099075': '2023-11-02',\n '19059-8123265': '2023-01-01',\n '19059-8156850': '2023-10-02',\n '19059-8234428': '2023-02-01',\n '19059-8238740': '2023-02-01',\n '19059-8291022': '2023-10-02',\n '19059-8310174': '2023-01-23',\n '19059-8358058': '2023-01-27',\n '19059-8417144': '2023-08-02',\n '19059-8473029': '2023-07-01',\n '19059-8485799': '2023-01-24',\n '19059-8492795': '2023-02-25',\n '19059-8542407': '2023-01-30',\n '19059-8577276': '2023-10-02',\n '19059-8657467': '2023-02-19',\n '19059-8727339': '2023-03-01',\n '19059-8759943': '2023-01-17',\n '19059-8796863': '2023-01-23',\n '19059-8884050': '2023-12-01',\n '19059-8891407': '2023-08-02',\n '19059-8972739': '2023-03-01',\n '19059-8992662': '2023-11-01',\n '19059-9014440': '2023-01-26',\n '19059-9022315': '2023-01-26',\n '19059-9028958': '2023-02-13',\n '19059-9031147': '2023-11-03',\n '19059-9221871': '2023-11-01',\n '19059-9414047': '2023-01-26',\n '19059-9438471': '2023-03-02',\n '19059-9490783': '2023-01-13',\n '19059-9511865': '2023-01-29',\n '19059-9552420': '2023-04-02',\n '19059-9665252': '2023-01-16',\n '19059-9750664': '2023-12-01',\n '19059-10025396': '2023-10-01',\n '19059-10428737': '2023-01-16',\n '19059-10430389': '2023-01-24',\n '19059-10707258': '2023-01-03',\n '19059-10734562': '2023-01-01',\n '19059-10961889': '2023-09-01',\n '19059-11006038': '2023-11-01',\n '19059-11064656': '2023-01-02',\n '19059-11089479': '2023-02-14',\n '19059-11090064': '2023-01-15',\n '19059-11193213': '2023-08-01',\n '19059-11330839': '2023-02-02',\n '19059-11341971': '2023-07-01',\n '19059-11348746': '2023-01-20',\n '19059-11391865': '2023-01-16',\n '19059-11518624': '2023-04-01',\n '19059-11519469': '2023-10-01',\n '19059-11539452': '2023-01-17',\n '19059-11592890': '2023-01-14',\n '19059-11626989': '2023-01-23',\n '19059-11752018': '2023-03-03',\n '19059-11753119': '2023-03-02',\n '19059-12035323': '2023-01-27',\n '19059-12179685': '2023-01-26',\n '19059-12259650': '2023-09-01',\n '19059-12348625': '2023-04-01',\n '19059-12379274': '2023-02-22',\n '19059-12463523': '2023-03-02',\n '19059-12810470': '2023-02-14',\n '19059-13267230': '2023-02-18',\n '19059-13385849': '2023-08-02',\n '19059-13407027': '2023-02-24',\n '19059-13461797': '2023-01-24',\n '19059-13540176': '2023-01-01',\n '19059-13638131': '2023-04-01',\n '19059-13715074': '2023-01-18',\n '19059-13881013': '2023-01-23',\n ...}"
     },
     "execution_count": 28,
     "metadata": {},
     "output_type": "execute_result"
    }
   ],
   "source": [
    "drama_min_pay_map"
   ],
   "metadata": {
    "collapsed": false,
    "ExecuteTime": {
     "end_time": "2024-08-14T11:17:33.557098Z",
     "start_time": "2024-08-14T11:17:33.539744Z"
    }
   },
   "id": "4389adb965230f7c",
   "execution_count": 28
  },
  {
   "cell_type": "markdown",
   "source": [],
   "metadata": {
    "collapsed": false
   },
   "id": "17cfffd1309c6b77"
  },
  {
   "cell_type": "code",
   "outputs": [],
   "source": [
    "# 使用apply方法添加新列，将A和B列的值相加\n",
    "def add_columns(row):\n",
    "    key = str(row[\"drama_id\"]) + \"-\" + str(row[\"user_id\"])\n",
    "    if key not in drama_min_pay_map.keys():\n",
    "        return None\n",
    "    return drama_min_pay_map[key]\n",
    "\n",
    "DL_dataset['first_pay'] = DL_dataset.apply(add_columns, axis=1)"
   ],
   "metadata": {
    "collapsed": false,
    "ExecuteTime": {
     "end_time": "2024-08-14T11:17:34.678575Z",
     "start_time": "2024-08-14T11:17:33.622385Z"
    }
   },
   "id": "2258583cb05bf358",
   "execution_count": 29
  },
  {
   "cell_type": "code",
   "outputs": [],
   "source": [
    "pay_first_dl_count = DL_dataset['first_pay'].value_counts().sort_index()"
   ],
   "metadata": {
    "collapsed": false,
    "ExecuteTime": {
     "end_time": "2024-08-14T11:17:34.695662Z",
     "start_time": "2024-08-14T11:17:34.686340Z"
    }
   },
   "id": "14f8039f11a7674d",
   "execution_count": 30
  },
  {
   "cell_type": "code",
   "outputs": [],
   "source": [
    "pay_first_dl_count.to_csv(\"dl_first_pay.csv\")"
   ],
   "metadata": {
    "collapsed": false,
    "ExecuteTime": {
     "end_time": "2024-08-14T11:17:34.729249Z",
     "start_time": "2024-08-14T11:17:34.695957Z"
    }
   },
   "id": "9a846d06f3ab8e8a",
   "execution_count": 31
  },
  {
   "cell_type": "code",
   "outputs": [
    {
     "data": {
      "text/plain": "10395"
     },
     "execution_count": 32,
     "metadata": {},
     "output_type": "execute_result"
    }
   ],
   "source": [
    "sum(pay_first_dl_count)"
   ],
   "metadata": {
    "collapsed": false,
    "ExecuteTime": {
     "end_time": "2024-08-14T11:17:34.732071Z",
     "start_time": "2024-08-14T11:17:34.706459Z"
    }
   },
   "id": "c4d503dbcb136bc3",
   "execution_count": 32
  },
  {
   "cell_type": "code",
   "outputs": [
    {
     "data": {
      "text/plain": "2023-01-01     400\n2023-01-02     512\n2023-01-03     293\n2023-01-13    1057\n2023-01-14     478\n              ... \n2023-11-02      14\n2023-11-03      19\n2023-12-01      52\n2023-12-02      17\n2023-12-03      14\nName: first_pay, Length: 73, dtype: int64"
     },
     "execution_count": 33,
     "metadata": {},
     "output_type": "execute_result"
    }
   ],
   "source": [
    "pay_first_dl_count"
   ],
   "metadata": {
    "collapsed": false,
    "ExecuteTime": {
     "end_time": "2024-08-14T11:17:34.734326Z",
     "start_time": "2024-08-14T11:17:34.718834Z"
    }
   },
   "id": "c223664276c8b5ce",
   "execution_count": 33
  },
  {
   "cell_type": "code",
   "outputs": [],
   "source": [
    "DL_dataset[\"pay_FS\"] = 0\n",
    "DL_dataset[\"pay_DL\"] = 0"
   ],
   "metadata": {
    "collapsed": false,
    "ExecuteTime": {
     "end_time": "2024-08-14T11:18:48.372524Z",
     "start_time": "2024-08-14T11:18:48.354265Z"
    }
   },
   "id": "d84e49b845675c48",
   "execution_count": 35
  },
  {
   "cell_type": "code",
   "outputs": [
    {
     "data": {
      "text/plain": "0              None\n1        2023-02-28\n2              None\n3        2023-02-28\n4        2023-01-03\n            ...    \n21907          None\n21908          None\n21909          None\n21910    2023-07-01\n21911          None\nName: first_pay, Length: 21912, dtype: object"
     },
     "execution_count": 41,
     "metadata": {},
     "output_type": "execute_result"
    }
   ],
   "source": [
    "DL_dataset[\"first_pay\"]"
   ],
   "metadata": {
    "collapsed": false,
    "ExecuteTime": {
     "end_time": "2024-08-14T11:22:16.868148Z",
     "start_time": "2024-08-14T11:22:16.832820Z"
    }
   },
   "id": "df1f9905f9aa2320",
   "execution_count": 41
  },
  {
   "cell_type": "code",
   "outputs": [],
   "source": [
    "for idx, row in DL_dataset.iterrows():\n",
    "    first_pay = pd.to_datetime(row['first_pay'])\n",
    "    if first_pay is None:\n",
    "        continue\n",
    "    if pd.to_datetime(\"2023-01-26\") <= first_pay <= pd.to_datetime(\"2023-02-15\"):\n",
    "        DL_dataset.at[idx,\"pay_DL\"] = 1\n",
    "    if pd.to_datetime(\"2023-01-01\") <= first_pay <= pd.to_datetime(\"2023-01-25\"):\n",
    "        DL_dataset.at[idx,\"pay_FS\"] = 1"
   ],
   "metadata": {
    "collapsed": false,
    "ExecuteTime": {
     "end_time": "2024-08-14T11:31:52.397326Z",
     "start_time": "2024-08-14T11:31:45.998550Z"
    }
   },
   "id": "13e42c24dbe7b640",
   "execution_count": 46
  },
  {
   "cell_type": "code",
   "outputs": [
    {
     "data": {
      "text/plain": "0    19889\n1     2023\nName: pay_DL, dtype: int64"
     },
     "execution_count": 47,
     "metadata": {},
     "output_type": "execute_result"
    }
   ],
   "source": [
    "DL_dataset[\"pay_DL\"].value_counts()"
   ],
   "metadata": {
    "collapsed": false,
    "ExecuteTime": {
     "end_time": "2024-08-14T11:31:55.151995Z",
     "start_time": "2024-08-14T11:31:55.133935Z"
    }
   },
   "id": "627293b85a8d92dd",
   "execution_count": 47
  },
  {
   "cell_type": "code",
   "outputs": [
    {
     "data": {
      "text/plain": "0    16214\n1     5698\nName: pay_FS, dtype: int64"
     },
     "execution_count": 55,
     "metadata": {},
     "output_type": "execute_result"
    }
   ],
   "source": [
    "DL_dataset[\"pay_FS\"].value_counts()\n"
   ],
   "metadata": {
    "collapsed": false,
    "ExecuteTime": {
     "end_time": "2024-08-14T11:46:28.699657Z",
     "start_time": "2024-08-14T11:46:28.691851Z"
    }
   },
   "id": "e4fc63767d7f666c",
   "execution_count": 55
  },
  {
   "cell_type": "code",
   "outputs": [],
   "source": [
    "for idx, row in DL_dataset.iterrows():\n",
    "    first_pay = pd.to_datetime(row['first_pay'])\n",
    "    if first_pay is None:\n",
    "        continue\n",
    "    if row['pay_FS'] == 0 and row['pay_DL'] == 0:     \n",
    "        if first_pay <= pd.to_datetime(\"2023-03-31\"):\n",
    "            DL_dataset.at[idx,\"pay_Random\"] = int(1)"
   ],
   "metadata": {
    "collapsed": false,
    "ExecuteTime": {
     "end_time": "2024-08-14T11:46:21.902390Z",
     "start_time": "2024-08-14T11:46:17.205742Z"
    }
   },
   "id": "67c272342b045986",
   "execution_count": 53
  },
  {
   "cell_type": "code",
   "outputs": [
    {
     "data": {
      "text/plain": "0    21039\n1      873\nName: pay_Random, dtype: int64"
     },
     "execution_count": 60,
     "metadata": {},
     "output_type": "execute_result"
    }
   ],
   "source": [
    "DL_dataset[\"pay_Random\"] = DL_dataset[\"pay_Random\"].fillna(0).astype(\"int64\")\n",
    "\n",
    "DL_dataset[\"pay_Random\"].value_counts()"
   ],
   "metadata": {
    "collapsed": false,
    "ExecuteTime": {
     "end_time": "2024-08-14T11:49:24.971260Z",
     "start_time": "2024-08-14T11:49:24.742171Z"
    }
   },
   "id": "d1088c91f1f67364",
   "execution_count": 60
  },
  {
   "cell_type": "code",
   "outputs": [
    {
     "data": {
      "text/plain": "        user_id  sound_id_id  drama_id  user_name_len  user_name_has_chinese  \\\n0         12304      7017722     52265             18                      0   \n1         24488      6976696     59699             25                      0   \n2         24488      6991707     59328             25                      0   \n3         24488      7018734     59699             25                      0   \n4         24488      7059430     60282             25                      0   \n...         ...          ...       ...            ...                    ...   \n21907  24657259      6928876     59699             10                      1   \n21908  24705415      1829983     25944              9                      0   \n21909  24705415      2137286     25944              9                      0   \n21910  24705415      2866661     30383              9                      0   \n21911  24705415      4181079     38692              9                      0   \n\n       user_name_has_english  user_intro_len  user_intro_has_chinese  \\\n0                          0             NaN                       0   \n1                          0            60.0                       1   \n2                          0            60.0                       1   \n3                          0            60.0                       1   \n4                          0            60.0                       1   \n...                      ...             ...                     ...   \n21907                      1            42.0                       1   \n21908                      0            45.0                       1   \n21909                      0            45.0                       1   \n21910                      0            45.0                       1   \n21911                      0            45.0                       1   \n\n       user_intro_has_english  user_icon_is_default  ...  k_2_8s_sim_q_2_num  \\\n0                           0                     0  ...            0.468008   \n1                           0                     0  ...            0.417907   \n2                           0                     0  ...            0.412480   \n3                           0                     0  ...            0.284708   \n4                           0                     0  ...            0.429238   \n...                       ...                   ...  ...                 ...   \n21907                       0                     0  ...            0.453436   \n21908                       0                     0  ...            0.430462   \n21909                       0                     0  ...            0.472406   \n21910                       0                     0  ...            0.423084   \n21911                       0                     0  ...            0.422522   \n\n       k_2_8s_sim_q_3_num  k_2_15s_sim_q_1_num  k_2_15s_sim_q_2_num  \\\n0                0.652918             0.279280             0.461234   \n1                0.583569             0.254123             0.420560   \n2                0.576218             0.252045             0.416657   \n3                0.398228             0.208059             0.345994   \n4                0.600477             0.261848             0.435509   \n...                   ...                  ...                  ...   \n21907            0.613446             0.302645             0.461666   \n21908            0.591885             0.272810             0.432745   \n21909            0.626786             0.319628             0.474172   \n21910            0.582927             0.270805             0.430295   \n21911            0.587372             0.263236             0.428966   \n\n       k_2_15s_sim_q_3_num  user_in_drama_is_pay_for_drama_in_next_time  \\\n0                 0.461234                                            2   \n1                 0.420560                                            2   \n2                 0.416657                                            2   \n3                 0.345994                                            2   \n4                 0.435509                                            2   \n...                    ...                                          ...   \n21907             0.461666                                            2   \n21908             0.432745                                            2   \n21909             0.474172                                            2   \n21910             0.430295                                            1   \n21911             0.428966                                            2   \n\n       pay_FS  pay_DL   first_pay  pay_Random  \n0           0       0        None           0  \n1           0       0  2023-02-28           1  \n2           0       0        None           0  \n3           0       0  2023-02-28           1  \n4           1       0  2023-01-03           0  \n...       ...     ...         ...         ...  \n21907       0       0        None           0  \n21908       0       0        None           0  \n21909       0       0        None           0  \n21910       0       0  2023-07-01           0  \n21911       0       0        None           0  \n\n[21912 rows x 668 columns]",
      "text/html": "<div>\n<style scoped>\n    .dataframe tbody tr th:only-of-type {\n        vertical-align: middle;\n    }\n\n    .dataframe tbody tr th {\n        vertical-align: top;\n    }\n\n    .dataframe thead th {\n        text-align: right;\n    }\n</style>\n<table border=\"1\" class=\"dataframe\">\n  <thead>\n    <tr style=\"text-align: right;\">\n      <th></th>\n      <th>user_id</th>\n      <th>sound_id_id</th>\n      <th>drama_id</th>\n      <th>user_name_len</th>\n      <th>user_name_has_chinese</th>\n      <th>user_name_has_english</th>\n      <th>user_intro_len</th>\n      <th>user_intro_has_chinese</th>\n      <th>user_intro_has_english</th>\n      <th>user_icon_is_default</th>\n      <th>...</th>\n      <th>k_2_8s_sim_q_2_num</th>\n      <th>k_2_8s_sim_q_3_num</th>\n      <th>k_2_15s_sim_q_1_num</th>\n      <th>k_2_15s_sim_q_2_num</th>\n      <th>k_2_15s_sim_q_3_num</th>\n      <th>user_in_drama_is_pay_for_drama_in_next_time</th>\n      <th>pay_FS</th>\n      <th>pay_DL</th>\n      <th>first_pay</th>\n      <th>pay_Random</th>\n    </tr>\n  </thead>\n  <tbody>\n    <tr>\n      <th>0</th>\n      <td>12304</td>\n      <td>7017722</td>\n      <td>52265</td>\n      <td>18</td>\n      <td>0</td>\n      <td>0</td>\n      <td>NaN</td>\n      <td>0</td>\n      <td>0</td>\n      <td>0</td>\n      <td>...</td>\n      <td>0.468008</td>\n      <td>0.652918</td>\n      <td>0.279280</td>\n      <td>0.461234</td>\n      <td>0.461234</td>\n      <td>2</td>\n      <td>0</td>\n      <td>0</td>\n      <td>None</td>\n      <td>0</td>\n    </tr>\n    <tr>\n      <th>1</th>\n      <td>24488</td>\n      <td>6976696</td>\n      <td>59699</td>\n      <td>25</td>\n      <td>0</td>\n      <td>0</td>\n      <td>60.0</td>\n      <td>1</td>\n      <td>0</td>\n      <td>0</td>\n      <td>...</td>\n      <td>0.417907</td>\n      <td>0.583569</td>\n      <td>0.254123</td>\n      <td>0.420560</td>\n      <td>0.420560</td>\n      <td>2</td>\n      <td>0</td>\n      <td>0</td>\n      <td>2023-02-28</td>\n      <td>1</td>\n    </tr>\n    <tr>\n      <th>2</th>\n      <td>24488</td>\n      <td>6991707</td>\n      <td>59328</td>\n      <td>25</td>\n      <td>0</td>\n      <td>0</td>\n      <td>60.0</td>\n      <td>1</td>\n      <td>0</td>\n      <td>0</td>\n      <td>...</td>\n      <td>0.412480</td>\n      <td>0.576218</td>\n      <td>0.252045</td>\n      <td>0.416657</td>\n      <td>0.416657</td>\n      <td>2</td>\n      <td>0</td>\n      <td>0</td>\n      <td>None</td>\n      <td>0</td>\n    </tr>\n    <tr>\n      <th>3</th>\n      <td>24488</td>\n      <td>7018734</td>\n      <td>59699</td>\n      <td>25</td>\n      <td>0</td>\n      <td>0</td>\n      <td>60.0</td>\n      <td>1</td>\n      <td>0</td>\n      <td>0</td>\n      <td>...</td>\n      <td>0.284708</td>\n      <td>0.398228</td>\n      <td>0.208059</td>\n      <td>0.345994</td>\n      <td>0.345994</td>\n      <td>2</td>\n      <td>0</td>\n      <td>0</td>\n      <td>2023-02-28</td>\n      <td>1</td>\n    </tr>\n    <tr>\n      <th>4</th>\n      <td>24488</td>\n      <td>7059430</td>\n      <td>60282</td>\n      <td>25</td>\n      <td>0</td>\n      <td>0</td>\n      <td>60.0</td>\n      <td>1</td>\n      <td>0</td>\n      <td>0</td>\n      <td>...</td>\n      <td>0.429238</td>\n      <td>0.600477</td>\n      <td>0.261848</td>\n      <td>0.435509</td>\n      <td>0.435509</td>\n      <td>2</td>\n      <td>1</td>\n      <td>0</td>\n      <td>2023-01-03</td>\n      <td>0</td>\n    </tr>\n    <tr>\n      <th>...</th>\n      <td>...</td>\n      <td>...</td>\n      <td>...</td>\n      <td>...</td>\n      <td>...</td>\n      <td>...</td>\n      <td>...</td>\n      <td>...</td>\n      <td>...</td>\n      <td>...</td>\n      <td>...</td>\n      <td>...</td>\n      <td>...</td>\n      <td>...</td>\n      <td>...</td>\n      <td>...</td>\n      <td>...</td>\n      <td>...</td>\n      <td>...</td>\n      <td>...</td>\n      <td>...</td>\n    </tr>\n    <tr>\n      <th>21907</th>\n      <td>24657259</td>\n      <td>6928876</td>\n      <td>59699</td>\n      <td>10</td>\n      <td>1</td>\n      <td>1</td>\n      <td>42.0</td>\n      <td>1</td>\n      <td>0</td>\n      <td>0</td>\n      <td>...</td>\n      <td>0.453436</td>\n      <td>0.613446</td>\n      <td>0.302645</td>\n      <td>0.461666</td>\n      <td>0.461666</td>\n      <td>2</td>\n      <td>0</td>\n      <td>0</td>\n      <td>None</td>\n      <td>0</td>\n    </tr>\n    <tr>\n      <th>21908</th>\n      <td>24705415</td>\n      <td>1829983</td>\n      <td>25944</td>\n      <td>9</td>\n      <td>0</td>\n      <td>0</td>\n      <td>45.0</td>\n      <td>1</td>\n      <td>0</td>\n      <td>0</td>\n      <td>...</td>\n      <td>0.430462</td>\n      <td>0.591885</td>\n      <td>0.272810</td>\n      <td>0.432745</td>\n      <td>0.432745</td>\n      <td>2</td>\n      <td>0</td>\n      <td>0</td>\n      <td>None</td>\n      <td>0</td>\n    </tr>\n    <tr>\n      <th>21909</th>\n      <td>24705415</td>\n      <td>2137286</td>\n      <td>25944</td>\n      <td>9</td>\n      <td>0</td>\n      <td>0</td>\n      <td>45.0</td>\n      <td>1</td>\n      <td>0</td>\n      <td>0</td>\n      <td>...</td>\n      <td>0.472406</td>\n      <td>0.626786</td>\n      <td>0.319628</td>\n      <td>0.474172</td>\n      <td>0.474172</td>\n      <td>2</td>\n      <td>0</td>\n      <td>0</td>\n      <td>None</td>\n      <td>0</td>\n    </tr>\n    <tr>\n      <th>21910</th>\n      <td>24705415</td>\n      <td>2866661</td>\n      <td>30383</td>\n      <td>9</td>\n      <td>0</td>\n      <td>0</td>\n      <td>45.0</td>\n      <td>1</td>\n      <td>0</td>\n      <td>0</td>\n      <td>...</td>\n      <td>0.423084</td>\n      <td>0.582927</td>\n      <td>0.270805</td>\n      <td>0.430295</td>\n      <td>0.430295</td>\n      <td>1</td>\n      <td>0</td>\n      <td>0</td>\n      <td>2023-07-01</td>\n      <td>0</td>\n    </tr>\n    <tr>\n      <th>21911</th>\n      <td>24705415</td>\n      <td>4181079</td>\n      <td>38692</td>\n      <td>9</td>\n      <td>0</td>\n      <td>0</td>\n      <td>45.0</td>\n      <td>1</td>\n      <td>0</td>\n      <td>0</td>\n      <td>...</td>\n      <td>0.422522</td>\n      <td>0.587372</td>\n      <td>0.263236</td>\n      <td>0.428966</td>\n      <td>0.428966</td>\n      <td>2</td>\n      <td>0</td>\n      <td>0</td>\n      <td>None</td>\n      <td>0</td>\n    </tr>\n  </tbody>\n</table>\n<p>21912 rows × 668 columns</p>\n</div>"
     },
     "execution_count": 62,
     "metadata": {},
     "output_type": "execute_result"
    }
   ],
   "source": [
    "DL_dataset"
   ],
   "metadata": {
    "collapsed": false,
    "ExecuteTime": {
     "end_time": "2024-08-15T02:34:39.860251Z",
     "start_time": "2024-08-15T02:34:39.630457Z"
    }
   },
   "id": "3efe0c451920dd30",
   "execution_count": 62
  },
  {
   "cell_type": "code",
   "outputs": [],
   "source": [],
   "metadata": {
    "collapsed": false
   },
   "id": "87ae37a80bd170d"
  },
  {
   "cell_type": "code",
   "outputs": [],
   "source": [
    "DL_dataset.to_csv(\"0101_0131_all_feature_new.csv\",index=None)"
   ],
   "metadata": {
    "collapsed": false,
    "ExecuteTime": {
     "end_time": "2024-08-14T12:10:44.154944Z",
     "start_time": "2024-08-14T12:10:34.788984Z"
    }
   },
   "id": "7cff4b01c8fcade9",
   "execution_count": 61
  },
  {
   "cell_type": "code",
   "outputs": [],
   "source": [
    "DL_FS = DL_dataset[DL_dataset['pay_FS'] == 1]\n",
    "DL_DL = DL_dataset[DL_dataset['pay_DL'] == 1]"
   ],
   "metadata": {
    "collapsed": false,
    "ExecuteTime": {
     "end_time": "2024-08-15T11:16:38.773418Z",
     "start_time": "2024-08-15T11:16:36.902046Z"
    }
   },
   "id": "270d1ec110e8276",
   "execution_count": 63
  },
  {
   "cell_type": "code",
   "outputs": [],
   "source": [
    "DL_Neg = DL_dataset[(DL_dataset['pay_FS'] == 0) & (DL_dataset['pay_DL'] == 0)]"
   ],
   "metadata": {
    "collapsed": false,
    "ExecuteTime": {
     "end_time": "2024-08-15T11:18:26.888120Z",
     "start_time": "2024-08-15T11:18:26.795485Z"
    }
   },
   "id": "996c50d9d69e6c7c",
   "execution_count": 68
  },
  {
   "cell_type": "code",
   "outputs": [
    {
     "data": {
      "text/plain": "(14191, 668)"
     },
     "execution_count": 69,
     "metadata": {},
     "output_type": "execute_result"
    }
   ],
   "source": [
    "DL_Neg.shape"
   ],
   "metadata": {
    "collapsed": false,
    "ExecuteTime": {
     "end_time": "2024-08-15T11:18:29.928055Z",
     "start_time": "2024-08-15T11:18:29.879191Z"
    }
   },
   "id": "d2cf00b39725e5d3",
   "execution_count": 69
  },
  {
   "cell_type": "code",
   "outputs": [],
   "source": [
    "DL_FS = pd.concat([DL_FS, DL_Neg.iloc[0:len(DL_Neg)//2]])"
   ],
   "metadata": {
    "collapsed": false,
    "ExecuteTime": {
     "end_time": "2024-08-15T11:23:16.023704Z",
     "start_time": "2024-08-15T11:23:15.482555Z"
    }
   },
   "id": "e67ca470b747945d",
   "execution_count": 74
  },
  {
   "cell_type": "code",
   "outputs": [
    {
     "data": {
      "text/plain": "(12793, 668)"
     },
     "execution_count": 75,
     "metadata": {},
     "output_type": "execute_result"
    }
   ],
   "source": [
    "DL_FS.shape"
   ],
   "metadata": {
    "collapsed": false,
    "ExecuteTime": {
     "end_time": "2024-08-15T11:23:16.739083Z",
     "start_time": "2024-08-15T11:23:16.663307Z"
    }
   },
   "id": "ce3fd0f7d0320c8b",
   "execution_count": 75
  },
  {
   "cell_type": "code",
   "outputs": [],
   "source": [
    "DL_DL = pd.concat([DL_DL, DL_Neg.iloc[len(DL_Neg)//2:]])\n"
   ],
   "metadata": {
    "collapsed": false,
    "ExecuteTime": {
     "end_time": "2024-08-15T11:23:45.803780Z",
     "start_time": "2024-08-15T11:23:45.349980Z"
    }
   },
   "id": "e9ee48ffad97e3dc",
   "execution_count": 76
  },
  {
   "cell_type": "code",
   "outputs": [
    {
     "data": {
      "text/plain": "(9119, 668)"
     },
     "execution_count": 77,
     "metadata": {},
     "output_type": "execute_result"
    }
   ],
   "source": [
    "DL_DL.shape"
   ],
   "metadata": {
    "collapsed": false,
    "ExecuteTime": {
     "end_time": "2024-08-15T11:23:56.680599Z",
     "start_time": "2024-08-15T11:23:56.645229Z"
    }
   },
   "id": "a0d3c69402ac97b2",
   "execution_count": 77
  },
  {
   "cell_type": "code",
   "outputs": [],
   "source": [
    "DL_FS.to_csv(\"0101_0131_all_feature_FS.csv\",index=None)\n",
    "DL_DL.to_csv(\"0101_0131_all_feature_DL.csv\",index=None)"
   ],
   "metadata": {
    "collapsed": false,
    "ExecuteTime": {
     "end_time": "2024-08-15T11:24:39.827415Z",
     "start_time": "2024-08-15T11:24:29.234679Z"
    }
   },
   "id": "570812f83ea71dea",
   "execution_count": 78
  },
  {
   "cell_type": "code",
   "outputs": [],
   "source": [],
   "metadata": {
    "collapsed": false
   },
   "id": "ca7a2b1a014740cc"
  }
 ],
 "metadata": {
  "kernelspec": {
   "display_name": "Python 3",
   "language": "python",
   "name": "python3"
  },
  "language_info": {
   "codemirror_mode": {
    "name": "ipython",
    "version": 2
   },
   "file_extension": ".py",
   "mimetype": "text/x-python",
   "name": "python",
   "nbconvert_exporter": "python",
   "pygments_lexer": "ipython2",
   "version": "2.7.6"
  }
 },
 "nbformat": 4,
 "nbformat_minor": 5
}
