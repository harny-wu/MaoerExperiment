{
 "cells": [
  {
   "cell_type": "code",
   "execution_count": 21,
   "id": "initial_id",
   "metadata": {
    "collapsed": true,
    "ExecuteTime": {
     "end_time": "2024-08-01T12:53:38.365805Z",
     "start_time": "2024-08-01T12:53:38.356001Z"
    }
   },
   "outputs": [],
   "source": [
    "import pandas as pd"
   ]
  },
  {
   "cell_type": "code",
   "outputs": [],
   "source": [
    "data_folder = \"../../../data/\""
   ],
   "metadata": {
    "collapsed": false,
    "ExecuteTime": {
     "end_time": "2024-08-01T12:53:38.757852Z",
     "start_time": "2024-08-01T12:53:38.751688Z"
    }
   },
   "id": "4cb5075b39c20cfa",
   "execution_count": 22
  },
  {
   "cell_type": "code",
   "outputs": [],
   "source": [
    "danmu_data = pd.read_csv(\"../../../data/activeuser_submit_danmu_sound_with_drama_202211_202303.csv\")"
   ],
   "metadata": {
    "collapsed": false,
    "ExecuteTime": {
     "end_time": "2024-08-01T12:53:43.976360Z",
     "start_time": "2024-08-01T12:53:39.221121Z"
    }
   },
   "id": "554d7652b0eb0cd7",
   "execution_count": 23
  },
  {
   "cell_type": "code",
   "outputs": [
    {
     "data": {
      "text/plain": "     user_id  sound_id  drama_id   danmu_id     danmu_info_date  \\\n0   21189454   6531844     42777  181740731  1/11/2022 00:00:01   \n1   21382174   6530213     50725  181740733  1/11/2022 00:00:01   \n2    4902846   6519268     50725  181740755  1/11/2022 00:00:07   \n3   12294752   6530193     50725  181740757  1/11/2022 00:00:07   \n4   21382174   6530213     50725  181740758  1/11/2022 00:00:07   \n..       ...       ...       ...        ...                 ...   \n95   3776033   6281278     53301  181741208  1/11/2022 00:04:45   \n96   6088998   6530213     50725  181741218  1/11/2022 00:04:52   \n97   5803967   6530213     50725  181741222  1/11/2022 00:04:55   \n98  15489046   6530213     50725  181741223  1/11/2022 00:04:55   \n99  22257188    218565      5265  181741225  1/11/2022 00:04:57   \n\n    danmu_info_stime_notransform                      danmu_info_text  \\\n0                        2480.00                           打卡20221031   \n1                        1161.36                                    ？   \n2                        1156.00                                 完结撒花   \n3                        2128.00                                我也觉得是   \n4                        1167.54                                    啥   \n..                           ...                                  ...   \n95                        759.00                                    哒   \n96                       1391.00                                 等我回来   \n97                       1808.00                                卧槽😭😭😭   \n98                       1412.00  呜呜呜呜呜呜呜呜呜呜呜呜呜呜呜呜呜呜呜呜呜呜呜呜呜呜呜呜呜呜呜呜呜呜呜   \n99                        729.71                          哈哈哈哈哈哈哈哈哈哈哈   \n\n    user_in_drama_sound_pay_type  drama_info_pay_type  sound_info_pay_type  \n0                            1.0                  2.0                  0.0  \n1                            0.0                  0.0                  0.0  \n2                            0.0                  0.0                  0.0  \n3                            0.0                  0.0                  0.0  \n4                            0.0                  0.0                  0.0  \n..                           ...                  ...                  ...  \n95                           2.0                  2.0                  2.0  \n96                           0.0                  0.0                  0.0  \n97                           0.0                  0.0                  0.0  \n98                           0.0                  0.0                  0.0  \n99                           0.0                  0.0                  0.0  \n\n[100 rows x 10 columns]",
      "text/html": "<div>\n<style scoped>\n    .dataframe tbody tr th:only-of-type {\n        vertical-align: middle;\n    }\n\n    .dataframe tbody tr th {\n        vertical-align: top;\n    }\n\n    .dataframe thead th {\n        text-align: right;\n    }\n</style>\n<table border=\"1\" class=\"dataframe\">\n  <thead>\n    <tr style=\"text-align: right;\">\n      <th></th>\n      <th>user_id</th>\n      <th>sound_id</th>\n      <th>drama_id</th>\n      <th>danmu_id</th>\n      <th>danmu_info_date</th>\n      <th>danmu_info_stime_notransform</th>\n      <th>danmu_info_text</th>\n      <th>user_in_drama_sound_pay_type</th>\n      <th>drama_info_pay_type</th>\n      <th>sound_info_pay_type</th>\n    </tr>\n  </thead>\n  <tbody>\n    <tr>\n      <th>0</th>\n      <td>21189454</td>\n      <td>6531844</td>\n      <td>42777</td>\n      <td>181740731</td>\n      <td>1/11/2022 00:00:01</td>\n      <td>2480.00</td>\n      <td>打卡20221031</td>\n      <td>1.0</td>\n      <td>2.0</td>\n      <td>0.0</td>\n    </tr>\n    <tr>\n      <th>1</th>\n      <td>21382174</td>\n      <td>6530213</td>\n      <td>50725</td>\n      <td>181740733</td>\n      <td>1/11/2022 00:00:01</td>\n      <td>1161.36</td>\n      <td>？</td>\n      <td>0.0</td>\n      <td>0.0</td>\n      <td>0.0</td>\n    </tr>\n    <tr>\n      <th>2</th>\n      <td>4902846</td>\n      <td>6519268</td>\n      <td>50725</td>\n      <td>181740755</td>\n      <td>1/11/2022 00:00:07</td>\n      <td>1156.00</td>\n      <td>完结撒花</td>\n      <td>0.0</td>\n      <td>0.0</td>\n      <td>0.0</td>\n    </tr>\n    <tr>\n      <th>3</th>\n      <td>12294752</td>\n      <td>6530193</td>\n      <td>50725</td>\n      <td>181740757</td>\n      <td>1/11/2022 00:00:07</td>\n      <td>2128.00</td>\n      <td>我也觉得是</td>\n      <td>0.0</td>\n      <td>0.0</td>\n      <td>0.0</td>\n    </tr>\n    <tr>\n      <th>4</th>\n      <td>21382174</td>\n      <td>6530213</td>\n      <td>50725</td>\n      <td>181740758</td>\n      <td>1/11/2022 00:00:07</td>\n      <td>1167.54</td>\n      <td>啥</td>\n      <td>0.0</td>\n      <td>0.0</td>\n      <td>0.0</td>\n    </tr>\n    <tr>\n      <th>...</th>\n      <td>...</td>\n      <td>...</td>\n      <td>...</td>\n      <td>...</td>\n      <td>...</td>\n      <td>...</td>\n      <td>...</td>\n      <td>...</td>\n      <td>...</td>\n      <td>...</td>\n    </tr>\n    <tr>\n      <th>95</th>\n      <td>3776033</td>\n      <td>6281278</td>\n      <td>53301</td>\n      <td>181741208</td>\n      <td>1/11/2022 00:04:45</td>\n      <td>759.00</td>\n      <td>哒</td>\n      <td>2.0</td>\n      <td>2.0</td>\n      <td>2.0</td>\n    </tr>\n    <tr>\n      <th>96</th>\n      <td>6088998</td>\n      <td>6530213</td>\n      <td>50725</td>\n      <td>181741218</td>\n      <td>1/11/2022 00:04:52</td>\n      <td>1391.00</td>\n      <td>等我回来</td>\n      <td>0.0</td>\n      <td>0.0</td>\n      <td>0.0</td>\n    </tr>\n    <tr>\n      <th>97</th>\n      <td>5803967</td>\n      <td>6530213</td>\n      <td>50725</td>\n      <td>181741222</td>\n      <td>1/11/2022 00:04:55</td>\n      <td>1808.00</td>\n      <td>卧槽😭😭😭</td>\n      <td>0.0</td>\n      <td>0.0</td>\n      <td>0.0</td>\n    </tr>\n    <tr>\n      <th>98</th>\n      <td>15489046</td>\n      <td>6530213</td>\n      <td>50725</td>\n      <td>181741223</td>\n      <td>1/11/2022 00:04:55</td>\n      <td>1412.00</td>\n      <td>呜呜呜呜呜呜呜呜呜呜呜呜呜呜呜呜呜呜呜呜呜呜呜呜呜呜呜呜呜呜呜呜呜呜呜</td>\n      <td>0.0</td>\n      <td>0.0</td>\n      <td>0.0</td>\n    </tr>\n    <tr>\n      <th>99</th>\n      <td>22257188</td>\n      <td>218565</td>\n      <td>5265</td>\n      <td>181741225</td>\n      <td>1/11/2022 00:04:57</td>\n      <td>729.71</td>\n      <td>哈哈哈哈哈哈哈哈哈哈哈</td>\n      <td>0.0</td>\n      <td>0.0</td>\n      <td>0.0</td>\n    </tr>\n  </tbody>\n</table>\n<p>100 rows × 10 columns</p>\n</div>"
     },
     "execution_count": 24,
     "metadata": {},
     "output_type": "execute_result"
    }
   ],
   "source": [
    "danmu_data.head(100)"
   ],
   "metadata": {
    "collapsed": false,
    "ExecuteTime": {
     "end_time": "2024-08-01T12:53:44.530436Z",
     "start_time": "2024-08-01T12:53:44.511931Z"
    }
   },
   "id": "f861bce1b8ad394d",
   "execution_count": 24
  },
  {
   "cell_type": "code",
   "outputs": [
    {
     "name": "stdout",
     "output_type": "stream",
     "text": [
      "4499\n"
     ]
    }
   ],
   "source": [
    "print(danmu_data[\"drama_id\"].nunique())"
   ],
   "metadata": {
    "collapsed": false,
    "ExecuteTime": {
     "end_time": "2024-08-01T12:54:00.447016Z",
     "start_time": "2024-08-01T12:54:00.423255Z"
    }
   },
   "id": "9ffc84fead310f76",
   "execution_count": 26
  },
  {
   "cell_type": "code",
   "outputs": [],
   "source": [
    "DL_dataset = pd.read_csv(\"../../../data/0101_0131_all_feature.csv\")"
   ],
   "metadata": {
    "collapsed": false,
    "ExecuteTime": {
     "end_time": "2024-08-01T12:54:04.011962Z",
     "start_time": "2024-08-01T12:54:00.922955Z"
    }
   },
   "id": "e1df2cfd21e386d6",
   "execution_count": 27
  },
  {
   "cell_type": "code",
   "outputs": [
    {
     "data": {
      "text/plain": "   user_id  sound_id_id  drama_id  user_name_len  user_name_has_chinese  \\\n0    12304      7017722     52265             18                      0   \n1    24488      6976696     59699             25                      0   \n2    24488      6991707     59328             25                      0   \n3    24488      7018734     59699             25                      0   \n4    24488      7059430     60282             25                      0   \n\n   user_name_has_english  user_intro_len  user_intro_has_chinese  \\\n0                      0             NaN                       0   \n1                      0            60.0                       1   \n2                      0            60.0                       1   \n3                      0            60.0                       1   \n4                      0            60.0                       1   \n\n   user_intro_has_english  user_icon_is_default  ...  k_3_15s_sim  \\\n0                       0                     0  ...     0.913019   \n1                       0                     0  ...     0.835461   \n2                       0                     0  ...     0.826704   \n3                       0                     0  ...     0.743361   \n4                       0                     0  ...     0.878291   \n\n   k_2_8s_sim_q_1_num  k_2_8s_sim_q_2_num  k_2_8s_sim_q_3_num  \\\n0            0.283098            0.468008            0.652918   \n1            0.252245            0.417907            0.583569   \n2            0.248742            0.412480            0.576218   \n3            0.171188            0.284708            0.398228   \n4            0.258000            0.429238            0.600477   \n\n   k_2_15s_sim_q_1_num  k_2_15s_sim_q_2_num  k_2_15s_sim_q_3_num  \\\n0             0.279280             0.461234             0.461234   \n1             0.254123             0.420560             0.420560   \n2             0.252045             0.416657             0.416657   \n3             0.208059             0.345994             0.345994   \n4             0.261848             0.435509             0.435509   \n\n   user_in_drama_is_pay_for_drama_in_next_time  pay_FS  pay_DL  \n0                                            2       2       2  \n1                                            2       2       2  \n2                                            2       2       2  \n3                                            2       2       2  \n4                                            2       2       2  \n\n[5 rows x 666 columns]",
      "text/html": "<div>\n<style scoped>\n    .dataframe tbody tr th:only-of-type {\n        vertical-align: middle;\n    }\n\n    .dataframe tbody tr th {\n        vertical-align: top;\n    }\n\n    .dataframe thead th {\n        text-align: right;\n    }\n</style>\n<table border=\"1\" class=\"dataframe\">\n  <thead>\n    <tr style=\"text-align: right;\">\n      <th></th>\n      <th>user_id</th>\n      <th>sound_id_id</th>\n      <th>drama_id</th>\n      <th>user_name_len</th>\n      <th>user_name_has_chinese</th>\n      <th>user_name_has_english</th>\n      <th>user_intro_len</th>\n      <th>user_intro_has_chinese</th>\n      <th>user_intro_has_english</th>\n      <th>user_icon_is_default</th>\n      <th>...</th>\n      <th>k_3_15s_sim</th>\n      <th>k_2_8s_sim_q_1_num</th>\n      <th>k_2_8s_sim_q_2_num</th>\n      <th>k_2_8s_sim_q_3_num</th>\n      <th>k_2_15s_sim_q_1_num</th>\n      <th>k_2_15s_sim_q_2_num</th>\n      <th>k_2_15s_sim_q_3_num</th>\n      <th>user_in_drama_is_pay_for_drama_in_next_time</th>\n      <th>pay_FS</th>\n      <th>pay_DL</th>\n    </tr>\n  </thead>\n  <tbody>\n    <tr>\n      <th>0</th>\n      <td>12304</td>\n      <td>7017722</td>\n      <td>52265</td>\n      <td>18</td>\n      <td>0</td>\n      <td>0</td>\n      <td>NaN</td>\n      <td>0</td>\n      <td>0</td>\n      <td>0</td>\n      <td>...</td>\n      <td>0.913019</td>\n      <td>0.283098</td>\n      <td>0.468008</td>\n      <td>0.652918</td>\n      <td>0.279280</td>\n      <td>0.461234</td>\n      <td>0.461234</td>\n      <td>2</td>\n      <td>2</td>\n      <td>2</td>\n    </tr>\n    <tr>\n      <th>1</th>\n      <td>24488</td>\n      <td>6976696</td>\n      <td>59699</td>\n      <td>25</td>\n      <td>0</td>\n      <td>0</td>\n      <td>60.0</td>\n      <td>1</td>\n      <td>0</td>\n      <td>0</td>\n      <td>...</td>\n      <td>0.835461</td>\n      <td>0.252245</td>\n      <td>0.417907</td>\n      <td>0.583569</td>\n      <td>0.254123</td>\n      <td>0.420560</td>\n      <td>0.420560</td>\n      <td>2</td>\n      <td>2</td>\n      <td>2</td>\n    </tr>\n    <tr>\n      <th>2</th>\n      <td>24488</td>\n      <td>6991707</td>\n      <td>59328</td>\n      <td>25</td>\n      <td>0</td>\n      <td>0</td>\n      <td>60.0</td>\n      <td>1</td>\n      <td>0</td>\n      <td>0</td>\n      <td>...</td>\n      <td>0.826704</td>\n      <td>0.248742</td>\n      <td>0.412480</td>\n      <td>0.576218</td>\n      <td>0.252045</td>\n      <td>0.416657</td>\n      <td>0.416657</td>\n      <td>2</td>\n      <td>2</td>\n      <td>2</td>\n    </tr>\n    <tr>\n      <th>3</th>\n      <td>24488</td>\n      <td>7018734</td>\n      <td>59699</td>\n      <td>25</td>\n      <td>0</td>\n      <td>0</td>\n      <td>60.0</td>\n      <td>1</td>\n      <td>0</td>\n      <td>0</td>\n      <td>...</td>\n      <td>0.743361</td>\n      <td>0.171188</td>\n      <td>0.284708</td>\n      <td>0.398228</td>\n      <td>0.208059</td>\n      <td>0.345994</td>\n      <td>0.345994</td>\n      <td>2</td>\n      <td>2</td>\n      <td>2</td>\n    </tr>\n    <tr>\n      <th>4</th>\n      <td>24488</td>\n      <td>7059430</td>\n      <td>60282</td>\n      <td>25</td>\n      <td>0</td>\n      <td>0</td>\n      <td>60.0</td>\n      <td>1</td>\n      <td>0</td>\n      <td>0</td>\n      <td>...</td>\n      <td>0.878291</td>\n      <td>0.258000</td>\n      <td>0.429238</td>\n      <td>0.600477</td>\n      <td>0.261848</td>\n      <td>0.435509</td>\n      <td>0.435509</td>\n      <td>2</td>\n      <td>2</td>\n      <td>2</td>\n    </tr>\n  </tbody>\n</table>\n<p>5 rows × 666 columns</p>\n</div>"
     },
     "execution_count": 28,
     "metadata": {},
     "output_type": "execute_result"
    }
   ],
   "source": [
    "DL_dataset.head()"
   ],
   "metadata": {
    "collapsed": false,
    "ExecuteTime": {
     "end_time": "2024-08-01T12:54:04.051074Z",
     "start_time": "2024-08-01T12:54:04.013591Z"
    }
   },
   "id": "e6d706e62620dab7",
   "execution_count": 28
  },
  {
   "cell_type": "code",
   "outputs": [],
   "source": [
    "drama_uniq = DL_dataset[\"drama_id\"].nunique()\n",
    "user_uniq = DL_dataset[\"user_id\"].nunique()\n",
    "sound_uniq = DL_dataset[\"sound_id_id\"].nunique()\n"
   ],
   "metadata": {
    "collapsed": false,
    "ExecuteTime": {
     "end_time": "2024-08-01T12:54:04.060444Z",
     "start_time": "2024-08-01T12:54:04.045439Z"
    }
   },
   "id": "893c457936bfd48b",
   "execution_count": 29
  },
  {
   "cell_type": "code",
   "outputs": [
    {
     "name": "stdout",
     "output_type": "stream",
     "text": [
      "drama_uniq: 345, user_uniq: 8736, sound_uniq :1925\n"
     ]
    }
   ],
   "source": [
    "print(f\"drama_uniq: {drama_uniq}, user_uniq: {user_uniq}, sound_uniq :{sound_uniq}\")"
   ],
   "metadata": {
    "collapsed": false,
    "ExecuteTime": {
     "end_time": "2024-08-01T12:54:04.071301Z",
     "start_time": "2024-08-01T12:54:04.058158Z"
    }
   },
   "id": "40f5b83fcf50ffc0",
   "execution_count": 30
  },
  {
   "cell_type": "code",
   "outputs": [],
   "source": [
    "drama_list  = DL_dataset[\"drama_id\"].unique().tolist()"
   ],
   "metadata": {
    "collapsed": false,
    "ExecuteTime": {
     "end_time": "2024-08-01T12:54:04.094300Z",
     "start_time": "2024-08-01T12:54:04.064234Z"
    }
   },
   "id": "e116ddfc686f7fb6",
   "execution_count": 31
  },
  {
   "cell_type": "code",
   "outputs": [
    {
     "data": {
      "text/plain": "52265"
     },
     "execution_count": 32,
     "metadata": {},
     "output_type": "execute_result"
    }
   ],
   "source": [
    "drama_list[0]"
   ],
   "metadata": {
    "collapsed": false,
    "ExecuteTime": {
     "end_time": "2024-08-01T12:54:04.113137Z",
     "start_time": "2024-08-01T12:54:04.074262Z"
    }
   },
   "id": "c9b73e4bb1b1d4a7",
   "execution_count": 32
  },
  {
   "cell_type": "code",
   "outputs": [],
   "source": [
    "danmu_1 = danmu_data[danmu_data['drama_id'] == drama_list[0]]"
   ],
   "metadata": {
    "collapsed": false,
    "ExecuteTime": {
     "end_time": "2024-08-01T12:54:04.407549Z",
     "start_time": "2024-08-01T12:54:04.332094Z"
    }
   },
   "id": "600f31b3c2c80c3d",
   "execution_count": 33
  },
  {
   "cell_type": "code",
   "outputs": [
    {
     "data": {
      "text/plain": "          user_id  sound_id  drama_id   danmu_id     danmu_info_date  \\\n45510    16654779   5716016     52265  182204827  3/11/2022 03:59:45   \n50753    13376746   5716016     52265  182243845  3/11/2022 13:09:11   \n78169     4472439   5716016     52265  182609083  5/11/2022 08:07:12   \n93819     6842342   5716016     52265  182836785  6/11/2022 10:19:54   \n93829     6842342   5716016     52265  182836833  6/11/2022 10:20:36   \n...           ...       ...       ...        ...                 ...   \n1434900  11374986   7005619     52265  214478220  15/1/2023 18:02:14   \n1434904  12598640   7005619     52265  214478246  15/1/2023 18:02:24   \n1434910   9277427   7005619     52265  214478266  15/1/2023 18:02:33   \n1434912  13486460   7005619     52265  214478268  15/1/2023 18:02:35   \n1434914  13669174   7005619     52265  214478278  15/1/2023 18:02:41   \n\n         danmu_info_stime_notransform danmu_info_text  \\\n45510                          172.47         南半球快入冬了   \n50753                          136.15           我爱729   \n78169                           13.00        啥时候出第二季啊   \n93819                            8.84          什么时候发呀   \n93829                           50.75           都11月了   \n...                               ...             ...   \n1434900                         34.90            终于来了   \n1434904                         12.61             ！？！   \n1434910                        106.00              来了   \n1434912                          1.39              来啦   \n1434914                          9.11     啊啊啊啊啊啊啊来了来了   \n\n         user_in_drama_sound_pay_type  drama_info_pay_type  \\\n45510                             1.0                  2.0   \n50753                             1.0                  2.0   \n78169                             1.0                  2.0   \n93819                             1.0                  2.0   \n93829                             1.0                  2.0   \n...                               ...                  ...   \n1434900                           1.0                  2.0   \n1434904                           1.0                  2.0   \n1434910                           1.0                  2.0   \n1434912                           1.0                  2.0   \n1434914                           1.0                  2.0   \n\n         sound_info_pay_type  \n45510                    0.0  \n50753                    0.0  \n78169                    0.0  \n93819                    0.0  \n93829                    0.0  \n...                      ...  \n1434900                  0.0  \n1434904                  0.0  \n1434910                  0.0  \n1434912                  0.0  \n1434914                  0.0  \n\n[100 rows x 10 columns]",
      "text/html": "<div>\n<style scoped>\n    .dataframe tbody tr th:only-of-type {\n        vertical-align: middle;\n    }\n\n    .dataframe tbody tr th {\n        vertical-align: top;\n    }\n\n    .dataframe thead th {\n        text-align: right;\n    }\n</style>\n<table border=\"1\" class=\"dataframe\">\n  <thead>\n    <tr style=\"text-align: right;\">\n      <th></th>\n      <th>user_id</th>\n      <th>sound_id</th>\n      <th>drama_id</th>\n      <th>danmu_id</th>\n      <th>danmu_info_date</th>\n      <th>danmu_info_stime_notransform</th>\n      <th>danmu_info_text</th>\n      <th>user_in_drama_sound_pay_type</th>\n      <th>drama_info_pay_type</th>\n      <th>sound_info_pay_type</th>\n    </tr>\n  </thead>\n  <tbody>\n    <tr>\n      <th>45510</th>\n      <td>16654779</td>\n      <td>5716016</td>\n      <td>52265</td>\n      <td>182204827</td>\n      <td>3/11/2022 03:59:45</td>\n      <td>172.47</td>\n      <td>南半球快入冬了</td>\n      <td>1.0</td>\n      <td>2.0</td>\n      <td>0.0</td>\n    </tr>\n    <tr>\n      <th>50753</th>\n      <td>13376746</td>\n      <td>5716016</td>\n      <td>52265</td>\n      <td>182243845</td>\n      <td>3/11/2022 13:09:11</td>\n      <td>136.15</td>\n      <td>我爱729</td>\n      <td>1.0</td>\n      <td>2.0</td>\n      <td>0.0</td>\n    </tr>\n    <tr>\n      <th>78169</th>\n      <td>4472439</td>\n      <td>5716016</td>\n      <td>52265</td>\n      <td>182609083</td>\n      <td>5/11/2022 08:07:12</td>\n      <td>13.00</td>\n      <td>啥时候出第二季啊</td>\n      <td>1.0</td>\n      <td>2.0</td>\n      <td>0.0</td>\n    </tr>\n    <tr>\n      <th>93819</th>\n      <td>6842342</td>\n      <td>5716016</td>\n      <td>52265</td>\n      <td>182836785</td>\n      <td>6/11/2022 10:19:54</td>\n      <td>8.84</td>\n      <td>什么时候发呀</td>\n      <td>1.0</td>\n      <td>2.0</td>\n      <td>0.0</td>\n    </tr>\n    <tr>\n      <th>93829</th>\n      <td>6842342</td>\n      <td>5716016</td>\n      <td>52265</td>\n      <td>182836833</td>\n      <td>6/11/2022 10:20:36</td>\n      <td>50.75</td>\n      <td>都11月了</td>\n      <td>1.0</td>\n      <td>2.0</td>\n      <td>0.0</td>\n    </tr>\n    <tr>\n      <th>...</th>\n      <td>...</td>\n      <td>...</td>\n      <td>...</td>\n      <td>...</td>\n      <td>...</td>\n      <td>...</td>\n      <td>...</td>\n      <td>...</td>\n      <td>...</td>\n      <td>...</td>\n    </tr>\n    <tr>\n      <th>1434900</th>\n      <td>11374986</td>\n      <td>7005619</td>\n      <td>52265</td>\n      <td>214478220</td>\n      <td>15/1/2023 18:02:14</td>\n      <td>34.90</td>\n      <td>终于来了</td>\n      <td>1.0</td>\n      <td>2.0</td>\n      <td>0.0</td>\n    </tr>\n    <tr>\n      <th>1434904</th>\n      <td>12598640</td>\n      <td>7005619</td>\n      <td>52265</td>\n      <td>214478246</td>\n      <td>15/1/2023 18:02:24</td>\n      <td>12.61</td>\n      <td>！？！</td>\n      <td>1.0</td>\n      <td>2.0</td>\n      <td>0.0</td>\n    </tr>\n    <tr>\n      <th>1434910</th>\n      <td>9277427</td>\n      <td>7005619</td>\n      <td>52265</td>\n      <td>214478266</td>\n      <td>15/1/2023 18:02:33</td>\n      <td>106.00</td>\n      <td>来了</td>\n      <td>1.0</td>\n      <td>2.0</td>\n      <td>0.0</td>\n    </tr>\n    <tr>\n      <th>1434912</th>\n      <td>13486460</td>\n      <td>7005619</td>\n      <td>52265</td>\n      <td>214478268</td>\n      <td>15/1/2023 18:02:35</td>\n      <td>1.39</td>\n      <td>来啦</td>\n      <td>1.0</td>\n      <td>2.0</td>\n      <td>0.0</td>\n    </tr>\n    <tr>\n      <th>1434914</th>\n      <td>13669174</td>\n      <td>7005619</td>\n      <td>52265</td>\n      <td>214478278</td>\n      <td>15/1/2023 18:02:41</td>\n      <td>9.11</td>\n      <td>啊啊啊啊啊啊啊来了来了</td>\n      <td>1.0</td>\n      <td>2.0</td>\n      <td>0.0</td>\n    </tr>\n  </tbody>\n</table>\n<p>100 rows × 10 columns</p>\n</div>"
     },
     "execution_count": 34,
     "metadata": {},
     "output_type": "execute_result"
    }
   ],
   "source": [
    "danmu_1.head(100)"
   ],
   "metadata": {
    "collapsed": false,
    "ExecuteTime": {
     "end_time": "2024-08-01T12:54:04.986726Z",
     "start_time": "2024-08-01T12:54:04.977253Z"
    }
   },
   "id": "fd4449735a6b40bf",
   "execution_count": 34
  },
  {
   "cell_type": "code",
   "outputs": [
    {
     "data": {
      "text/plain": "15629"
     },
     "execution_count": 35,
     "metadata": {},
     "output_type": "execute_result"
    }
   ],
   "source": [
    "len(danmu_1)"
   ],
   "metadata": {
    "collapsed": false,
    "ExecuteTime": {
     "end_time": "2024-08-01T12:54:27.736747Z",
     "start_time": "2024-08-01T12:54:27.724067Z"
    }
   },
   "id": "a584fae880199c0f",
   "execution_count": 35
  },
  {
   "cell_type": "code",
   "outputs": [
    {
     "data": {
      "text/plain": "2.0    9983\n1.0    5646\nName: user_in_drama_sound_pay_type, dtype: int64"
     },
     "execution_count": 41,
     "metadata": {},
     "output_type": "execute_result"
    }
   ],
   "source": [
    "danmu_1[\"user_in_drama_sound_pay_type\"].value_counts()"
   ],
   "metadata": {
    "collapsed": false,
    "ExecuteTime": {
     "end_time": "2024-08-01T12:56:36.823793Z",
     "start_time": "2024-08-01T12:56:36.815479Z"
    }
   },
   "id": "ec9a606b5e285819",
   "execution_count": 41
  },
  {
   "cell_type": "code",
   "outputs": [
    {
     "data": {
      "text/plain": "'9/3/2023 23:58:57'"
     },
     "execution_count": 45,
     "metadata": {},
     "output_type": "execute_result"
    }
   ],
   "source": [
    "danmu_1[\"danmu_info_date\"].max()"
   ],
   "metadata": {
    "collapsed": false,
    "ExecuteTime": {
     "end_time": "2024-08-01T13:01:26.695683Z",
     "start_time": "2024-08-01T13:01:26.680829Z"
    }
   },
   "id": "c261075bb879786a",
   "execution_count": 45
  },
  {
   "cell_type": "code",
   "outputs": [
    {
     "data": {
      "text/plain": "'1/2/2023 00:02:45'"
     },
     "execution_count": 46,
     "metadata": {},
     "output_type": "execute_result"
    }
   ],
   "source": [
    "danmu_1[\"danmu_info_date\"].min()\n"
   ],
   "metadata": {
    "collapsed": false,
    "ExecuteTime": {
     "end_time": "2024-08-01T13:01:27.691103Z",
     "start_time": "2024-08-01T13:01:27.676291Z"
    }
   },
   "id": "32868db1d99142c3",
   "execution_count": 46
  },
  {
   "cell_type": "code",
   "outputs": [],
   "source": [],
   "metadata": {
    "collapsed": false
   },
   "id": "fbb4660f85e92b04"
  }
 ],
 "metadata": {
  "kernelspec": {
   "display_name": "Python 3",
   "language": "python",
   "name": "python3"
  },
  "language_info": {
   "codemirror_mode": {
    "name": "ipython",
    "version": 2
   },
   "file_extension": ".py",
   "mimetype": "text/x-python",
   "name": "python",
   "nbconvert_exporter": "python",
   "pygments_lexer": "ipython2",
   "version": "2.7.6"
  }
 },
 "nbformat": 4,
 "nbformat_minor": 5
}
