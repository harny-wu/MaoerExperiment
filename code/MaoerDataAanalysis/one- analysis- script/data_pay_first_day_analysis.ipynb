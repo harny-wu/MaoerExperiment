{
 "cells": [
  {
   "cell_type": "code",
   "execution_count": 89,
   "id": "initial_id",
   "metadata": {
    "collapsed": true,
    "ExecuteTime": {
     "end_time": "2024-08-02T08:23:49.620409Z",
     "start_time": "2024-08-02T08:23:49.501595Z"
    }
   },
   "outputs": [],
   "source": [
    "import pandas as pd\n",
    "import matplotlib.pyplot as plt\n"
   ]
  },
  {
   "cell_type": "code",
   "outputs": [],
   "source": [
    "data_folder = \"../../../data/\""
   ],
   "metadata": {
    "collapsed": false,
    "ExecuteTime": {
     "end_time": "2024-08-02T08:23:49.641954Z",
     "start_time": "2024-08-02T08:23:49.630696Z"
    }
   },
   "id": "4cb5075b39c20cfa",
   "execution_count": 90
  },
  {
   "cell_type": "code",
   "outputs": [],
   "source": [
    "danmu_data = pd.read_csv(\"../../../data/activeuser_submit_danmu_sound_with_drama_202211_202303.csv\")"
   ],
   "metadata": {
    "collapsed": false,
    "ExecuteTime": {
     "end_time": "2024-08-02T08:23:55.307134Z",
     "start_time": "2024-08-02T08:23:49.662268Z"
    }
   },
   "id": "554d7652b0eb0cd7",
   "execution_count": 91
  },
  {
   "cell_type": "markdown",
   "source": [],
   "metadata": {
    "collapsed": false
   },
   "id": "4872cf6c7ac1a348"
  },
  {
   "cell_type": "code",
   "outputs": [],
   "source": [
    "danmu_data['date'] = pd.to_datetime(danmu_data['danmu_info_date']).dt.date"
   ],
   "metadata": {
    "collapsed": false,
    "ExecuteTime": {
     "end_time": "2024-08-02T08:27:23.505793Z",
     "start_time": "2024-08-02T08:23:55.365857Z"
    }
   },
   "id": "f9c9e4ed803a0467",
   "execution_count": 92
  },
  {
   "cell_type": "code",
   "outputs": [],
   "source": [
    "danmu_data = danmu_data[danmu_data[\"user_in_drama_sound_pay_type\"] == 2]"
   ],
   "metadata": {
    "collapsed": false,
    "ExecuteTime": {
     "end_time": "2024-08-02T08:31:09.443543Z",
     "start_time": "2024-08-02T08:31:07.508396Z"
    }
   },
   "id": "f861bce1b8ad394d",
   "execution_count": 116
  },
  {
   "cell_type": "code",
   "outputs": [
    {
     "name": "stdout",
     "output_type": "stream",
     "text": [
      "{(1247307, 11)} {499}\n"
     ]
    }
   ],
   "source": [
    "print({danmu_data.shape}, {danmu_data[\"drama_id\"].nunique()})"
   ],
   "metadata": {
    "collapsed": false,
    "ExecuteTime": {
     "end_time": "2024-08-02T08:32:27.048474Z",
     "start_time": "2024-08-02T08:32:26.990917Z"
    }
   },
   "id": "9ffc84fead310f76",
   "execution_count": 119
  },
  {
   "cell_type": "code",
   "outputs": [],
   "source": [
    "DL_dataset = pd.read_csv(\"../../../data/0101_0131_all_feature.csv\")"
   ],
   "metadata": {
    "collapsed": false,
    "ExecuteTime": {
     "end_time": "2024-08-02T08:27:30.350129Z",
     "start_time": "2024-08-02T08:27:23.509175Z"
    }
   },
   "id": "e1df2cfd21e386d6",
   "execution_count": 95
  },
  {
   "cell_type": "code",
   "outputs": [
    {
     "data": {
      "text/plain": "   user_id  sound_id_id  drama_id  user_name_len  user_name_has_chinese  \\\n0    12304      7017722     52265             18                      0   \n1    24488      6976696     59699             25                      0   \n2    24488      6991707     59328             25                      0   \n3    24488      7018734     59699             25                      0   \n4    24488      7059430     60282             25                      0   \n\n   user_name_has_english  user_intro_len  user_intro_has_chinese  \\\n0                      0             NaN                       0   \n1                      0            60.0                       1   \n2                      0            60.0                       1   \n3                      0            60.0                       1   \n4                      0            60.0                       1   \n\n   user_intro_has_english  user_icon_is_default  ...  k_3_15s_sim  \\\n0                       0                     0  ...     0.913019   \n1                       0                     0  ...     0.835461   \n2                       0                     0  ...     0.826704   \n3                       0                     0  ...     0.743361   \n4                       0                     0  ...     0.878291   \n\n   k_2_8s_sim_q_1_num  k_2_8s_sim_q_2_num  k_2_8s_sim_q_3_num  \\\n0            0.283098            0.468008            0.652918   \n1            0.252245            0.417907            0.583569   \n2            0.248742            0.412480            0.576218   \n3            0.171188            0.284708            0.398228   \n4            0.258000            0.429238            0.600477   \n\n   k_2_15s_sim_q_1_num  k_2_15s_sim_q_2_num  k_2_15s_sim_q_3_num  \\\n0             0.279280             0.461234             0.461234   \n1             0.254123             0.420560             0.420560   \n2             0.252045             0.416657             0.416657   \n3             0.208059             0.345994             0.345994   \n4             0.261848             0.435509             0.435509   \n\n   user_in_drama_is_pay_for_drama_in_next_time  pay_FS  pay_DL  \n0                                            2       2       2  \n1                                            2       2       2  \n2                                            2       2       2  \n3                                            2       2       2  \n4                                            2       2       2  \n\n[5 rows x 666 columns]",
      "text/html": "<div>\n<style scoped>\n    .dataframe tbody tr th:only-of-type {\n        vertical-align: middle;\n    }\n\n    .dataframe tbody tr th {\n        vertical-align: top;\n    }\n\n    .dataframe thead th {\n        text-align: right;\n    }\n</style>\n<table border=\"1\" class=\"dataframe\">\n  <thead>\n    <tr style=\"text-align: right;\">\n      <th></th>\n      <th>user_id</th>\n      <th>sound_id_id</th>\n      <th>drama_id</th>\n      <th>user_name_len</th>\n      <th>user_name_has_chinese</th>\n      <th>user_name_has_english</th>\n      <th>user_intro_len</th>\n      <th>user_intro_has_chinese</th>\n      <th>user_intro_has_english</th>\n      <th>user_icon_is_default</th>\n      <th>...</th>\n      <th>k_3_15s_sim</th>\n      <th>k_2_8s_sim_q_1_num</th>\n      <th>k_2_8s_sim_q_2_num</th>\n      <th>k_2_8s_sim_q_3_num</th>\n      <th>k_2_15s_sim_q_1_num</th>\n      <th>k_2_15s_sim_q_2_num</th>\n      <th>k_2_15s_sim_q_3_num</th>\n      <th>user_in_drama_is_pay_for_drama_in_next_time</th>\n      <th>pay_FS</th>\n      <th>pay_DL</th>\n    </tr>\n  </thead>\n  <tbody>\n    <tr>\n      <th>0</th>\n      <td>12304</td>\n      <td>7017722</td>\n      <td>52265</td>\n      <td>18</td>\n      <td>0</td>\n      <td>0</td>\n      <td>NaN</td>\n      <td>0</td>\n      <td>0</td>\n      <td>0</td>\n      <td>...</td>\n      <td>0.913019</td>\n      <td>0.283098</td>\n      <td>0.468008</td>\n      <td>0.652918</td>\n      <td>0.279280</td>\n      <td>0.461234</td>\n      <td>0.461234</td>\n      <td>2</td>\n      <td>2</td>\n      <td>2</td>\n    </tr>\n    <tr>\n      <th>1</th>\n      <td>24488</td>\n      <td>6976696</td>\n      <td>59699</td>\n      <td>25</td>\n      <td>0</td>\n      <td>0</td>\n      <td>60.0</td>\n      <td>1</td>\n      <td>0</td>\n      <td>0</td>\n      <td>...</td>\n      <td>0.835461</td>\n      <td>0.252245</td>\n      <td>0.417907</td>\n      <td>0.583569</td>\n      <td>0.254123</td>\n      <td>0.420560</td>\n      <td>0.420560</td>\n      <td>2</td>\n      <td>2</td>\n      <td>2</td>\n    </tr>\n    <tr>\n      <th>2</th>\n      <td>24488</td>\n      <td>6991707</td>\n      <td>59328</td>\n      <td>25</td>\n      <td>0</td>\n      <td>0</td>\n      <td>60.0</td>\n      <td>1</td>\n      <td>0</td>\n      <td>0</td>\n      <td>...</td>\n      <td>0.826704</td>\n      <td>0.248742</td>\n      <td>0.412480</td>\n      <td>0.576218</td>\n      <td>0.252045</td>\n      <td>0.416657</td>\n      <td>0.416657</td>\n      <td>2</td>\n      <td>2</td>\n      <td>2</td>\n    </tr>\n    <tr>\n      <th>3</th>\n      <td>24488</td>\n      <td>7018734</td>\n      <td>59699</td>\n      <td>25</td>\n      <td>0</td>\n      <td>0</td>\n      <td>60.0</td>\n      <td>1</td>\n      <td>0</td>\n      <td>0</td>\n      <td>...</td>\n      <td>0.743361</td>\n      <td>0.171188</td>\n      <td>0.284708</td>\n      <td>0.398228</td>\n      <td>0.208059</td>\n      <td>0.345994</td>\n      <td>0.345994</td>\n      <td>2</td>\n      <td>2</td>\n      <td>2</td>\n    </tr>\n    <tr>\n      <th>4</th>\n      <td>24488</td>\n      <td>7059430</td>\n      <td>60282</td>\n      <td>25</td>\n      <td>0</td>\n      <td>0</td>\n      <td>60.0</td>\n      <td>1</td>\n      <td>0</td>\n      <td>0</td>\n      <td>...</td>\n      <td>0.878291</td>\n      <td>0.258000</td>\n      <td>0.429238</td>\n      <td>0.600477</td>\n      <td>0.261848</td>\n      <td>0.435509</td>\n      <td>0.435509</td>\n      <td>2</td>\n      <td>2</td>\n      <td>2</td>\n    </tr>\n  </tbody>\n</table>\n<p>5 rows × 666 columns</p>\n</div>"
     },
     "execution_count": 96,
     "metadata": {},
     "output_type": "execute_result"
    }
   ],
   "source": [
    "DL_dataset.head()"
   ],
   "metadata": {
    "collapsed": false,
    "ExecuteTime": {
     "end_time": "2024-08-02T08:27:31.150604Z",
     "start_time": "2024-08-02T08:27:25.948684Z"
    }
   },
   "id": "e6d706e62620dab7",
   "execution_count": 96
  },
  {
   "cell_type": "code",
   "outputs": [],
   "source": [
    "drama_uniq = DL_dataset[\"drama_id\"].nunique()\n",
    "user_uniq = DL_dataset[\"user_id\"].nunique()\n",
    "sound_uniq = DL_dataset[\"sound_id_id\"].nunique()\n"
   ],
   "metadata": {
    "collapsed": false,
    "ExecuteTime": {
     "end_time": "2024-08-02T08:27:31.156526Z",
     "start_time": "2024-08-02T08:27:25.998317Z"
    }
   },
   "id": "893c457936bfd48b",
   "execution_count": 97
  },
  {
   "cell_type": "code",
   "outputs": [
    {
     "name": "stdout",
     "output_type": "stream",
     "text": [
      "drama_uniq: 345, user_uniq: 8736, sound_uniq :1925\n"
     ]
    }
   ],
   "source": [
    "print(f\"drama_uniq: {drama_uniq}, user_uniq: {user_uniq}, sound_uniq :{sound_uniq}\")"
   ],
   "metadata": {
    "collapsed": false,
    "ExecuteTime": {
     "end_time": "2024-08-02T08:27:31.309157Z",
     "start_time": "2024-08-02T08:27:26.000542Z"
    }
   },
   "id": "40f5b83fcf50ffc0",
   "execution_count": 98
  },
  {
   "cell_type": "code",
   "outputs": [],
   "source": [
    "drama_list  = DL_dataset[\"drama_id\"].unique().tolist()"
   ],
   "metadata": {
    "collapsed": false,
    "ExecuteTime": {
     "end_time": "2024-08-02T08:27:31.349689Z",
     "start_time": "2024-08-02T08:27:26.000843Z"
    }
   },
   "id": "e116ddfc686f7fb6",
   "execution_count": 99
  },
  {
   "cell_type": "code",
   "outputs": [
    {
     "data": {
      "text/plain": "345"
     },
     "execution_count": 100,
     "metadata": {},
     "output_type": "execute_result"
    }
   ],
   "source": [
    "len(drama_list)"
   ],
   "metadata": {
    "collapsed": false,
    "ExecuteTime": {
     "end_time": "2024-08-02T08:27:31.354459Z",
     "start_time": "2024-08-02T08:27:26.001014Z"
    }
   },
   "id": "aef910663ac3e558",
   "execution_count": 100
  },
  {
   "cell_type": "code",
   "outputs": [
    {
     "data": {
      "text/plain": "52265"
     },
     "execution_count": 101,
     "metadata": {},
     "output_type": "execute_result"
    }
   ],
   "source": [
    "drama_list[0]"
   ],
   "metadata": {
    "collapsed": false,
    "ExecuteTime": {
     "end_time": "2024-08-02T08:27:31.404630Z",
     "start_time": "2024-08-02T08:27:26.003079Z"
    }
   },
   "id": "c9b73e4bb1b1d4a7",
   "execution_count": 101
  },
  {
   "cell_type": "code",
   "outputs": [],
   "source": [
    "danmu_data_0101_drama_id =danmu_data[danmu_data ['drama_id'].isin(drama_list)]\n",
    "danmu_data_0101_drama_id_in_2023 = danmu_data_0101_drama_id[pd.to_datetime(danmu_data_0101_drama_id['date']) >= '2023-02-01']\n"
   ],
   "metadata": {
    "collapsed": false,
    "ExecuteTime": {
     "end_time": "2024-08-02T08:34:56.177146Z",
     "start_time": "2024-08-02T08:34:55.649003Z"
    }
   },
   "id": "817e96d6fb40172d",
   "execution_count": 134
  },
  {
   "cell_type": "code",
   "outputs": [
    {
     "data": {
      "text/plain": "(413921, 11)"
     },
     "execution_count": 135,
     "metadata": {},
     "output_type": "execute_result"
    }
   ],
   "source": [
    "danmu_data_0101_drama_id_in_2023.shape"
   ],
   "metadata": {
    "collapsed": false,
    "ExecuteTime": {
     "end_time": "2024-08-02T08:34:57.132340Z",
     "start_time": "2024-08-02T08:34:57.126016Z"
    }
   },
   "id": "4cd8509584f6453f",
   "execution_count": 135
  },
  {
   "cell_type": "code",
   "outputs": [
    {
     "data": {
      "text/plain": "count    413921.0\nmean          2.0\nstd           0.0\nmin           2.0\n25%           2.0\n50%           2.0\n75%           2.0\nmax           2.0\nName: user_in_drama_sound_pay_type, dtype: float64"
     },
     "execution_count": 136,
     "metadata": {},
     "output_type": "execute_result"
    }
   ],
   "source": [
    "danmu_data_0101_drama_id_in_2023[\"user_in_drama_sound_pay_type\"].describe()"
   ],
   "metadata": {
    "collapsed": false,
    "ExecuteTime": {
     "end_time": "2024-08-02T08:34:57.632696Z",
     "start_time": "2024-08-02T08:34:57.608054Z"
    }
   },
   "id": "2f78eafabea9b45",
   "execution_count": 136
  },
  {
   "cell_type": "code",
   "outputs": [],
   "source": [
    "grouped_df = danmu_data_0101_drama_id_in_2023.groupby('drama_id')['date'].agg(['max', 'min'])\n"
   ],
   "metadata": {
    "collapsed": false,
    "ExecuteTime": {
     "end_time": "2024-08-02T08:34:58.462860Z",
     "start_time": "2024-08-02T08:34:58.140505Z"
    }
   },
   "id": "4e9a0d3401f2c763",
   "execution_count": 137
  },
  {
   "cell_type": "code",
   "outputs": [],
   "source": [
    "grouped_df.to_csv(\"pay_first_day_data.csv\")"
   ],
   "metadata": {
    "collapsed": false,
    "ExecuteTime": {
     "end_time": "2024-08-02T08:34:58.737321Z",
     "start_time": "2024-08-02T08:34:58.719529Z"
    }
   },
   "id": "153b328290b4feac",
   "execution_count": 138
  },
  {
   "cell_type": "code",
   "outputs": [
    {
     "data": {
      "text/plain": "                 max         min\ndrama_id                        \n9059      2023-11-02  2023-02-03\n9888      2023-12-02  2023-02-01\n13774     2023-10-01  2023-02-25\n14103     2023-03-02  2023-03-02\n15273     2023-08-01  2023-05-03\n...              ...         ...\n59564     2023-12-03  2023-02-02\n59699     2023-12-03  2023-02-02\n60013     2023-12-03  2023-02-03\n60282     2023-12-03  2023-02-03\n60366     2023-12-03  2023-02-03\n\n[337 rows x 2 columns]",
      "text/html": "<div>\n<style scoped>\n    .dataframe tbody tr th:only-of-type {\n        vertical-align: middle;\n    }\n\n    .dataframe tbody tr th {\n        vertical-align: top;\n    }\n\n    .dataframe thead th {\n        text-align: right;\n    }\n</style>\n<table border=\"1\" class=\"dataframe\">\n  <thead>\n    <tr style=\"text-align: right;\">\n      <th></th>\n      <th>max</th>\n      <th>min</th>\n    </tr>\n    <tr>\n      <th>drama_id</th>\n      <th></th>\n      <th></th>\n    </tr>\n  </thead>\n  <tbody>\n    <tr>\n      <th>9059</th>\n      <td>2023-11-02</td>\n      <td>2023-02-03</td>\n    </tr>\n    <tr>\n      <th>9888</th>\n      <td>2023-12-02</td>\n      <td>2023-02-01</td>\n    </tr>\n    <tr>\n      <th>13774</th>\n      <td>2023-10-01</td>\n      <td>2023-02-25</td>\n    </tr>\n    <tr>\n      <th>14103</th>\n      <td>2023-03-02</td>\n      <td>2023-03-02</td>\n    </tr>\n    <tr>\n      <th>15273</th>\n      <td>2023-08-01</td>\n      <td>2023-05-03</td>\n    </tr>\n    <tr>\n      <th>...</th>\n      <td>...</td>\n      <td>...</td>\n    </tr>\n    <tr>\n      <th>59564</th>\n      <td>2023-12-03</td>\n      <td>2023-02-02</td>\n    </tr>\n    <tr>\n      <th>59699</th>\n      <td>2023-12-03</td>\n      <td>2023-02-02</td>\n    </tr>\n    <tr>\n      <th>60013</th>\n      <td>2023-12-03</td>\n      <td>2023-02-03</td>\n    </tr>\n    <tr>\n      <th>60282</th>\n      <td>2023-12-03</td>\n      <td>2023-02-03</td>\n    </tr>\n    <tr>\n      <th>60366</th>\n      <td>2023-12-03</td>\n      <td>2023-02-03</td>\n    </tr>\n  </tbody>\n</table>\n<p>337 rows × 2 columns</p>\n</div>"
     },
     "execution_count": 139,
     "metadata": {},
     "output_type": "execute_result"
    }
   ],
   "source": [
    "grouped_df"
   ],
   "metadata": {
    "collapsed": false,
    "ExecuteTime": {
     "end_time": "2024-08-02T08:34:59.634499Z",
     "start_time": "2024-08-02T08:34:59.621245Z"
    }
   },
   "id": "de614872439f93ce",
   "execution_count": 139
  },
  {
   "cell_type": "code",
   "outputs": [
    {
     "data": {
      "text/plain": "count            337\nunique            27\ntop       2023-02-01\nfreq             221\nName: min, dtype: object"
     },
     "execution_count": 140,
     "metadata": {},
     "output_type": "execute_result"
    }
   ],
   "source": [
    "grouped_df[\"min\"].describe()"
   ],
   "metadata": {
    "collapsed": false,
    "ExecuteTime": {
     "end_time": "2024-08-02T08:35:02.628062Z",
     "start_time": "2024-08-02T08:35:02.616031Z"
    }
   },
   "id": "7c71adcc0d19eb3c",
   "execution_count": 140
  },
  {
   "cell_type": "code",
   "outputs": [],
   "source": [],
   "metadata": {
    "collapsed": false
   },
   "id": "3296c01914f9bea8"
  },
  {
   "cell_type": "code",
   "outputs": [],
   "source": [
    "min_pay = grouped_df[\"min\"].value_counts()"
   ],
   "metadata": {
    "collapsed": false,
    "ExecuteTime": {
     "end_time": "2024-08-02T13:04:19.271042Z",
     "start_time": "2024-08-02T13:04:19.183234Z"
    }
   },
   "id": "a1ae5d8bcdddb442",
   "execution_count": 141
  },
  {
   "cell_type": "code",
   "outputs": [
    {
     "data": {
      "text/plain": "2023-02-01    221\n2023-02-02     43\n2023-02-03     19\n2023-02-13     14\n2023-02-16      7\n2023-02-19      3\n2023-02-15      3\n2023-02-17      2\n2023-02-20      2\n2023-02-21      2\n2023-02-22      2\n2023-02-14      2\n2023-02-18      2\n2023-02-25      2\n2023-08-01      1\n2023-02-23      1\n2023-03-01      1\n2023-06-01      1\n2023-05-01      1\n2023-09-02      1\n2023-02-24      1\n2023-03-03      1\n2023-08-03      1\n2023-09-01      1\n2023-05-03      1\n2023-03-02      1\n2023-02-26      1\nName: min, dtype: int64"
     },
     "execution_count": 142,
     "metadata": {},
     "output_type": "execute_result"
    }
   ],
   "source": [
    "min_pay"
   ],
   "metadata": {
    "collapsed": false,
    "ExecuteTime": {
     "end_time": "2024-08-02T13:04:27.864680Z",
     "start_time": "2024-08-02T13:04:27.850494Z"
    }
   },
   "id": "8b045ba413c4ae29",
   "execution_count": 142
  },
  {
   "cell_type": "code",
   "outputs": [
    {
     "data": {
      "text/plain": "Text(0.5, 1.0, 'Value Counts')"
     },
     "execution_count": 143,
     "metadata": {},
     "output_type": "execute_result"
    },
    {
     "data": {
      "text/plain": "<Figure size 1000x600 with 1 Axes>",
      "image/png": "[encoded data removed]"
     },
     "metadata": {},
     "output_type": "display_data"
    }
   ],
   "source": [
    "# 使用plot()方法绘制条形图，并设置图片大小\n",
    "min_pay.plot(kind='bar', figsize=(10, 6))\n",
    "\n",
    "# 调整横坐标长度\n",
    "plt.xticks(rotation=45)\n",
    "\n",
    "# 添加图表标题和轴标签\n",
    "plt.title('Value Counts')"
   ],
   "metadata": {
    "collapsed": false,
    "ExecuteTime": {
     "end_time": "2024-08-02T13:04:37.839874Z",
     "start_time": "2024-08-02T13:04:37.517679Z"
    }
   },
   "id": "79ef19876007e1a2",
   "execution_count": 143
  },
  {
   "cell_type": "markdown",
   "source": [],
   "metadata": {
    "collapsed": false
   },
   "id": "17cfffd1309c6b77"
  },
  {
   "cell_type": "code",
   "outputs": [],
   "source": [],
   "metadata": {
    "collapsed": false
   },
   "id": "2258583cb05bf358"
  }
 ],
 "metadata": {
  "kernelspec": {
   "display_name": "Python 3",
   "language": "python",
   "name": "python3"
  },
  "language_info": {
   "codemirror_mode": {
    "name": "ipython",
    "version": 2
   },
   "file_extension": ".py",
   "mimetype": "text/x-python",
   "name": "python",
   "nbconvert_exporter": "python",
   "pygments_lexer": "ipython2",
   "version": "2.7.6"
  }
 },
 "nbformat": 4,
 "nbformat_minor": 5
}
