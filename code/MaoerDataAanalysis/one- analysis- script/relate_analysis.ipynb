{
 "cells": [
  {
   "cell_type": "code",
   "execution_count": 2,
   "id": "initial_id",
   "metadata": {
    "collapsed": true,
    "ExecuteTime": {
     "end_time": "2024-09-04T08:05:17.941705Z",
     "start_time": "2024-09-04T08:05:16.233894Z"
    }
   },
   "outputs": [],
   "source": [
    "import pandas as pd\n",
    "import matplotlib.pyplot as plt\n"
   ]
  },
  {
   "cell_type": "code",
   "outputs": [],
   "source": [],
   "metadata": {
    "collapsed": false,
    "ExecuteTime": {
     "end_time": "2024-09-04T08:05:17.949866Z",
     "start_time": "2024-09-04T08:05:17.943958Z"
    }
   },
   "id": "c2eaffa9074fae34",
   "execution_count": 2
  },
  {
   "cell_type": "code",
   "outputs": [],
   "source": [
    "data = pd.read_csv(\"0101_0131_all_feature_FS_deal.csv\")\n"
   ],
   "metadata": {
    "collapsed": false,
    "ExecuteTime": {
     "end_time": "2024-09-04T08:05:18.269658Z",
     "start_time": "2024-09-04T08:05:17.955554Z"
    }
   },
   "id": "4bcde46a004a9fbf",
   "execution_count": 3
  },
  {
   "cell_type": "code",
   "outputs": [
    {
     "data": {
      "text/plain": "(12793, 3)"
     },
     "execution_count": 17,
     "metadata": {},
     "output_type": "execute_result"
    }
   ],
   "source": [
    "data.shape"
   ],
   "metadata": {
    "collapsed": false,
    "ExecuteTime": {
     "end_time": "2024-09-04T08:32:32.413734Z",
     "start_time": "2024-09-04T08:32:32.403441Z"
    }
   },
   "id": "2df254956a479685",
   "execution_count": 17
  },
  {
   "cell_type": "code",
   "outputs": [],
   "source": [
    "data = data[[\"user_id\",\"sound_id\",\"pay_DL\"]]"
   ],
   "metadata": {
    "collapsed": false,
    "ExecuteTime": {
     "end_time": "2024-09-04T08:32:32.555564Z",
     "start_time": "2024-09-04T08:32:32.551515Z"
    }
   },
   "id": "ccb1e55286d00603",
   "execution_count": 18
  },
  {
   "cell_type": "code",
   "outputs": [],
   "source": [],
   "metadata": {
    "collapsed": false,
    "ExecuteTime": {
     "end_time": "2024-09-04T08:32:32.929269Z",
     "start_time": "2024-09-04T08:32:32.918154Z"
    }
   },
   "id": "8e9bd67c3447dab3",
   "execution_count": 18
  },
  {
   "cell_type": "code",
   "outputs": [],
   "source": [
    "user_id_counts = data['user_id'].value_counts()"
   ],
   "metadata": {
    "collapsed": false,
    "ExecuteTime": {
     "end_time": "2024-09-04T08:32:33.252902Z",
     "start_time": "2024-09-04T08:32:33.242725Z"
    }
   },
   "id": "4615881846725da5",
   "execution_count": 19
  },
  {
   "cell_type": "code",
   "outputs": [],
   "source": [],
   "metadata": {
    "collapsed": false,
    "ExecuteTime": {
     "end_time": "2024-09-04T08:32:33.743563Z",
     "start_time": "2024-09-04T08:32:33.738685Z"
    }
   },
   "id": "d62faabeaba271cb",
   "execution_count": 19
  },
  {
   "cell_type": "code",
   "outputs": [
    {
     "data": {
      "text/plain": "6976696    502\n7017722    470\n6928876    399\n7018734    313\n6905747    262\n          ... \n4197235      1\n6709330      1\n3233631      1\n5068368      1\n3483134      1\nName: sound_id, Length: 1607, dtype: int64"
     },
     "execution_count": 20,
     "metadata": {},
     "output_type": "execute_result"
    }
   ],
   "source": [
    "data['sound_id'].value_counts()"
   ],
   "metadata": {
    "collapsed": false,
    "ExecuteTime": {
     "end_time": "2024-09-04T08:32:34.431933Z",
     "start_time": "2024-09-04T08:32:34.422619Z"
    }
   },
   "id": "2ca860f764849aae",
   "execution_count": 20
  },
  {
   "cell_type": "code",
   "outputs": [],
   "source": [
    "# 统计每个用户访问的项目数量\n",
    "item_counts = data.groupby('user_id')['sound_id'].count().reset_index()\n",
    "item_counts.columns = ['user_id', 'sound_id']\n",
    "\n",
    "# 统计每个用户的is_pay为0和1的数量\n",
    "pay_counts = data.groupby(['user_id', 'pay_DL']).size().unstack(fill_value=0).reset_index()\n",
    "pay_counts.columns = ['user_id', 'pay_DL_0','pay_DL_1']\n",
    "\n",
    "# 将两个结果合并\n",
    "result = pd.merge(item_counts, pay_counts, on='user_id')\n"
   ],
   "metadata": {
    "collapsed": false,
    "ExecuteTime": {
     "end_time": "2024-09-04T08:36:15.751837Z",
     "start_time": "2024-09-04T08:36:15.663743Z"
    }
   },
   "id": "86a46424f86c6130",
   "execution_count": 25
  },
  {
   "cell_type": "code",
   "outputs": [],
   "source": [
    "result.to_csv(\"cross_info_0101_0131_FS.csv\",index=None)"
   ],
   "metadata": {
    "collapsed": false,
    "ExecuteTime": {
     "end_time": "2024-09-04T08:36:15.898939Z",
     "start_time": "2024-09-04T08:36:15.873178Z"
    }
   },
   "id": "651e2276c8735d51",
   "execution_count": 26
  },
  {
   "cell_type": "code",
   "outputs": [
    {
     "data": {
      "text/plain": "       user_id  sound_id  pay_DL_0  pay_DL_1\n0        12304         1         1         0\n1        24488         5         4         1\n2        40018         1         0         1\n3        46155         1         0         1\n4        52981         1         1         0\n...        ...       ...       ...       ...\n5728  24432070         1         0         1\n5729  24434565         1         0         1\n5730  24522524         4         0         4\n5731  24547495         1         0         1\n5732  24657259         4         0         4\n\n[5733 rows x 4 columns]",
      "text/html": "<div>\n<style scoped>\n    .dataframe tbody tr th:only-of-type {\n        vertical-align: middle;\n    }\n\n    .dataframe tbody tr th {\n        vertical-align: top;\n    }\n\n    .dataframe thead th {\n        text-align: right;\n    }\n</style>\n<table border=\"1\" class=\"dataframe\">\n  <thead>\n    <tr style=\"text-align: right;\">\n      <th></th>\n      <th>user_id</th>\n      <th>sound_id</th>\n      <th>pay_DL_0</th>\n      <th>pay_DL_1</th>\n    </tr>\n  </thead>\n  <tbody>\n    <tr>\n      <th>0</th>\n      <td>12304</td>\n      <td>1</td>\n      <td>1</td>\n      <td>0</td>\n    </tr>\n    <tr>\n      <th>1</th>\n      <td>24488</td>\n      <td>5</td>\n      <td>4</td>\n      <td>1</td>\n    </tr>\n    <tr>\n      <th>2</th>\n      <td>40018</td>\n      <td>1</td>\n      <td>0</td>\n      <td>1</td>\n    </tr>\n    <tr>\n      <th>3</th>\n      <td>46155</td>\n      <td>1</td>\n      <td>0</td>\n      <td>1</td>\n    </tr>\n    <tr>\n      <th>4</th>\n      <td>52981</td>\n      <td>1</td>\n      <td>1</td>\n      <td>0</td>\n    </tr>\n    <tr>\n      <th>...</th>\n      <td>...</td>\n      <td>...</td>\n      <td>...</td>\n      <td>...</td>\n    </tr>\n    <tr>\n      <th>5728</th>\n      <td>24432070</td>\n      <td>1</td>\n      <td>0</td>\n      <td>1</td>\n    </tr>\n    <tr>\n      <th>5729</th>\n      <td>24434565</td>\n      <td>1</td>\n      <td>0</td>\n      <td>1</td>\n    </tr>\n    <tr>\n      <th>5730</th>\n      <td>24522524</td>\n      <td>4</td>\n      <td>0</td>\n      <td>4</td>\n    </tr>\n    <tr>\n      <th>5731</th>\n      <td>24547495</td>\n      <td>1</td>\n      <td>0</td>\n      <td>1</td>\n    </tr>\n    <tr>\n      <th>5732</th>\n      <td>24657259</td>\n      <td>4</td>\n      <td>0</td>\n      <td>4</td>\n    </tr>\n  </tbody>\n</table>\n<p>5733 rows × 4 columns</p>\n</div>"
     },
     "execution_count": 27,
     "metadata": {},
     "output_type": "execute_result"
    }
   ],
   "source": [
    "result"
   ],
   "metadata": {
    "collapsed": false,
    "ExecuteTime": {
     "end_time": "2024-09-04T08:36:16.350570Z",
     "start_time": "2024-09-04T08:36:16.291657Z"
    }
   },
   "id": "d435390097873000",
   "execution_count": 27
  },
  {
   "cell_type": "code",
   "outputs": [],
   "source": [],
   "metadata": {
    "collapsed": false
   },
   "id": "3de88b0e40eaa83e"
  }
 ],
 "metadata": {
  "kernelspec": {
   "display_name": "Python 3",
   "language": "python",
   "name": "python3"
  },
  "language_info": {
   "codemirror_mode": {
    "name": "ipython",
    "version": 2
   },
   "file_extension": ".py",
   "mimetype": "text/x-python",
   "name": "python",
   "nbconvert_exporter": "python",
   "pygments_lexer": "ipython2",
   "version": "2.7.6"
  }
 },
 "nbformat": 4,
 "nbformat_minor": 5
}
