{
 "cells": [
  {
   "cell_type": "code",
   "execution_count": 8,
   "id": "initial_id",
   "metadata": {
    "collapsed": true,
    "ExecuteTime": {
     "end_time": "2024-08-29T12:24:52.403211Z",
     "start_time": "2024-08-29T12:24:51.515732Z"
    }
   },
   "outputs": [],
   "source": [
    "import pandas as pd\n",
    "import matplotlib.pyplot as plt\n"
   ]
  },
  {
   "cell_type": "code",
   "outputs": [],
   "source": [],
   "metadata": {
    "collapsed": false
   },
   "id": "c2eaffa9074fae34"
  },
  {
   "cell_type": "code",
   "outputs": [],
   "source": [
    "data = pd.read_csv(\"0101_0131_all_feature_FS.csv\")\n"
   ],
   "metadata": {
    "collapsed": false,
    "ExecuteTime": {
     "end_time": "2024-08-29T12:31:40.364017Z",
     "start_time": "2024-08-29T12:31:38.579395Z"
    }
   },
   "id": "4bcde46a004a9fbf",
   "execution_count": 13
  },
  {
   "cell_type": "code",
   "outputs": [
    {
     "data": {
      "text/plain": "(12793, 668)"
     },
     "execution_count": 14,
     "metadata": {},
     "output_type": "execute_result"
    }
   ],
   "source": [
    "data.shape"
   ],
   "metadata": {
    "collapsed": false,
    "ExecuteTime": {
     "end_time": "2024-08-29T12:31:40.378920Z",
     "start_time": "2024-08-29T12:31:40.371907Z"
    }
   },
   "id": "2df254956a479685",
   "execution_count": 14
  },
  {
   "cell_type": "code",
   "outputs": [],
   "source": [
    "data = data[[\"user_id\",\"sound_id_id\",\"drama_id\",\"pay_FS\"]]"
   ],
   "metadata": {
    "collapsed": false,
    "ExecuteTime": {
     "end_time": "2024-08-29T12:34:48.984804Z",
     "start_time": "2024-08-29T12:34:48.977549Z"
    }
   },
   "id": "ccb1e55286d00603",
   "execution_count": 26
  },
  {
   "cell_type": "code",
   "outputs": [],
   "source": [
    "user_id_counts = data['user_id'].value_counts()"
   ],
   "metadata": {
    "collapsed": false,
    "ExecuteTime": {
     "end_time": "2024-08-29T12:34:49.558550Z",
     "start_time": "2024-08-29T12:34:49.550436Z"
    }
   },
   "id": "4615881846725da5",
   "execution_count": 27
  },
  {
   "cell_type": "code",
   "outputs": [
    {
     "data": {
      "text/plain": "59699    1309\n59564     946\n52265     501\n53304     266\n59041     242\n         ... \n50722       1\n40141       1\n44949       1\n26945       1\n31786       1\nName: drama_id, Length: 325, dtype: int64"
     },
     "execution_count": 31,
     "metadata": {},
     "output_type": "execute_result"
    }
   ],
   "source": [
    "data['drama_id'].value_counts()"
   ],
   "metadata": {
    "collapsed": false,
    "ExecuteTime": {
     "end_time": "2024-08-29T12:35:27.991018Z",
     "start_time": "2024-08-29T12:35:27.982055Z"
    }
   },
   "id": "d62faabeaba271cb",
   "execution_count": 31
  },
  {
   "cell_type": "code",
   "outputs": [
    {
     "data": {
      "text/plain": "6976696    502\n7017722    470\n6928876    399\n7018734    313\n6905747    262\n          ... \n4197235      1\n6709330      1\n3233631      1\n5068368      1\n3483134      1\nName: sound_id_id, Length: 1607, dtype: int64"
     },
     "execution_count": 35,
     "metadata": {},
     "output_type": "execute_result"
    }
   ],
   "source": [
    "data['sound_id_id'].value_counts()"
   ],
   "metadata": {
    "collapsed": false,
    "ExecuteTime": {
     "end_time": "2024-08-29T12:42:57.084857Z",
     "start_time": "2024-08-29T12:42:57.054348Z"
    }
   },
   "id": "2ca860f764849aae",
   "execution_count": 35
  },
  {
   "cell_type": "code",
   "outputs": [],
   "source": [
    "# 统计每个用户访问的项目数量\n",
    "item_counts = data.groupby('user_id')['sound_id_id'].count().reset_index()\n",
    "item_counts.columns = ['user_id', 'sound_id_id']\n",
    "\n",
    "# 统计每个用户的is_pay为0和1的数量\n",
    "pay_counts = data.groupby(['user_id', 'pay_FS']).size().unstack(fill_value=0).reset_index()\n",
    "pay_counts.columns = ['user_id', 'pay_FS', 'pay_FS']\n",
    "\n",
    "# 将两个结果合并\n",
    "result = pd.merge(item_counts, pay_counts, on='user_id')\n"
   ],
   "metadata": {
    "collapsed": false,
    "ExecuteTime": {
     "end_time": "2024-08-29T12:45:09.639449Z",
     "start_time": "2024-08-29T12:45:09.579856Z"
    }
   },
   "id": "86a46424f86c6130",
   "execution_count": 36
  },
  {
   "cell_type": "code",
   "outputs": [],
   "source": [
    "result.to_csv(\"cross_info_0101_0131_FS.csv\",index=None)"
   ],
   "metadata": {
    "collapsed": false,
    "ExecuteTime": {
     "end_time": "2024-08-29T12:46:55.534797Z",
     "start_time": "2024-08-29T12:46:55.498728Z"
    }
   },
   "id": "651e2276c8735d51",
   "execution_count": 38
  },
  {
   "cell_type": "code",
   "outputs": [],
   "source": [],
   "metadata": {
    "collapsed": false
   },
   "id": "d435390097873000"
  }
 ],
 "metadata": {
  "kernelspec": {
   "display_name": "Python 3",
   "language": "python",
   "name": "python3"
  },
  "language_info": {
   "codemirror_mode": {
    "name": "ipython",
    "version": 2
   },
   "file_extension": ".py",
   "mimetype": "text/x-python",
   "name": "python",
   "nbconvert_exporter": "python",
   "pygments_lexer": "ipython2",
   "version": "2.7.6"
  }
 },
 "nbformat": 4,
 "nbformat_minor": 5
}
