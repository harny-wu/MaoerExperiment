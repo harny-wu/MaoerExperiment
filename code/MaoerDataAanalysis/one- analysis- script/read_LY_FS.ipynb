{
 "cells": [
  {
   "cell_type": "code",
   "execution_count": 10,
   "id": "initial_id",
   "metadata": {
    "collapsed": true,
    "ExecuteTime": {
     "end_time": "2024-07-26T11:10:45.336680Z",
     "start_time": "2024-07-26T11:10:45.329954Z"
    }
   },
   "outputs": [],
   "source": [
    "import pandas as pd"
   ]
  },
  {
   "cell_type": "code",
   "outputs": [],
   "source": [
    "data = pd.read_csv(\"../../MaoerDL_LY/Dataset/maoer_timewindows_continue_discrete_feature_column.csv\")"
   ],
   "metadata": {
    "collapsed": false,
    "ExecuteTime": {
     "end_time": "2024-07-26T11:10:45.895654Z",
     "start_time": "2024-07-26T11:10:45.875562Z"
    }
   },
   "id": "f6b9b62618df018c",
   "execution_count": 11
  },
  {
   "cell_type": "code",
   "outputs": [
    {
     "data": {
      "text/plain": "     DataSet                                                QoE  \\\n0  0101_0131  ['user_name_has_english', 'user_in_sound_is_su...   \n1  0115_0215  ['user_submit_danmu_drama_completed_num_now', ...   \n2  0201_0230  ['user_name_has_english', 'user_icon_is_defaul...   \n3  1101_1130  ['user_submit_danmu_drama_avg_view_num', 'user...   \n4  1115_1215  ['user_intro_len', 'user_in_sound_danmu_around...   \n\n                                             CHONGHE  \\\n0  ['user_name_len', 'user_name_has_chinese', 'us...   \n1  ['user_name_len', 'user_name_has_chinese', 'us...   \n2  ['user_name_len', 'user_name_has_chinese', 'us...   \n3  ['user_name_len', 'user_name_has_chinese', 'us...   \n4  ['user_name_len', 'user_name_has_chinese', 'us...   \n\n                                               FUFEI  \\\n0  ['user_submit_danmu_drama_min_view_num', 'user...   \n1  ['user_submit_danmu_drama_max_danmu_num', 'use...   \n2  ['user_submit_danmu_drama_avg_view_num', 'user...   \n3  ['user_name_has_english', 'user_submit_danmu_d...   \n4  ['user_fans_num', 'user_submit_danmu_drama_com...   \n\n                                        QOE_continue  \\\n0  ['user_in_sound_submit_review_num','user_in_so...   \n1  ['user_in_sound_submit_danmu_total_len', 'soun...   \n2  ['user_submit_danmu_drama_min_danmu_num', 'sou...   \n3  ['user_submit_danmu_drama_avg_view_num', 'user...   \n4  ['user_in_sound_danmu_around_15s_total_danmu_a...   \n\n                                        QOE_discrete  \\\n0  ['user_name_has_english','user_in_sound_is_sub...   \n1  ['user_submit_danmu_drama_completed_num_now','...   \n2  ['user_name_has_english', 'user_icon_is_defaul...   \n3  ['sound_tag_num', 'drama_danmu_time_between_so...   \n4  ['user_intro_len','sound_danmu_submit_time_bet...   \n\n                                    CHONGHE_continue  \\\n0  ['user_name_len','user_intro_len','user_fish_n...   \n1  ['user_fish_num', 'user_follower_num', 'user_s...   \n2  ['user_fish_num', 'user_follower_num', 'user_s...   \n3  ['user_fish_num', 'user_follower_num', 'user_s...   \n4  ['user_fish_num', 'user_submit_danmu_drama_tot...   \n\n                                    CHONGHE_discrete  \\\n0  ['user_name_has_chinese','user_intro_has_chine...   \n1  ['user_name_len', 'user_name_has_chinese', 'us...   \n2  ['user_name_len', 'user_name_has_chinese', 'us...   \n3  ['user_name_len', 'user_name_has_chinese', 'us...   \n4  ['user_name_len', 'user_name_has_chinese', 'us...   \n\n                                      FUFEI_continue  \\\n0  ['user_submit_danmu_drama_min_view_num','user_...   \n1  ['user_submit_danmu_drama_max_danmu_num', 'use...   \n2  ['user_submit_danmu_drama_avg_view_num', 'user...   \n3  ['user_submit_danmu_drama_total_danmu_num', 'u...   \n4  ['user_fans_num', 'user_submit_danmu_drama_min...   \n\n                                      FUFEI_discrete  \n0  ['drama_intro_len','drama_upuser_subscriptions...  \n1  ['sound_danmu_15s_max_traffic_position_in_soun...  \n2  ['drama_danmu_time_between_sound_time_in_30day...  \n3  ['user_name_has_english','user_submit_danmu_dr...  \n4  ['user_submit_danmu_drama_completed_num_now','...  ",
      "text/html": "<div>\n<style scoped>\n    .dataframe tbody tr th:only-of-type {\n        vertical-align: middle;\n    }\n\n    .dataframe tbody tr th {\n        vertical-align: top;\n    }\n\n    .dataframe thead th {\n        text-align: right;\n    }\n</style>\n<table border=\"1\" class=\"dataframe\">\n  <thead>\n    <tr style=\"text-align: right;\">\n      <th></th>\n      <th>DataSet</th>\n      <th>QoE</th>\n      <th>CHONGHE</th>\n      <th>FUFEI</th>\n      <th>QOE_continue</th>\n      <th>QOE_discrete</th>\n      <th>CHONGHE_continue</th>\n      <th>CHONGHE_discrete</th>\n      <th>FUFEI_continue</th>\n      <th>FUFEI_discrete</th>\n    </tr>\n  </thead>\n  <tbody>\n    <tr>\n      <th>0</th>\n      <td>0101_0131</td>\n      <td>['user_name_has_english', 'user_in_sound_is_su...</td>\n      <td>['user_name_len', 'user_name_has_chinese', 'us...</td>\n      <td>['user_submit_danmu_drama_min_view_num', 'user...</td>\n      <td>['user_in_sound_submit_review_num','user_in_so...</td>\n      <td>['user_name_has_english','user_in_sound_is_sub...</td>\n      <td>['user_name_len','user_intro_len','user_fish_n...</td>\n      <td>['user_name_has_chinese','user_intro_has_chine...</td>\n      <td>['user_submit_danmu_drama_min_view_num','user_...</td>\n      <td>['drama_intro_len','drama_upuser_subscriptions...</td>\n    </tr>\n    <tr>\n      <th>1</th>\n      <td>0115_0215</td>\n      <td>['user_submit_danmu_drama_completed_num_now', ...</td>\n      <td>['user_name_len', 'user_name_has_chinese', 'us...</td>\n      <td>['user_submit_danmu_drama_max_danmu_num', 'use...</td>\n      <td>['user_in_sound_submit_danmu_total_len', 'soun...</td>\n      <td>['user_submit_danmu_drama_completed_num_now','...</td>\n      <td>['user_fish_num', 'user_follower_num', 'user_s...</td>\n      <td>['user_name_len', 'user_name_has_chinese', 'us...</td>\n      <td>['user_submit_danmu_drama_max_danmu_num', 'use...</td>\n      <td>['sound_danmu_15s_max_traffic_position_in_soun...</td>\n    </tr>\n    <tr>\n      <th>2</th>\n      <td>0201_0230</td>\n      <td>['user_name_has_english', 'user_icon_is_defaul...</td>\n      <td>['user_name_len', 'user_name_has_chinese', 'us...</td>\n      <td>['user_submit_danmu_drama_avg_view_num', 'user...</td>\n      <td>['user_submit_danmu_drama_min_danmu_num', 'sou...</td>\n      <td>['user_name_has_english', 'user_icon_is_defaul...</td>\n      <td>['user_fish_num', 'user_follower_num', 'user_s...</td>\n      <td>['user_name_len', 'user_name_has_chinese', 'us...</td>\n      <td>['user_submit_danmu_drama_avg_view_num', 'user...</td>\n      <td>['drama_danmu_time_between_sound_time_in_30day...</td>\n    </tr>\n    <tr>\n      <th>3</th>\n      <td>1101_1130</td>\n      <td>['user_submit_danmu_drama_avg_view_num', 'user...</td>\n      <td>['user_name_len', 'user_name_has_chinese', 'us...</td>\n      <td>['user_name_has_english', 'user_submit_danmu_d...</td>\n      <td>['user_submit_danmu_drama_avg_view_num', 'user...</td>\n      <td>['sound_tag_num', 'drama_danmu_time_between_so...</td>\n      <td>['user_fish_num', 'user_follower_num', 'user_s...</td>\n      <td>['user_name_len', 'user_name_has_chinese', 'us...</td>\n      <td>['user_submit_danmu_drama_total_danmu_num', 'u...</td>\n      <td>['user_name_has_english','user_submit_danmu_dr...</td>\n    </tr>\n    <tr>\n      <th>4</th>\n      <td>1115_1215</td>\n      <td>['user_intro_len', 'user_in_sound_danmu_around...</td>\n      <td>['user_name_len', 'user_name_has_chinese', 'us...</td>\n      <td>['user_fans_num', 'user_submit_danmu_drama_com...</td>\n      <td>['user_in_sound_danmu_around_15s_total_danmu_a...</td>\n      <td>['user_intro_len','sound_danmu_submit_time_bet...</td>\n      <td>['user_fish_num', 'user_submit_danmu_drama_tot...</td>\n      <td>['user_name_len', 'user_name_has_chinese', 'us...</td>\n      <td>['user_fans_num', 'user_submit_danmu_drama_min...</td>\n      <td>['user_submit_danmu_drama_completed_num_now','...</td>\n    </tr>\n  </tbody>\n</table>\n</div>"
     },
     "execution_count": 12,
     "metadata": {},
     "output_type": "execute_result"
    }
   ],
   "source": [
    "data.head()"
   ],
   "metadata": {
    "collapsed": false,
    "ExecuteTime": {
     "end_time": "2024-07-26T11:10:46.471612Z",
     "start_time": "2024-07-26T11:10:46.459632Z"
    }
   },
   "id": "2a5b499e31b3dfcb",
   "execution_count": 12
  },
  {
   "cell_type": "code",
   "outputs": [
    {
     "name": "stdout",
     "output_type": "stream",
     "text": [
      "25\n",
      "29\n",
      "29\n",
      "22\n",
      "3\n"
     ]
    }
   ],
   "source": [
    "print(len(eval(data[\"QoE\"][0])))\n",
    "print(len(eval(data[\"CHONGHE\"][0])))\n",
    "print(len(eval(data[\"FUFEI\"][0])))\n",
    "print(len(eval(data[\"QOE_continue\"][0])))\n",
    "print(len(eval(data[\"QOE_discrete\"][0])))\n",
    "\n"
   ],
   "metadata": {
    "collapsed": false,
    "ExecuteTime": {
     "end_time": "2024-07-26T11:12:12.702531Z",
     "start_time": "2024-07-26T11:12:12.696324Z"
    }
   },
   "id": "f8cd22d4e81bac18",
   "execution_count": 18
  },
  {
   "cell_type": "code",
   "outputs": [],
   "source": [
    "for col in eval(data['QoE'][0]):\n",
    "    print(col)"
   ],
   "metadata": {
    "collapsed": false
   },
   "id": "9b59a9e1e55e2fe9"
  }
 ],
 "metadata": {
  "kernelspec": {
   "display_name": "Python 3",
   "language": "python",
   "name": "python3"
  },
  "language_info": {
   "codemirror_mode": {
    "name": "ipython",
    "version": 2
   },
   "file_extension": ".py",
   "mimetype": "text/x-python",
   "name": "python",
   "nbconvert_exporter": "python",
   "pygments_lexer": "ipython2",
   "version": "2.7.6"
  }
 },
 "nbformat": 4,
 "nbformat_minor": 5
}
